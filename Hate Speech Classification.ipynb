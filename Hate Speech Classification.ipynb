{
 "cells": [
  {
   "cell_type": "markdown",
   "metadata": {
    "id": "ySsIPBRiorxK"
   },
   "source": [
    "**Dataset**\n",
    "labeled datasset collected from twitter (Lab 1 - Hate Speech.tsv)\n",
    "\n",
    "**Objective**\n",
    "classify tweets containing hate speech from other tweets. <br>\n",
    "0 -> no hate speech <br>\n",
    "1 -> contains hate speech <br>\n",
    "\n",
    "\n",
    "**Evaluation metric**\n",
    "macro f1 score"
   ]
  },
  {
   "cell_type": "markdown",
   "metadata": {
    "id": "v-6lrKz6orxT"
   },
   "source": [
    "### Import used libraries"
   ]
  },
  {
   "cell_type": "code",
   "execution_count": 96,
   "metadata": {},
   "outputs": [
    {
     "name": "stdout",
     "output_type": "stream",
     "text": [
      "Requirement already satisfied: tensorflow in c:\\users\\pccv\\appdata\\local\\programs\\python\\python311\\lib\\site-packages (2.15.0)\n",
      "Requirement already satisfied: tensorflow-intel==2.15.0 in c:\\users\\pccv\\appdata\\local\\programs\\python\\python311\\lib\\site-packages (from tensorflow) (2.15.0)\n",
      "Requirement already satisfied: absl-py>=1.0.0 in c:\\users\\pccv\\appdata\\local\\programs\\python\\python311\\lib\\site-packages (from tensorflow-intel==2.15.0->tensorflow) (2.2.2)\n",
      "Requirement already satisfied: astunparse>=1.6.0 in c:\\users\\pccv\\appdata\\local\\programs\\python\\python311\\lib\\site-packages (from tensorflow-intel==2.15.0->tensorflow) (1.6.3)\n",
      "Requirement already satisfied: flatbuffers>=23.5.26 in c:\\users\\pccv\\appdata\\local\\programs\\python\\python311\\lib\\site-packages (from tensorflow-intel==2.15.0->tensorflow) (25.2.10)\n",
      "Requirement already satisfied: gast!=0.5.0,!=0.5.1,!=0.5.2,>=0.2.1 in c:\\users\\pccv\\appdata\\local\\programs\\python\\python311\\lib\\site-packages (from tensorflow-intel==2.15.0->tensorflow) (0.4.0)\n",
      "Requirement already satisfied: google-pasta>=0.1.1 in c:\\users\\pccv\\appdata\\local\\programs\\python\\python311\\lib\\site-packages (from tensorflow-intel==2.15.0->tensorflow) (0.2.0)\n",
      "Requirement already satisfied: h5py>=2.9.0 in c:\\users\\pccv\\appdata\\local\\programs\\python\\python311\\lib\\site-packages (from tensorflow-intel==2.15.0->tensorflow) (3.13.0)\n",
      "Requirement already satisfied: libclang>=13.0.0 in c:\\users\\pccv\\appdata\\local\\programs\\python\\python311\\lib\\site-packages (from tensorflow-intel==2.15.0->tensorflow) (18.1.1)\n",
      "Requirement already satisfied: ml-dtypes~=0.2.0 in c:\\users\\pccv\\appdata\\local\\programs\\python\\python311\\lib\\site-packages (from tensorflow-intel==2.15.0->tensorflow) (0.2.0)\n",
      "Requirement already satisfied: numpy<2.0.0,>=1.23.5 in c:\\users\\pccv\\appdata\\local\\programs\\python\\python311\\lib\\site-packages (from tensorflow-intel==2.15.0->tensorflow) (1.24.3)\n",
      "Requirement already satisfied: opt-einsum>=2.3.2 in c:\\users\\pccv\\appdata\\local\\programs\\python\\python311\\lib\\site-packages (from tensorflow-intel==2.15.0->tensorflow) (3.4.0)\n",
      "Requirement already satisfied: packaging in c:\\users\\pccv\\appdata\\local\\programs\\python\\python311\\lib\\site-packages (from tensorflow-intel==2.15.0->tensorflow) (24.2)\n",
      "Requirement already satisfied: protobuf!=4.21.0,!=4.21.1,!=4.21.2,!=4.21.3,!=4.21.4,!=4.21.5,<5.0.0dev,>=3.20.3 in c:\\users\\pccv\\appdata\\local\\programs\\python\\python311\\lib\\site-packages (from tensorflow-intel==2.15.0->tensorflow) (4.25.6)\n",
      "Requirement already satisfied: setuptools in c:\\users\\pccv\\appdata\\local\\programs\\python\\python311\\lib\\site-packages (from tensorflow-intel==2.15.0->tensorflow) (65.5.0)\n",
      "Requirement already satisfied: six>=1.12.0 in c:\\users\\pccv\\appdata\\local\\programs\\python\\python311\\lib\\site-packages (from tensorflow-intel==2.15.0->tensorflow) (1.17.0)\n",
      "Requirement already satisfied: termcolor>=1.1.0 in c:\\users\\pccv\\appdata\\local\\programs\\python\\python311\\lib\\site-packages (from tensorflow-intel==2.15.0->tensorflow) (3.0.1)\n",
      "Requirement already satisfied: typing-extensions>=3.6.6 in c:\\users\\pccv\\appdata\\local\\programs\\python\\python311\\lib\\site-packages (from tensorflow-intel==2.15.0->tensorflow) (4.13.2)\n",
      "Requirement already satisfied: wrapt<1.15,>=1.11.0 in c:\\users\\pccv\\appdata\\local\\programs\\python\\python311\\lib\\site-packages (from tensorflow-intel==2.15.0->tensorflow) (1.14.1)\n",
      "Requirement already satisfied: tensorflow-io-gcs-filesystem>=0.23.1 in c:\\users\\pccv\\appdata\\local\\programs\\python\\python311\\lib\\site-packages (from tensorflow-intel==2.15.0->tensorflow) (0.31.0)\n",
      "Requirement already satisfied: grpcio<2.0,>=1.24.3 in c:\\users\\pccv\\appdata\\local\\programs\\python\\python311\\lib\\site-packages (from tensorflow-intel==2.15.0->tensorflow) (1.71.0)\n",
      "Requirement already satisfied: tensorboard<2.16,>=2.15 in c:\\users\\pccv\\appdata\\local\\programs\\python\\python311\\lib\\site-packages (from tensorflow-intel==2.15.0->tensorflow) (2.15.2)\n",
      "Requirement already satisfied: tensorflow-estimator<2.16,>=2.15.0 in c:\\users\\pccv\\appdata\\local\\programs\\python\\python311\\lib\\site-packages (from tensorflow-intel==2.15.0->tensorflow) (2.15.0)\n",
      "Requirement already satisfied: keras<2.16,>=2.15.0 in c:\\users\\pccv\\appdata\\local\\programs\\python\\python311\\lib\\site-packages (from tensorflow-intel==2.15.0->tensorflow) (2.15.0)\n",
      "Requirement already satisfied: wheel<1.0,>=0.23.0 in c:\\users\\pccv\\appdata\\local\\programs\\python\\python311\\lib\\site-packages (from astunparse>=1.6.0->tensorflow-intel==2.15.0->tensorflow) (0.45.1)\n",
      "Requirement already satisfied: google-auth<3,>=1.6.3 in c:\\users\\pccv\\appdata\\local\\programs\\python\\python311\\lib\\site-packages (from tensorboard<2.16,>=2.15->tensorflow-intel==2.15.0->tensorflow) (2.38.0)\n",
      "Requirement already satisfied: google-auth-oauthlib<2,>=0.5 in c:\\users\\pccv\\appdata\\local\\programs\\python\\python311\\lib\\site-packages (from tensorboard<2.16,>=2.15->tensorflow-intel==2.15.0->tensorflow) (1.0.0)\n",
      "Requirement already satisfied: markdown>=2.6.8 in c:\\users\\pccv\\appdata\\local\\programs\\python\\python311\\lib\\site-packages (from tensorboard<2.16,>=2.15->tensorflow-intel==2.15.0->tensorflow) (3.7)\n",
      "Requirement already satisfied: requests<3,>=2.21.0 in c:\\users\\pccv\\appdata\\local\\programs\\python\\python311\\lib\\site-packages (from tensorboard<2.16,>=2.15->tensorflow-intel==2.15.0->tensorflow) (2.32.3)\n",
      "Requirement already satisfied: tensorboard-data-server<0.8.0,>=0.7.0 in c:\\users\\pccv\\appdata\\local\\programs\\python\\python311\\lib\\site-packages (from tensorboard<2.16,>=2.15->tensorflow-intel==2.15.0->tensorflow) (0.7.2)\n",
      "Requirement already satisfied: werkzeug>=1.0.1 in c:\\users\\pccv\\appdata\\local\\programs\\python\\python311\\lib\\site-packages (from tensorboard<2.16,>=2.15->tensorflow-intel==2.15.0->tensorflow) (3.0.6)\n",
      "Requirement already satisfied: cachetools<6.0,>=2.0.0 in c:\\users\\pccv\\appdata\\local\\programs\\python\\python311\\lib\\site-packages (from google-auth<3,>=1.6.3->tensorboard<2.16,>=2.15->tensorflow-intel==2.15.0->tensorflow) (5.5.2)\n",
      "Requirement already satisfied: pyasn1-modules>=0.2.1 in c:\\users\\pccv\\appdata\\local\\programs\\python\\python311\\lib\\site-packages (from google-auth<3,>=1.6.3->tensorboard<2.16,>=2.15->tensorflow-intel==2.15.0->tensorflow) (0.4.2)\n",
      "Requirement already satisfied: rsa<5,>=3.1.4 in c:\\users\\pccv\\appdata\\local\\programs\\python\\python311\\lib\\site-packages (from google-auth<3,>=1.6.3->tensorboard<2.16,>=2.15->tensorflow-intel==2.15.0->tensorflow) (4.9)\n",
      "Requirement already satisfied: requests-oauthlib>=0.7.0 in c:\\users\\pccv\\appdata\\local\\programs\\python\\python311\\lib\\site-packages (from google-auth-oauthlib<2,>=0.5->tensorboard<2.16,>=2.15->tensorflow-intel==2.15.0->tensorflow) (2.0.0)\n",
      "Requirement already satisfied: charset-normalizer<4,>=2 in c:\\users\\pccv\\appdata\\local\\programs\\python\\python311\\lib\\site-packages (from requests<3,>=2.21.0->tensorboard<2.16,>=2.15->tensorflow-intel==2.15.0->tensorflow) (3.4.1)\n",
      "Requirement already satisfied: idna<4,>=2.5 in c:\\users\\pccv\\appdata\\local\\programs\\python\\python311\\lib\\site-packages (from requests<3,>=2.21.0->tensorboard<2.16,>=2.15->tensorflow-intel==2.15.0->tensorflow) (3.10)\n",
      "Requirement already satisfied: urllib3<3,>=1.21.1 in c:\\users\\pccv\\appdata\\local\\programs\\python\\python311\\lib\\site-packages (from requests<3,>=2.21.0->tensorboard<2.16,>=2.15->tensorflow-intel==2.15.0->tensorflow) (2.3.0)\n",
      "Requirement already satisfied: certifi>=2017.4.17 in c:\\users\\pccv\\appdata\\local\\programs\\python\\python311\\lib\\site-packages (from requests<3,>=2.21.0->tensorboard<2.16,>=2.15->tensorflow-intel==2.15.0->tensorflow) (2025.1.31)\n",
      "Requirement already satisfied: MarkupSafe>=2.1.1 in c:\\users\\pccv\\appdata\\local\\programs\\python\\python311\\lib\\site-packages (from werkzeug>=1.0.1->tensorboard<2.16,>=2.15->tensorflow-intel==2.15.0->tensorflow) (3.0.2)\n",
      "Requirement already satisfied: pyasn1<0.7.0,>=0.6.1 in c:\\users\\pccv\\appdata\\local\\programs\\python\\python311\\lib\\site-packages (from pyasn1-modules>=0.2.1->google-auth<3,>=1.6.3->tensorboard<2.16,>=2.15->tensorflow-intel==2.15.0->tensorflow) (0.6.1)\n",
      "Requirement already satisfied: oauthlib>=3.0.0 in c:\\users\\pccv\\appdata\\local\\programs\\python\\python311\\lib\\site-packages (from requests-oauthlib>=0.7.0->google-auth-oauthlib<2,>=0.5->tensorboard<2.16,>=2.15->tensorflow-intel==2.15.0->tensorflow) (3.2.2)\n",
      "Note: you may need to restart the kernel to use updated packages.\n"
     ]
    }
   ],
   "source": [
    "%pip install tensorflow"
   ]
  },
  {
   "cell_type": "code",
   "execution_count": 6,
   "metadata": {},
   "outputs": [
    {
     "name": "stdout",
     "output_type": "stream",
     "text": [
      "Requirement already satisfied: emoji in c:\\users\\pccv\\appdata\\local\\packages\\pythonsoftwarefoundation.python.3.11_qbz5n2kfra8p0\\localcache\\local-packages\\python311\\site-packages (2.14.1)\n",
      "Note: you may need to restart the kernel to use updated packages.\n"
     ]
    },
    {
     "name": "stderr",
     "output_type": "stream",
     "text": [
      "\n",
      "[notice] A new release of pip is available: 24.0 -> 25.0.1\n",
      "[notice] To update, run: C:\\Users\\PCCV\\AppData\\Local\\Microsoft\\WindowsApps\\PythonSoftwareFoundation.Python.3.11_qbz5n2kfra8p0\\python.exe -m pip install --upgrade pip\n"
     ]
    },
    {
     "name": "stdout",
     "output_type": "stream",
     "text": [
      "Requirement already satisfied: nltk in c:\\users\\pccv\\appdata\\local\\packages\\pythonsoftwarefoundation.python.3.11_qbz5n2kfra8p0\\localcache\\local-packages\\python311\\site-packages (3.9.1)\n",
      "Requirement already satisfied: click in c:\\users\\pccv\\appdata\\local\\packages\\pythonsoftwarefoundation.python.3.11_qbz5n2kfra8p0\\localcache\\local-packages\\python311\\site-packages (from nltk) (8.1.8)\n",
      "Requirement already satisfied: joblib in c:\\users\\pccv\\appdata\\local\\packages\\pythonsoftwarefoundation.python.3.11_qbz5n2kfra8p0\\localcache\\local-packages\\python311\\site-packages (from nltk) (1.4.2)\n",
      "Requirement already satisfied: regex>=2021.8.3 in c:\\users\\pccv\\appdata\\local\\packages\\pythonsoftwarefoundation.python.3.11_qbz5n2kfra8p0\\localcache\\local-packages\\python311\\site-packages (from nltk) (2024.11.6)\n",
      "Requirement already satisfied: tqdm in c:\\users\\pccv\\appdata\\local\\packages\\pythonsoftwarefoundation.python.3.11_qbz5n2kfra8p0\\localcache\\local-packages\\python311\\site-packages (from nltk) (4.67.1)\n",
      "Requirement already satisfied: colorama in c:\\users\\pccv\\appdata\\local\\packages\\pythonsoftwarefoundation.python.3.11_qbz5n2kfra8p0\\localcache\\local-packages\\python311\\site-packages (from click->nltk) (0.4.6)\n",
      "Note: you may need to restart the kernel to use updated packages.\n"
     ]
    },
    {
     "name": "stderr",
     "output_type": "stream",
     "text": [
      "\n",
      "[notice] A new release of pip is available: 24.0 -> 25.0.1\n",
      "[notice] To update, run: C:\\Users\\PCCV\\AppData\\Local\\Microsoft\\WindowsApps\\PythonSoftwareFoundation.Python.3.11_qbz5n2kfra8p0\\python.exe -m pip install --upgrade pip\n"
     ]
    },
    {
     "name": "stdout",
     "output_type": "stream",
     "text": [
      "Requirement already satisfied: contractions in c:\\users\\pccv\\appdata\\local\\packages\\pythonsoftwarefoundation.python.3.11_qbz5n2kfra8p0\\localcache\\local-packages\\python311\\site-packages (0.1.73)\n",
      "Requirement already satisfied: textsearch>=0.0.21 in c:\\users\\pccv\\appdata\\local\\packages\\pythonsoftwarefoundation.python.3.11_qbz5n2kfra8p0\\localcache\\local-packages\\python311\\site-packages (from contractions) (0.0.24)\n",
      "Requirement already satisfied: anyascii in c:\\users\\pccv\\appdata\\local\\packages\\pythonsoftwarefoundation.python.3.11_qbz5n2kfra8p0\\localcache\\local-packages\\python311\\site-packages (from textsearch>=0.0.21->contractions) (0.3.2)\n",
      "Requirement already satisfied: pyahocorasick in c:\\users\\pccv\\appdata\\local\\packages\\pythonsoftwarefoundation.python.3.11_qbz5n2kfra8p0\\localcache\\local-packages\\python311\\site-packages (from textsearch>=0.0.21->contractions) (2.1.0)\n",
      "Note: you may need to restart the kernel to use updated packages.\n"
     ]
    },
    {
     "name": "stderr",
     "output_type": "stream",
     "text": [
      "\n",
      "[notice] A new release of pip is available: 24.0 -> 25.0.1\n",
      "[notice] To update, run: C:\\Users\\PCCV\\AppData\\Local\\Microsoft\\WindowsApps\\PythonSoftwareFoundation.Python.3.11_qbz5n2kfra8p0\\python.exe -m pip install --upgrade pip\n"
     ]
    },
    {
     "name": "stdout",
     "output_type": "stream",
     "text": [
      "Requirement already satisfied: imblearn in c:\\users\\pccv\\appdata\\local\\packages\\pythonsoftwarefoundation.python.3.11_qbz5n2kfra8p0\\localcache\\local-packages\\python311\\site-packages (0.0)\n",
      "Requirement already satisfied: imbalanced-learn in c:\\users\\pccv\\appdata\\local\\packages\\pythonsoftwarefoundation.python.3.11_qbz5n2kfra8p0\\localcache\\local-packages\\python311\\site-packages (from imblearn) (0.13.0)\n",
      "Requirement already satisfied: numpy<3,>=1.24.3 in c:\\users\\pccv\\appdata\\local\\packages\\pythonsoftwarefoundation.python.3.11_qbz5n2kfra8p0\\localcache\\local-packages\\python311\\site-packages (from imbalanced-learn->imblearn) (2.1.3)\n",
      "Requirement already satisfied: scipy<2,>=1.10.1 in c:\\users\\pccv\\appdata\\local\\packages\\pythonsoftwarefoundation.python.3.11_qbz5n2kfra8p0\\localcache\\local-packages\\python311\\site-packages (from imbalanced-learn->imblearn) (1.14.1)\n",
      "Requirement already satisfied: scikit-learn<2,>=1.3.2 in c:\\users\\pccv\\appdata\\local\\packages\\pythonsoftwarefoundation.python.3.11_qbz5n2kfra8p0\\localcache\\local-packages\\python311\\site-packages (from imbalanced-learn->imblearn) (1.6.0)\n",
      "Requirement already satisfied: sklearn-compat<1,>=0.1 in c:\\users\\pccv\\appdata\\local\\packages\\pythonsoftwarefoundation.python.3.11_qbz5n2kfra8p0\\localcache\\local-packages\\python311\\site-packages (from imbalanced-learn->imblearn) (0.1.3)\n",
      "Requirement already satisfied: joblib<2,>=1.1.1 in c:\\users\\pccv\\appdata\\local\\packages\\pythonsoftwarefoundation.python.3.11_qbz5n2kfra8p0\\localcache\\local-packages\\python311\\site-packages (from imbalanced-learn->imblearn) (1.4.2)\n",
      "Requirement already satisfied: threadpoolctl<4,>=2.0.0 in c:\\users\\pccv\\appdata\\local\\packages\\pythonsoftwarefoundation.python.3.11_qbz5n2kfra8p0\\localcache\\local-packages\\python311\\site-packages (from imbalanced-learn->imblearn) (3.5.0)\n",
      "Note: you may need to restart the kernel to use updated packages.\n"
     ]
    },
    {
     "name": "stderr",
     "output_type": "stream",
     "text": [
      "\n",
      "[notice] A new release of pip is available: 24.0 -> 25.0.1\n",
      "[notice] To update, run: C:\\Users\\PCCV\\AppData\\Local\\Microsoft\\WindowsApps\\PythonSoftwareFoundation.Python.3.11_qbz5n2kfra8p0\\python.exe -m pip install --upgrade pip\n"
     ]
    },
    {
     "name": "stdout",
     "output_type": "stream",
     "text": [
      "Collecting gensim\n",
      "  Using cached gensim-4.3.3-cp311-cp311-win_amd64.whl.metadata (8.2 kB)\n",
      "Collecting numpy<2.0,>=1.18.5 (from gensim)\n",
      "  Using cached numpy-1.26.4-cp311-cp311-win_amd64.whl.metadata (61 kB)\n",
      "Collecting scipy<1.14.0,>=1.7.0 (from gensim)\n",
      "  Using cached scipy-1.13.1-cp311-cp311-win_amd64.whl.metadata (60 kB)\n",
      "Collecting smart-open>=1.8.1 (from gensim)\n",
      "  Using cached smart_open-7.1.0-py3-none-any.whl.metadata (24 kB)\n",
      "Requirement already satisfied: wrapt in c:\\users\\pccv\\appdata\\local\\packages\\pythonsoftwarefoundation.python.3.11_qbz5n2kfra8p0\\localcache\\local-packages\\python311\\site-packages (from smart-open>=1.8.1->gensim) (1.17.2)\n",
      "Using cached gensim-4.3.3-cp311-cp311-win_amd64.whl (24.0 MB)\n",
      "Using cached numpy-1.26.4-cp311-cp311-win_amd64.whl (15.8 MB)\n",
      "Using cached scipy-1.13.1-cp311-cp311-win_amd64.whl (46.2 MB)\n",
      "Using cached smart_open-7.1.0-py3-none-any.whl (61 kB)\n",
      "Installing collected packages: smart-open, numpy, scipy, gensim\n",
      "  Attempting uninstall: numpy\n",
      "    Found existing installation: numpy 2.1.3\n",
      "    Uninstalling numpy-2.1.3:\n",
      "      Successfully uninstalled numpy-2.1.3\n",
      "  Attempting uninstall: scipy\n",
      "    Found existing installation: scipy 1.14.1\n",
      "    Uninstalling scipy-1.14.1:\n",
      "      Successfully uninstalled scipy-1.14.1\n",
      "Successfully installed gensim-4.3.3 numpy-1.26.4 scipy-1.13.1 smart-open-7.1.0\n",
      "Note: you may need to restart the kernel to use updated packages.\n"
     ]
    },
    {
     "name": "stderr",
     "output_type": "stream",
     "text": [
      "  WARNING: Failed to remove contents in a temporary directory 'C:\\Users\\PCCV\\AppData\\Local\\Packages\\PythonSoftwareFoundation.Python.3.11_qbz5n2kfra8p0\\LocalCache\\local-packages\\Python311\\site-packages\\~umpy.libs'.\n",
      "  You can safely remove it manually.\n",
      "  WARNING: Failed to remove contents in a temporary directory 'C:\\Users\\PCCV\\AppData\\Local\\Packages\\PythonSoftwareFoundation.Python.3.11_qbz5n2kfra8p0\\LocalCache\\local-packages\\Python311\\site-packages\\~umpy'.\n",
      "  You can safely remove it manually.\n",
      "  WARNING: Failed to remove contents in a temporary directory 'C:\\Users\\PCCV\\AppData\\Local\\Packages\\PythonSoftwareFoundation.Python.3.11_qbz5n2kfra8p0\\LocalCache\\local-packages\\Python311\\site-packages\\~cipy.libs'.\n",
      "  You can safely remove it manually.\n",
      "  WARNING: Failed to remove contents in a temporary directory 'C:\\Users\\PCCV\\AppData\\Local\\Packages\\PythonSoftwareFoundation.Python.3.11_qbz5n2kfra8p0\\LocalCache\\local-packages\\Python311\\site-packages\\~cipy'.\n",
      "  You can safely remove it manually.\n",
      "\n",
      "[notice] A new release of pip is available: 24.0 -> 25.0.1\n",
      "[notice] To update, run: C:\\Users\\PCCV\\AppData\\Local\\Microsoft\\WindowsApps\\PythonSoftwareFoundation.Python.3.11_qbz5n2kfra8p0\\python.exe -m pip install --upgrade pip\n"
     ]
    }
   ],
   "source": [
    "%pip install emoji\n",
    "%pip install nltk\n",
    "%pip install contractions\n",
    "%pip install imblearn\n",
    "%pip install gensim"
   ]
  },
  {
   "cell_type": "code",
   "execution_count": 1,
   "metadata": {
    "id": "eXUPo3g4orxV"
   },
   "outputs": [],
   "source": [
    "import pandas as pd\n",
    "pd.set_option('display.max_rows', 500)\n",
    "pd.set_option('display.max_colwidth', 500)\n",
    "import numpy as np\n",
    "from sklearn.model_selection import train_test_split\n",
    "import matplotlib.pyplot as plt\n",
    "import seaborn as sns\n",
    "import re\n",
    "import string\n",
    "import emoji\n",
    "import nltk\n",
    "import contractions\n",
    "from nltk.corpus import stopwords\n",
    "from nltk.tokenize import word_tokenize\n",
    "from nltk.stem import WordNetLemmatizer\n",
    "from collections import Counter\n",
    "from sklearn.base import BaseEstimator, TransformerMixin\n",
    "from sklearn.pipeline import Pipeline\n",
    "from imblearn.pipeline import Pipeline as ImbPipeline \n",
    "from imblearn.over_sampling import SMOTE\n",
    "from sklearn.linear_model import LogisticRegression\n",
    "from sklearn.feature_extraction.text import TfidfVectorizer , CountVectorizer\n",
    "from gensim.models import Word2Vec, KeyedVectors, FastText\n",
    "from sklearn.metrics import classification_report , f1_score \n",
    "from sklearn.model_selection import GridSearchCV\n",
    "from sklearn.tree import DecisionTreeClassifier\n",
    "from sklearn.ensemble import RandomForestClassifier\n",
    "from sklearn.svm import SVC , LinearSVC\n",
    "import tensorflow as tf\n",
    "from tensorflow.keras.preprocessing.text import Tokenizer\n",
    "from tensorflow.keras.preprocessing.sequence import pad_sequences\n",
    "from keras.models import Sequential\n",
    "from keras.layers import Conv1D, MaxPooling1D, GlobalMaxPooling1D, Dense, Embedding, Dropout"
   ]
  },
  {
   "cell_type": "markdown",
   "metadata": {
    "id": "fG8MkuvjorxX"
   },
   "source": [
    "### Load Dataset"
   ]
  },
  {
   "cell_type": "code",
   "execution_count": 2,
   "metadata": {
    "id": "BYeqhp66orxY"
   },
   "outputs": [
    {
     "data": {
      "application/vnd.microsoft.datawrangler.viewer.v0+json": {
       "columns": [
        {
         "name": "id",
         "rawType": "int64",
         "type": "integer"
        },
        {
         "name": "label",
         "rawType": "int64",
         "type": "integer"
        },
        {
         "name": "tweet",
         "rawType": "object",
         "type": "string"
        }
       ],
       "conversionMethod": "pd.DataFrame",
       "ref": "75459f30-74d3-4441-8cc4-60113648a1f7",
       "rows": [
        [
         "1",
         "0",
         "@user when a father is dysfunctional and is so selfish he drags his kids into his dysfunction.   #run"
        ],
        [
         "2",
         "0",
         "@user @user thanks for #lyft credit i can't use cause they don't offer wheelchair vans in pdx.    #disapointed #getthanked"
        ],
        [
         "3",
         "0",
         "bihday your majesty"
        ],
        [
         "4",
         "0",
         "#model   i love u take with u all the time in urð±!!! ððððð¦ð¦ð¦"
        ],
        [
         "5",
         "0",
         "factsguide: society now    #motivation"
        ],
        [
         "6",
         "0",
         "[2/2] huge fan fare and big talking before they leave. chaos and pay disputes when they get there. #allshowandnogo"
        ],
        [
         "7",
         "0",
         "@user camping tomorrow @user @user @user @user @user @user @user dannyâ¦"
        ],
        [
         "8",
         "0",
         "the next school year is the year for exams.ð¯ can't think about that ð­ #school #exams   #hate #imagine #actorslife #revolutionschool #girl"
        ],
        [
         "9",
         "0",
         "we won!!! love the land!!! #allin #cavs #champions #cleveland #clevelandcavaliers  â¦"
        ],
        [
         "10",
         "0",
         "@user @user welcome here !  i'm   it's so #gr8 !"
        ],
        [
         "11",
         "0",
         "â #ireland consumer price index (mom) climbed from previous 0.2% to 0.5% in may   #blog #silver #gold #forex"
        ],
        [
         "12",
         "0",
         "we are so selfish. #orlando #standwithorlando #pulseshooting #orlandoshooting #biggerproblems #selfish #heabreaking   #values #love #"
        ],
        [
         "13",
         "0",
         "i get to see my daddy today!!   #80days #gettingfed"
        ],
        [
         "14",
         "1",
         "@user #cnn calls #michigan middle school 'build the wall' chant '' #tcot"
        ],
        [
         "15",
         "1",
         "no comment!  in #australia   #opkillingbay #seashepherd #helpcovedolphins #thecove  #helpcovedolphins"
        ],
        [
         "16",
         "0",
         "ouch...junior is angryð#got7 #junior #yugyoem   #omg"
        ],
        [
         "17",
         "0",
         "i am thankful for having a paner. #thankful #positive"
        ],
        [
         "18",
         "1",
         "retweet if you agree!"
        ],
        [
         "19",
         "0",
         "its #friday! ð smiles all around via ig user: @user #cookies make people"
        ],
        [
         "20",
         "0",
         "as we all know, essential oils are not made of chemicals. "
        ],
        [
         "21",
         "0",
         "#euro2016 people blaming ha for conceded goal was it fat rooney who gave away free kick knowing bale can hit them from there."
        ],
        [
         "22",
         "0",
         "sad little dude..   #badday #coneofshame #cats #pissed #funny #laughs"
        ],
        [
         "23",
         "0",
         "product of the day: happy man #wine tool  who's   it's the #weekend? time to open up &amp; drink up!"
        ],
        [
         "24",
         "1",
         "@user @user lumpy says i am a . prove it lumpy."
        ],
        [
         "25",
         "0",
         "@user #tgif   #ff to my #gamedev #indiedev #indiegamedev #squad! @user @user @user @user @user"
        ],
        [
         "26",
         "0",
         "beautiful sign by vendor 80 for $45.00!! #upsideofflorida #shopalyssas   #love"
        ],
        [
         "27",
         "0",
         "@user all #smiles when #media is   !! ðð #pressconference in #antalya #turkey ! sunday #throwback  love! ððâ¤ï¸"
        ],
        [
         "28",
         "0",
         "we had a great panel on the mediatization of the public service   #ica16"
        ],
        [
         "29",
         "0",
         "happy father's day @user ðððð"
        ],
        [
         "30",
         "0",
         "50 people went to nightclub to have a good night and 1 man's actions means those people are lost to their families forever #rip#orlando"
        ],
        [
         "31",
         "0",
         "i have never had a chance to vote for a presidential candidate i was excited about and this cycle looks to be no different."
        ],
        [
         "32",
         "0",
         "#alohafriday #time does #not #exist #positivevibes #hawaiian @user @user @user @user"
        ],
        [
         "33",
         "0",
         " @user rip to the fellow nohern ireland fan who sadley passed away tonight!.. gawa, forever singing and cheering on fire  "
        ],
        [
         "34",
         "0",
         "it was a hard monday due to cloudy weather. disabling oxygen production for today. #goodnight #badmonday"
        ],
        [
         "35",
         "1",
         "it's unbelievable that in the 21st century we'd need something like this. again. #neverump  #xenophobia"
        ],
        [
         "36",
         "0",
         "#taylorswift1989   bull up: you will dominate your bull and you will direct it whatever you want it to do. w"
        ],
        [
         "37",
         "0",
         "morning~~ #travelingram #dalat   #ripinkylife"
        ],
        [
         "38",
         "0",
         "@user once more only one word tells it all: #photoshop.  #enoughisenough #dontphotoshopeverything #wheresallthenaturalphotos"
        ],
        [
         "39",
         "0",
         "oh, #cedarpoint. waited 2 hours in the valravn line and it stopped working. we were so close.  "
        ],
        [
         "40",
         "0",
         "i am thankful for sunshine. #thankful #positive"
        ],
        [
         "41",
         "0",
         "when you finally finish a book you've been working on for awhile...  #bookworm #ontothenextnovel"
        ],
        [
         "42",
         "0",
         "yup, being a knicks fan is hard, so its easier to just be an nba fan when the playoffs roll around ð "
        ],
        [
         "43",
         "0",
         "there is life after social networking. embrace each day. be"
        ],
        [
         "44",
         "0",
         "my mom shares the same bihday as @user   bihday snake! see you this weekend ðð¼"
        ],
        [
         "45",
         "0",
         "lovely echeveria blooms#flowers #grow #gardening #iphonesia #bliss #blooms #basilicabotanica"
        ],
        [
         "46",
         "0",
         "i am amazing. #i_am #positive #affirmation"
        ],
        [
         "47",
         "0",
         "#model   i love u take with u all the time in urð±!!! ððððð¦ð¦ð¦"
        ],
        [
         "48",
         "0",
         "#whenever im   and #something goes #wrong  |"
        ],
        [
         "49",
         "0",
         "feeling blue #illustration"
        ],
        [
         "50",
         "0",
         "the best pa about life is knowing who you are! ðâï¸ð¼ð»  â¦"
        ]
       ],
       "shape": {
        "columns": 2,
        "rows": 100
       }
      },
      "text/html": [
       "<div>\n",
       "<style scoped>\n",
       "    .dataframe tbody tr th:only-of-type {\n",
       "        vertical-align: middle;\n",
       "    }\n",
       "\n",
       "    .dataframe tbody tr th {\n",
       "        vertical-align: top;\n",
       "    }\n",
       "\n",
       "    .dataframe thead th {\n",
       "        text-align: right;\n",
       "    }\n",
       "</style>\n",
       "<table border=\"1\" class=\"dataframe\">\n",
       "  <thead>\n",
       "    <tr style=\"text-align: right;\">\n",
       "      <th></th>\n",
       "      <th>label</th>\n",
       "      <th>tweet</th>\n",
       "    </tr>\n",
       "    <tr>\n",
       "      <th>id</th>\n",
       "      <th></th>\n",
       "      <th></th>\n",
       "    </tr>\n",
       "  </thead>\n",
       "  <tbody>\n",
       "    <tr>\n",
       "      <th>1</th>\n",
       "      <td>0</td>\n",
       "      <td>@user when a father is dysfunctional and is so selfish he drags his kids into his dysfunction.   #run</td>\n",
       "    </tr>\n",
       "    <tr>\n",
       "      <th>2</th>\n",
       "      <td>0</td>\n",
       "      <td>@user @user thanks for #lyft credit i can't use cause they don't offer wheelchair vans in pdx.    #disapointed #getthanked</td>\n",
       "    </tr>\n",
       "    <tr>\n",
       "      <th>3</th>\n",
       "      <td>0</td>\n",
       "      <td>bihday your majesty</td>\n",
       "    </tr>\n",
       "    <tr>\n",
       "      <th>4</th>\n",
       "      <td>0</td>\n",
       "      <td>#model   i love u take with u all the time in urð±!!! ððððð¦ð¦ð¦</td>\n",
       "    </tr>\n",
       "    <tr>\n",
       "      <th>5</th>\n",
       "      <td>0</td>\n",
       "      <td>factsguide: society now    #motivation</td>\n",
       "    </tr>\n",
       "    <tr>\n",
       "      <th>6</th>\n",
       "      <td>0</td>\n",
       "      <td>[2/2] huge fan fare and big talking before they leave. chaos and pay disputes when they get there. #allshowandnogo</td>\n",
       "    </tr>\n",
       "    <tr>\n",
       "      <th>7</th>\n",
       "      <td>0</td>\n",
       "      <td>@user camping tomorrow @user @user @user @user @user @user @user dannyâ¦</td>\n",
       "    </tr>\n",
       "    <tr>\n",
       "      <th>8</th>\n",
       "      <td>0</td>\n",
       "      <td>the next school year is the year for exams.ð¯ can't think about that ð­ #school #exams   #hate #imagine #actorslife #revolutionschool #girl</td>\n",
       "    </tr>\n",
       "    <tr>\n",
       "      <th>9</th>\n",
       "      <td>0</td>\n",
       "      <td>we won!!! love the land!!! #allin #cavs #champions #cleveland #clevelandcavaliers  â¦</td>\n",
       "    </tr>\n",
       "    <tr>\n",
       "      <th>10</th>\n",
       "      <td>0</td>\n",
       "      <td>@user @user welcome here !  i'm   it's so #gr8 !</td>\n",
       "    </tr>\n",
       "    <tr>\n",
       "      <th>11</th>\n",
       "      <td>0</td>\n",
       "      <td>â #ireland consumer price index (mom) climbed from previous 0.2% to 0.5% in may   #blog #silver #gold #forex</td>\n",
       "    </tr>\n",
       "    <tr>\n",
       "      <th>12</th>\n",
       "      <td>0</td>\n",
       "      <td>we are so selfish. #orlando #standwithorlando #pulseshooting #orlandoshooting #biggerproblems #selfish #heabreaking   #values #love #</td>\n",
       "    </tr>\n",
       "    <tr>\n",
       "      <th>13</th>\n",
       "      <td>0</td>\n",
       "      <td>i get to see my daddy today!!   #80days #gettingfed</td>\n",
       "    </tr>\n",
       "    <tr>\n",
       "      <th>14</th>\n",
       "      <td>1</td>\n",
       "      <td>@user #cnn calls #michigan middle school 'build the wall' chant '' #tcot</td>\n",
       "    </tr>\n",
       "    <tr>\n",
       "      <th>15</th>\n",
       "      <td>1</td>\n",
       "      <td>no comment!  in #australia   #opkillingbay #seashepherd #helpcovedolphins #thecove  #helpcovedolphins</td>\n",
       "    </tr>\n",
       "    <tr>\n",
       "      <th>16</th>\n",
       "      <td>0</td>\n",
       "      <td>ouch...junior is angryð#got7 #junior #yugyoem   #omg</td>\n",
       "    </tr>\n",
       "    <tr>\n",
       "      <th>17</th>\n",
       "      <td>0</td>\n",
       "      <td>i am thankful for having a paner. #thankful #positive</td>\n",
       "    </tr>\n",
       "    <tr>\n",
       "      <th>18</th>\n",
       "      <td>1</td>\n",
       "      <td>retweet if you agree!</td>\n",
       "    </tr>\n",
       "    <tr>\n",
       "      <th>19</th>\n",
       "      <td>0</td>\n",
       "      <td>its #friday! ð smiles all around via ig user: @user #cookies make people</td>\n",
       "    </tr>\n",
       "    <tr>\n",
       "      <th>20</th>\n",
       "      <td>0</td>\n",
       "      <td>as we all know, essential oils are not made of chemicals.</td>\n",
       "    </tr>\n",
       "    <tr>\n",
       "      <th>21</th>\n",
       "      <td>0</td>\n",
       "      <td>#euro2016 people blaming ha for conceded goal was it fat rooney who gave away free kick knowing bale can hit them from there.</td>\n",
       "    </tr>\n",
       "    <tr>\n",
       "      <th>22</th>\n",
       "      <td>0</td>\n",
       "      <td>sad little dude..   #badday #coneofshame #cats #pissed #funny #laughs</td>\n",
       "    </tr>\n",
       "    <tr>\n",
       "      <th>23</th>\n",
       "      <td>0</td>\n",
       "      <td>product of the day: happy man #wine tool  who's   it's the #weekend? time to open up &amp;amp; drink up!</td>\n",
       "    </tr>\n",
       "    <tr>\n",
       "      <th>24</th>\n",
       "      <td>1</td>\n",
       "      <td>@user @user lumpy says i am a . prove it lumpy.</td>\n",
       "    </tr>\n",
       "    <tr>\n",
       "      <th>25</th>\n",
       "      <td>0</td>\n",
       "      <td>@user #tgif   #ff to my #gamedev #indiedev #indiegamedev #squad! @user @user @user @user @user</td>\n",
       "    </tr>\n",
       "    <tr>\n",
       "      <th>26</th>\n",
       "      <td>0</td>\n",
       "      <td>beautiful sign by vendor 80 for $45.00!! #upsideofflorida #shopalyssas   #love</td>\n",
       "    </tr>\n",
       "    <tr>\n",
       "      <th>27</th>\n",
       "      <td>0</td>\n",
       "      <td>@user all #smiles when #media is   !! ðð #pressconference in #antalya #turkey ! sunday #throwback  love! ððâ¤ï¸</td>\n",
       "    </tr>\n",
       "    <tr>\n",
       "      <th>28</th>\n",
       "      <td>0</td>\n",
       "      <td>we had a great panel on the mediatization of the public service   #ica16</td>\n",
       "    </tr>\n",
       "    <tr>\n",
       "      <th>29</th>\n",
       "      <td>0</td>\n",
       "      <td>happy father's day @user ðððð</td>\n",
       "    </tr>\n",
       "    <tr>\n",
       "      <th>30</th>\n",
       "      <td>0</td>\n",
       "      <td>50 people went to nightclub to have a good night and 1 man's actions means those people are lost to their families forever #rip#orlando</td>\n",
       "    </tr>\n",
       "    <tr>\n",
       "      <th>31</th>\n",
       "      <td>0</td>\n",
       "      <td>i have never had a chance to vote for a presidential candidate i was excited about and this cycle looks to be no different.</td>\n",
       "    </tr>\n",
       "    <tr>\n",
       "      <th>32</th>\n",
       "      <td>0</td>\n",
       "      <td>#alohafriday #time does #not #exist #positivevibes #hawaiian @user @user @user @user</td>\n",
       "    </tr>\n",
       "    <tr>\n",
       "      <th>33</th>\n",
       "      <td>0</td>\n",
       "      <td>@user rip to the fellow nohern ireland fan who sadley passed away tonight!.. gawa, forever singing and cheering on fire</td>\n",
       "    </tr>\n",
       "    <tr>\n",
       "      <th>34</th>\n",
       "      <td>0</td>\n",
       "      <td>it was a hard monday due to cloudy weather. disabling oxygen production for today. #goodnight #badmonday</td>\n",
       "    </tr>\n",
       "    <tr>\n",
       "      <th>35</th>\n",
       "      <td>1</td>\n",
       "      <td>it's unbelievable that in the 21st century we'd need something like this. again. #neverump  #xenophobia</td>\n",
       "    </tr>\n",
       "    <tr>\n",
       "      <th>36</th>\n",
       "      <td>0</td>\n",
       "      <td>#taylorswift1989   bull up: you will dominate your bull and you will direct it whatever you want it to do. w</td>\n",
       "    </tr>\n",
       "    <tr>\n",
       "      <th>37</th>\n",
       "      <td>0</td>\n",
       "      <td>morning~~ #travelingram #dalat   #ripinkylife</td>\n",
       "    </tr>\n",
       "    <tr>\n",
       "      <th>38</th>\n",
       "      <td>0</td>\n",
       "      <td>@user once more only one word tells it all: #photoshop.  #enoughisenough #dontphotoshopeverything #wheresallthenaturalphotos</td>\n",
       "    </tr>\n",
       "    <tr>\n",
       "      <th>39</th>\n",
       "      <td>0</td>\n",
       "      <td>oh, #cedarpoint. waited 2 hours in the valravn line and it stopped working. we were so close.</td>\n",
       "    </tr>\n",
       "    <tr>\n",
       "      <th>40</th>\n",
       "      <td>0</td>\n",
       "      <td>i am thankful for sunshine. #thankful #positive</td>\n",
       "    </tr>\n",
       "    <tr>\n",
       "      <th>41</th>\n",
       "      <td>0</td>\n",
       "      <td>when you finally finish a book you've been working on for awhile...  #bookworm #ontothenextnovel</td>\n",
       "    </tr>\n",
       "    <tr>\n",
       "      <th>42</th>\n",
       "      <td>0</td>\n",
       "      <td>yup, being a knicks fan is hard, so its easier to just be an nba fan when the playoffs roll around ð</td>\n",
       "    </tr>\n",
       "    <tr>\n",
       "      <th>43</th>\n",
       "      <td>0</td>\n",
       "      <td>there is life after social networking. embrace each day. be</td>\n",
       "    </tr>\n",
       "    <tr>\n",
       "      <th>44</th>\n",
       "      <td>0</td>\n",
       "      <td>my mom shares the same bihday as @user   bihday snake! see you this weekend ðð¼</td>\n",
       "    </tr>\n",
       "    <tr>\n",
       "      <th>45</th>\n",
       "      <td>0</td>\n",
       "      <td>lovely echeveria blooms#flowers #grow #gardening #iphonesia #bliss #blooms #basilicabotanica</td>\n",
       "    </tr>\n",
       "    <tr>\n",
       "      <th>46</th>\n",
       "      <td>0</td>\n",
       "      <td>i am amazing. #i_am #positive #affirmation</td>\n",
       "    </tr>\n",
       "    <tr>\n",
       "      <th>47</th>\n",
       "      <td>0</td>\n",
       "      <td>#model   i love u take with u all the time in urð±!!! ððððð¦ð¦ð¦</td>\n",
       "    </tr>\n",
       "    <tr>\n",
       "      <th>48</th>\n",
       "      <td>0</td>\n",
       "      <td>#whenever im   and #something goes #wrong  |</td>\n",
       "    </tr>\n",
       "    <tr>\n",
       "      <th>49</th>\n",
       "      <td>0</td>\n",
       "      <td>feeling blue #illustration</td>\n",
       "    </tr>\n",
       "    <tr>\n",
       "      <th>50</th>\n",
       "      <td>0</td>\n",
       "      <td>the best pa about life is knowing who you are! ðâï¸ð¼ð»  â¦</td>\n",
       "    </tr>\n",
       "    <tr>\n",
       "      <th>51</th>\n",
       "      <td>0</td>\n",
       "      <td>#abc2020 getting ready 2 remove the victums frm #pulseclub #prayfororlando</td>\n",
       "    </tr>\n",
       "    <tr>\n",
       "      <th>52</th>\n",
       "      <td>0</td>\n",
       "      <td>for her #bihday we got her a #nose #job @user  ðð¶ððð    #bihday #petunia we love you ð</td>\n",
       "    </tr>\n",
       "    <tr>\n",
       "      <th>53</th>\n",
       "      <td>0</td>\n",
       "      <td>off to concelebrate at the #albanpilgrimage for the first time.   @user</td>\n",
       "    </tr>\n",
       "    <tr>\n",
       "      <th>54</th>\n",
       "      <td>0</td>\n",
       "      <td>@user let the scum-baggery begin.....</td>\n",
       "    </tr>\n",
       "    <tr>\n",
       "      <th>55</th>\n",
       "      <td>0</td>\n",
       "      <td>thank you! ðð super love it! â¤ï¸ zpamdelacruz   #wedding# @ dolores, capas tarlac.</td>\n",
       "    </tr>\n",
       "    <tr>\n",
       "      <th>56</th>\n",
       "      <td>0</td>\n",
       "      <td>a scourge on those playing baroque pieces on piano    beyond belief</td>\n",
       "    </tr>\n",
       "    <tr>\n",
       "      <th>57</th>\n",
       "      <td>1</td>\n",
       "      <td>@user lets fight against  #love #peace</td>\n",
       "    </tr>\n",
       "    <tr>\n",
       "      <th>58</th>\n",
       "      <td>0</td>\n",
       "      <td>happy fatherâs day, mr. rayos #video   #fathers #day #rayos #world #hotvideo #videos</td>\n",
       "    </tr>\n",
       "    <tr>\n",
       "      <th>59</th>\n",
       "      <td>0</td>\n",
       "      <td>@user ascot times with this babe â¤ï¸â¤ï¸ #ascot #fashion #monochrome #style   #instahappyday</td>\n",
       "    </tr>\n",
       "    <tr>\n",
       "      <th>60</th>\n",
       "      <td>0</td>\n",
       "      <td>the weekend..is here!!ððððð #selfie   #yolo #xoxo #like4like</td>\n",
       "    </tr>\n",
       "    <tr>\n",
       "      <th>61</th>\n",
       "      <td>0</td>\n",
       "      <td>happy at work conference: right' mindset leads to culture-of-development organizations    #work #mindset</td>\n",
       "    </tr>\n",
       "    <tr>\n",
       "      <th>62</th>\n",
       "      <td>0</td>\n",
       "      <td>christina grimmie's  last performance before being shot...  via @user #christinarip #voice #christinagrimmie</td>\n",
       "    </tr>\n",
       "    <tr>\n",
       "      <th>63</th>\n",
       "      <td>0</td>\n",
       "      <td>we are ready to dance #roar #preschoolers   #students #proudâ¦</td>\n",
       "    </tr>\n",
       "    <tr>\n",
       "      <th>64</th>\n",
       "      <td>0</td>\n",
       "      <td>you've really hu my feelings :(</td>\n",
       "    </tr>\n",
       "    <tr>\n",
       "      <th>65</th>\n",
       "      <td>0</td>\n",
       "      <td>@user my wife whom i adore had to miss your poland show because she had surgery. her name is bridget &amp;amp; she's my everything.</td>\n",
       "    </tr>\n",
       "    <tr>\n",
       "      <th>66</th>\n",
       "      <td>0</td>\n",
       "      <td>@user i am so jealous of you right now.... #chatiado</td>\n",
       "    </tr>\n",
       "    <tr>\n",
       "      <th>67</th>\n",
       "      <td>0</td>\n",
       "      <td>i celebrate every man that has played it's fatherly role.   father's day#</td>\n",
       "    </tr>\n",
       "    <tr>\n",
       "      <th>68</th>\n",
       "      <td>0</td>\n",
       "      <td>i'm sure they are just as happy.... ðð½ðð½ðð½   hour</td>\n",
       "    </tr>\n",
       "    <tr>\n",
       "      <th>69</th>\n",
       "      <td>1</td>\n",
       "      <td>ð©the white establishment can't have blk folx running around loving themselves and promoting our greatness</td>\n",
       "    </tr>\n",
       "    <tr>\n",
       "      <th>70</th>\n",
       "      <td>0</td>\n",
       "      <td>good morning! the journey begins! ððð»ð³   #travel #yeah #thejourneybegins #helloâ¦</td>\n",
       "    </tr>\n",
       "    <tr>\n",
       "      <th>71</th>\n",
       "      <td>0</td>\n",
       "      <td>@user # if you #luv #hottweets like this from â¶ â¥#venusexchangeâ¥</td>\n",
       "    </tr>\n",
       "    <tr>\n",
       "      <th>72</th>\n",
       "      <td>0</td>\n",
       "      <td>our new brochures have arrived! how exciting!! #aworks #solutions</td>\n",
       "    </tr>\n",
       "    <tr>\n",
       "      <th>73</th>\n",
       "      <td>0</td>\n",
       "      <td>so much stuff happening in florida! first #orlando shooting and now #disneygatorattack on a two year old kidð¥ð</td>\n",
       "    </tr>\n",
       "    <tr>\n",
       "      <th>74</th>\n",
       "      <td>0</td>\n",
       "      <td>@user ferrari will do itðªð¼ for the sake of the championship. this gp is clearly a turning point rb, ferrari,mercs...ð</td>\n",
       "    </tr>\n",
       "    <tr>\n",
       "      <th>75</th>\n",
       "      <td>0</td>\n",
       "      <td>aced my first test!   #proud</td>\n",
       "    </tr>\n",
       "    <tr>\n",
       "      <th>76</th>\n",
       "      <td>0</td>\n",
       "      <td>seeks probe into #udtapunjab' leak, points finger at #amarinder, #aap</td>\n",
       "    </tr>\n",
       "    <tr>\n",
       "      <th>77</th>\n",
       "      <td>0</td>\n",
       "      <td>@user wrapping up #senseaboutmaths @user 6th   @user @user @user</td>\n",
       "    </tr>\n",
       "    <tr>\n",
       "      <th>78</th>\n",
       "      <td>1</td>\n",
       "      <td>@user hey, white people: you can call people 'white' by @user  #race  #identity #medâ¦</td>\n",
       "    </tr>\n",
       "    <tr>\n",
       "      <th>79</th>\n",
       "      <td>0</td>\n",
       "      <td>@user @user you might be. just have not shown here today. regurgitated talking points and name calling?</td>\n",
       "    </tr>\n",
       "    <tr>\n",
       "      <th>80</th>\n",
       "      <td>0</td>\n",
       "      <td>sometimes you have to raise a few brows to raise the bar. #golfstrengthandconditioning   #strong #felixfoisgolf</td>\n",
       "    </tr>\n",
       "    <tr>\n",
       "      <th>81</th>\n",
       "      <td>0</td>\n",
       "      <td>about that ððð #greathonour #careerconvos @user @user</td>\n",
       "    </tr>\n",
       "    <tr>\n",
       "      <th>82</th>\n",
       "      <td>0</td>\n",
       "      <td>@user designing #innovative learning space @user to include #wateringhole #cave #mountaintop #campfire @user   hâ¦</td>\n",
       "    </tr>\n",
       "    <tr>\n",
       "      <th>83</th>\n",
       "      <td>1</td>\n",
       "      <td>how the #altright uses  &amp;amp; insecurity to lure men into #whitesupremacy</td>\n",
       "    </tr>\n",
       "    <tr>\n",
       "      <th>84</th>\n",
       "      <td>0</td>\n",
       "      <td>carrying a gun wouldn't of helped if you can't take it in with you. gun control won't stop the black market! terrorism will get worse!</td>\n",
       "    </tr>\n",
       "    <tr>\n",
       "      <th>85</th>\n",
       "      <td>0</td>\n",
       "      <td>use the power of your mind to #heal your body!! -     #altwaystoheal #healthy   #peace!</td>\n",
       "    </tr>\n",
       "    <tr>\n",
       "      <th>86</th>\n",
       "      <td>0</td>\n",
       "      <td>woohoo!! just over 5 weeks to go!</td>\n",
       "    </tr>\n",
       "    <tr>\n",
       "      <th>87</th>\n",
       "      <td>0</td>\n",
       "      <td>being in a far away place where you have no family members hus</td>\n",
       "    </tr>\n",
       "    <tr>\n",
       "      <th>88</th>\n",
       "      <td>0</td>\n",
       "      <td>ready to rehearse tonight with new music and new videos, look out for the announcement! #midweek #newmusic #watchthisspace #guitar</td>\n",
       "    </tr>\n",
       "    <tr>\n",
       "      <th>89</th>\n",
       "      <td>0</td>\n",
       "      <td>now on monday nights at 8pm on #up channel!!!! i finally get to see what all the fuss is about!!!</td>\n",
       "    </tr>\n",
       "    <tr>\n",
       "      <th>90</th>\n",
       "      <td>0</td>\n",
       "      <td>watching the new episodes of @user on @user</td>\n",
       "    </tr>\n",
       "    <tr>\n",
       "      <th>91</th>\n",
       "      <td>0</td>\n",
       "      <td>@user offline now after a very nice and long night.. ð #snapchat @user   #redhead #vermillionred</td>\n",
       "    </tr>\n",
       "    <tr>\n",
       "      <th>92</th>\n",
       "      <td>0</td>\n",
       "      <td>15 things incredibly   #people do</td>\n",
       "    </tr>\n",
       "    <tr>\n",
       "      <th>93</th>\n",
       "      <td>0</td>\n",
       "      <td>yes! received my acceptance letter for my masters so will be back at @user again in october!    #goodtimes #history</td>\n",
       "    </tr>\n",
       "    <tr>\n",
       "      <th>94</th>\n",
       "      <td>0</td>\n",
       "      <td>daughter riding her bike around driveway, son playing his guitar for us while we enjoy ðº by the campfire... #summeime   #memories</td>\n",
       "    </tr>\n",
       "    <tr>\n",
       "      <th>95</th>\n",
       "      <td>0</td>\n",
       "      <td>omg!!! loving this station!!! way to jam out at work!!! while getting work done of course!!!!   #memories @user</td>\n",
       "    </tr>\n",
       "    <tr>\n",
       "      <th>96</th>\n",
       "      <td>0</td>\n",
       "      <td>@user i'll always hope that one day i'll get to hug you, but i don't think that it's gonna happen anytime soon...</td>\n",
       "    </tr>\n",
       "    <tr>\n",
       "      <th>97</th>\n",
       "      <td>0</td>\n",
       "      <td>#model   i love u take with u all the time in urð±!!! ððððð¦ð¦ð¦</td>\n",
       "    </tr>\n",
       "    <tr>\n",
       "      <th>98</th>\n",
       "      <td>0</td>\n",
       "      <td>couple having sex fat naked japanese girls</td>\n",
       "    </tr>\n",
       "    <tr>\n",
       "      <th>99</th>\n",
       "      <td>0</td>\n",
       "      <td>#hump on that    #hump day #humpersð© @ edwardsville, pennsylvania</td>\n",
       "    </tr>\n",
       "    <tr>\n",
       "      <th>100</th>\n",
       "      <td>0</td>\n",
       "      <td>personalised we... gbp 7.99 get here:  #shop #cool   #home #fun</td>\n",
       "    </tr>\n",
       "  </tbody>\n",
       "</table>\n",
       "</div>"
      ],
      "text/plain": [
       "     label  \\\n",
       "id           \n",
       "1        0   \n",
       "2        0   \n",
       "3        0   \n",
       "4        0   \n",
       "5        0   \n",
       "6        0   \n",
       "7        0   \n",
       "8        0   \n",
       "9        0   \n",
       "10       0   \n",
       "11       0   \n",
       "12       0   \n",
       "13       0   \n",
       "14       1   \n",
       "15       1   \n",
       "16       0   \n",
       "17       0   \n",
       "18       1   \n",
       "19       0   \n",
       "20       0   \n",
       "21       0   \n",
       "22       0   \n",
       "23       0   \n",
       "24       1   \n",
       "25       0   \n",
       "26       0   \n",
       "27       0   \n",
       "28       0   \n",
       "29       0   \n",
       "30       0   \n",
       "31       0   \n",
       "32       0   \n",
       "33       0   \n",
       "34       0   \n",
       "35       1   \n",
       "36       0   \n",
       "37       0   \n",
       "38       0   \n",
       "39       0   \n",
       "40       0   \n",
       "41       0   \n",
       "42       0   \n",
       "43       0   \n",
       "44       0   \n",
       "45       0   \n",
       "46       0   \n",
       "47       0   \n",
       "48       0   \n",
       "49       0   \n",
       "50       0   \n",
       "51       0   \n",
       "52       0   \n",
       "53       0   \n",
       "54       0   \n",
       "55       0   \n",
       "56       0   \n",
       "57       1   \n",
       "58       0   \n",
       "59       0   \n",
       "60       0   \n",
       "61       0   \n",
       "62       0   \n",
       "63       0   \n",
       "64       0   \n",
       "65       0   \n",
       "66       0   \n",
       "67       0   \n",
       "68       0   \n",
       "69       1   \n",
       "70       0   \n",
       "71       0   \n",
       "72       0   \n",
       "73       0   \n",
       "74       0   \n",
       "75       0   \n",
       "76       0   \n",
       "77       0   \n",
       "78       1   \n",
       "79       0   \n",
       "80       0   \n",
       "81       0   \n",
       "82       0   \n",
       "83       1   \n",
       "84       0   \n",
       "85       0   \n",
       "86       0   \n",
       "87       0   \n",
       "88       0   \n",
       "89       0   \n",
       "90       0   \n",
       "91       0   \n",
       "92       0   \n",
       "93       0   \n",
       "94       0   \n",
       "95       0   \n",
       "96       0   \n",
       "97       0   \n",
       "98       0   \n",
       "99       0   \n",
       "100      0   \n",
       "\n",
       "                                                                                                                                               tweet  \n",
       "id                                                                                                                                                    \n",
       "1                                              @user when a father is dysfunctional and is so selfish he drags his kids into his dysfunction.   #run  \n",
       "2                         @user @user thanks for #lyft credit i can't use cause they don't offer wheelchair vans in pdx.    #disapointed #getthanked  \n",
       "3                                                                                                                                bihday your majesty  \n",
       "4                                                               #model   i love u take with u all the time in urð±!!! ðððð\n",
       "ð¦ð¦ð¦  \n",
       "5                                                                                                             factsguide: society now    #motivation  \n",
       "6                                 [2/2] huge fan fare and big talking before they leave. chaos and pay disputes when they get there. #allshowandnogo  \n",
       "7                                                                          @user camping tomorrow @user @user @user @user @user @user @user dannyâ¦  \n",
       "8    the next school year is the year for exams.ð¯ can't think about that ð­ #school #exams   #hate #imagine #actorslife #revolutionschool #girl  \n",
       "9                                                             we won!!! love the land!!! #allin #cavs #champions #cleveland #clevelandcavaliers  â¦  \n",
       "10                                                                                                  @user @user welcome here !  i'm   it's so #gr8 !  \n",
       "11                                    â #ireland consumer price index (mom) climbed from previous 0.2% to 0.5% in may   #blog #silver #gold #forex  \n",
       "12             we are so selfish. #orlando #standwithorlando #pulseshooting #orlandoshooting #biggerproblems #selfish #heabreaking   #values #love #  \n",
       "13                                                                                               i get to see my daddy today!!   #80days #gettingfed  \n",
       "14                                                                          @user #cnn calls #michigan middle school 'build the wall' chant '' #tcot  \n",
       "15                                             no comment!  in #australia   #opkillingbay #seashepherd #helpcovedolphins #thecove  #helpcovedolphins  \n",
       "16                                                                                           ouch...junior is angryð#got7 #junior #yugyoem   #omg  \n",
       "17                                                                                             i am thankful for having a paner. #thankful #positive  \n",
       "18                                                                                                                             retweet if you agree!  \n",
       "19                                                                       its #friday! ð smiles all around via ig user: @user #cookies make people  \n",
       "20                                                                                        as we all know, essential oils are not made of chemicals.   \n",
       "21                     #euro2016 people blaming ha for conceded goal was it fat rooney who gave away free kick knowing bale can hit them from there.  \n",
       "22                                                                             sad little dude..   #badday #coneofshame #cats #pissed #funny #laughs  \n",
       "23                                              product of the day: happy man #wine tool  who's   it's the #weekend? time to open up &amp; drink up!  \n",
       "24                                                                                                   @user @user lumpy says i am a . prove it lumpy.  \n",
       "25                                                    @user #tgif   #ff to my #gamedev #indiedev #indiegamedev #squad! @user @user @user @user @user  \n",
       "26                                                                    beautiful sign by vendor 80 for $45.00!! #upsideofflorida #shopalyssas   #love  \n",
       "27                     @user all #smiles when #media is   !! ðð #pressconference in #antalya #turkey ! sunday #throwback  love! ððâ¤ï¸  \n",
       "28                                                                          we had a great panel on the mediatization of the public service   #ica16  \n",
       "29                                                                                                         happy father's day @user ðððð  \n",
       "30           50 people went to nightclub to have a good night and 1 man's actions means those people are lost to their families forever #rip#orlando  \n",
       "31                       i have never had a chance to vote for a presidential candidate i was excited about and this cycle looks to be no different.  \n",
       "32                                                              #alohafriday #time does #not #exist #positivevibes #hawaiian @user @user @user @user  \n",
       "33                         @user rip to the fellow nohern ireland fan who sadley passed away tonight!.. gawa, forever singing and cheering on fire    \n",
       "34                                          it was a hard monday due to cloudy weather. disabling oxygen production for today. #goodnight #badmonday  \n",
       "35                                           it's unbelievable that in the 21st century we'd need something like this. again. #neverump  #xenophobia  \n",
       "36                                      #taylorswift1989   bull up: you will dominate your bull and you will direct it whatever you want it to do. w  \n",
       "37                                                                                                     morning~~ #travelingram #dalat   #ripinkylife  \n",
       "38                      @user once more only one word tells it all: #photoshop.  #enoughisenough #dontphotoshopeverything #wheresallthenaturalphotos  \n",
       "39                                                   oh, #cedarpoint. waited 2 hours in the valravn line and it stopped working. we were so close.    \n",
       "40                                                                                                   i am thankful for sunshine. #thankful #positive  \n",
       "41                                                  when you finally finish a book you've been working on for awhile...  #bookworm #ontothenextnovel  \n",
       "42                                          yup, being a knicks fan is hard, so its easier to just be an nba fan when the playoffs roll around ð   \n",
       "43                                                                                       there is life after social networking. embrace each day. be  \n",
       "44                                                              my mom shares the same bihday as @user   bihday snake! see you this weekend ðð¼  \n",
       "45                                                      lovely echeveria blooms#flowers #grow #gardening #iphonesia #bliss #blooms #basilicabotanica  \n",
       "46                                                                                                        i am amazing. #i_am #positive #affirmation  \n",
       "47                                                              #model   i love u take with u all the time in urð±!!! ðððð\n",
       "ð¦ð¦ð¦  \n",
       "48                                                                                                      #whenever im   and #something goes #wrong  |  \n",
       "49                                                                                                                        feeling blue #illustration  \n",
       "50                                                                            the best pa about life is knowing who you are! ðâï¸ð¼ð»  â¦  \n",
       "51                                                                        #abc2020 getting ready 2 remove the victums frm #pulseclub #prayfororlando  \n",
       "52                                          for her #bihday we got her a #nose #job @user  ðð¶ððð    #bihday #petunia we love you ð  \n",
       "53                                                                           off to concelebrate at the #albanpilgrimage for the first time.   @user  \n",
       "54                                                                                                             @user let the scum-baggery begin.....  \n",
       "55                                                      thank you! ðð super love it! â¤ï¸ zpamdelacruz   #wedding# @ dolores, capas tarlac.   \n",
       "56                                                                               a scourge on those playing baroque pieces on piano    beyond belief  \n",
       "57                                                                                                            @user lets fight against  #love #peace  \n",
       "58                                                            happy fatherâs day, mr. rayos #video   #fathers #day #rayos #world #hotvideo #videos  \n",
       "59                                                 @user ascot times with this babe â¤ï¸â¤ï¸ #ascot #fashion #monochrome #style   #instahappyday  \n",
       "60                                                                       the weekend..is here!!ððððð #selfie   #yolo #xoxo #like4like  \n",
       "61                                          happy at work conference: right' mindset leads to culture-of-development organizations    #work #mindset  \n",
       "62                                      christina grimmie's  last performance before being shot...  via @user #christinarip #voice #christinagrimmie  \n",
       "63                                                                                   we are ready to dance #roar #preschoolers   #students #proudâ¦  \n",
       "64                                                                                                                   you've really hu my feelings :(  \n",
       "65                   @user my wife whom i adore had to miss your poland show because she had surgery. her name is bridget &amp; she's my everything.  \n",
       "66                                                                                              @user i am so jealous of you right now.... #chatiado  \n",
       "67                                                                         i celebrate every man that has played it's fatherly role.   father's day#  \n",
       "68                                                                               i'm sure they are just as happy.... ðð½ðð½ðð½   hour  \n",
       "69                                      ð©the white establishment can't have blk folx running around loving themselves and promoting our greatness  \n",
       "70                                                    good morning! the journey begins! ððð»ð³   #travel #yeah #thejourneybegins #helloâ¦  \n",
       "71                                                                            @user # if you #luv #hottweets like this from â¶ â¥#venusexchangeâ¥  \n",
       "72                                                                                 our new brochures have arrived! how exciting!! #aworks #solutions  \n",
       "73                              so much stuff happening in florida! first #orlando shooting and now #disneygatorattack on a two year old kidð¥ð  \n",
       "74                  @user ferrari will do itðªð¼ for the sake of the championship. this gp is clearly a turning point rb, ferrari,mercs...ð    \n",
       "75                                                                                                                      aced my first test!   #proud  \n",
       "76                                                                           seeks probe into #udtapunjab' leak, points finger at #amarinder, #aap    \n",
       "77                                                                                  @user wrapping up #senseaboutmaths @user 6th   @user @user @user  \n",
       "78                                                           @user hey, white people: you can call people 'white' by @user  #race  #identity #medâ¦  \n",
       "79                                           @user @user you might be. just have not shown here today. regurgitated talking points and name calling?  \n",
       "80                                   sometimes you have to raise a few brows to raise the bar. #golfstrengthandconditioning   #strong #felixfoisgolf  \n",
       "81                                                                                    about that ððð #greathonour #careerconvos @user @user  \n",
       "82                               @user designing #innovative learning space @user to include #wateringhole #cave #mountaintop #campfire @user   hâ¦  \n",
       "83                                                                         how the #altright uses  &amp; insecurity to lure men into #whitesupremacy  \n",
       "84            carrying a gun wouldn't of helped if you can't take it in with you. gun control won't stop the black market! terrorism will get worse!  \n",
       "85                                                           use the power of your mind to #heal your body!! -     #altwaystoheal #healthy   #peace!  \n",
       "86                                                                                                                 woohoo!! just over 5 weeks to go!  \n",
       "87                                                                                    being in a far away place where you have no family members hus  \n",
       "88              ready to rehearse tonight with new music and new videos, look out for the announcement! #midweek #newmusic #watchthisspace #guitar    \n",
       "89                                                 now on monday nights at 8pm on #up channel!!!! i finally get to see what all the fuss is about!!!  \n",
       "90                                                                                                       watching the new episodes of @user on @user  \n",
       "91                                               @user offline now after a very nice and long night.. ð #snapchat @user   #redhead #vermillionred  \n",
       "92                                                                                                                 15 things incredibly   #people do  \n",
       "93                               yes! received my acceptance letter for my masters so will be back at @user again in october!    #goodtimes #history  \n",
       "94              daughter riding her bike around driveway, son playing his guitar for us while we enjoy ðº by the campfire... #summeime   #memories  \n",
       "95                                   omg!!! loving this station!!! way to jam out at work!!! while getting work done of course!!!!   #memories @user  \n",
       "96                                @user i'll always hope that one day i'll get to hug you, but i don't think that it's gonna happen anytime soon...   \n",
       "97                                                              #model   i love u take with u all the time in urð±!!! ðððð\n",
       "ð¦ð¦ð¦  \n",
       "98                                                                                                        couple having sex fat naked japanese girls  \n",
       "99                                                                             #hump on that    #hump day #humpersð© @ edwardsville, pennsylvania   \n",
       "100                                                                                  personalised we... gbp 7.99 get here:  #shop #cool   #home #fun  "
      ]
     },
     "execution_count": 2,
     "metadata": {},
     "output_type": "execute_result"
    }
   ],
   "source": [
    "df = pd.read_csv(\"Hate Speech.tsv\", sep= \"\\t\", index_col='id')\n",
    "df.head(100)"
   ]
  },
  {
   "cell_type": "code",
   "execution_count": 3,
   "metadata": {},
   "outputs": [
    {
     "data": {
      "text/plain": [
       "label    31535\n",
       "tweet    31535\n",
       "dtype: int64"
      ]
     },
     "execution_count": 3,
     "metadata": {},
     "output_type": "execute_result"
    }
   ],
   "source": [
    "df.count()"
   ]
  },
  {
   "cell_type": "code",
   "execution_count": 4,
   "metadata": {},
   "outputs": [
    {
     "data": {
      "text/plain": [
       "Index(['label', 'tweet'], dtype='object')"
      ]
     },
     "execution_count": 4,
     "metadata": {},
     "output_type": "execute_result"
    }
   ],
   "source": [
    "df.columns"
   ]
  },
  {
   "cell_type": "markdown",
   "metadata": {},
   "source": [
    "### Data splitting"
   ]
  },
  {
   "cell_type": "code",
   "execution_count": 5,
   "metadata": {},
   "outputs": [],
   "source": [
    "x = df['tweet']\n",
    "y = df['label']\n",
    "x_train, x_temp, y_train, y_temp = train_test_split(x, y, test_size=0.3, stratify=y ,  random_state=88)\n",
    "x_val, x_test, y_val, y_test = train_test_split(x_temp, y_temp, test_size=0.5 , stratify=y_temp ,random_state=88)"
   ]
  },
  {
   "cell_type": "code",
   "execution_count": null,
   "metadata": {},
   "outputs": [],
   "source": [
    "# x_train = pd.DataFrame({'tweet': x_train})\n",
    "# x_val = pd.DataFrame({'tweet': x_val})\n",
    "# x_test = pd.DataFrame({'tweet': x_test})"
   ]
  },
  {
   "cell_type": "code",
   "execution_count": 6,
   "metadata": {},
   "outputs": [
    {
     "data": {
      "text/plain": [
       "id\n",
       "21963                                               @user @user @user @user @user  this is a msu troll trick trying to get cj\n",
       "25590                                                                                plz sign  #japan  #bullying #tweet4taiji\n",
       "14707                               @user when yo brother is a rapist and you post his bail...  #shady look in a mirror bitch\n",
       "26974                       @user why should this person be rehired?  shame on #claycountydevelopmentcorp #pamelaramseytaylor\n",
       "14910                                                          dude sound like he believes his own lies.   #nobodybelievesyou\n",
       "                                                                 ...                                                         \n",
       "7726                                are you #black &amp; feel like â¦ are stomping on you? listen  #retweet #tampa #miamiâ¦\n",
       "20662      the day will be whatever you make it! focus on the good and the bad will seem to disappear!ð  #positivethoughts\n",
       "13158    wishing all fantastic night as you prepare 4 another day,thanks to sir jah for the big day we had 2day.  fathers day\n",
       "14249                                                   standing in line, waiting to get into see @user at #apark!   #awesome\n",
       "6518                                                                      now this i've been waiting a damn long time for!!!!\n",
       "Name: tweet, Length: 22074, dtype: object"
      ]
     },
     "execution_count": 6,
     "metadata": {},
     "output_type": "execute_result"
    }
   ],
   "source": [
    "x_train"
   ]
  },
  {
   "cell_type": "code",
   "execution_count": 7,
   "metadata": {},
   "outputs": [
    {
     "data": {
      "text/plain": [
       "id\n",
       "21963    0\n",
       "25590    1\n",
       "14707    0\n",
       "26974    1\n",
       "14910    0\n",
       "        ..\n",
       "7726     1\n",
       "20662    0\n",
       "13158    0\n",
       "14249    0\n",
       "6518     0\n",
       "Name: label, Length: 22074, dtype: int64"
      ]
     },
     "execution_count": 7,
     "metadata": {},
     "output_type": "execute_result"
    }
   ],
   "source": [
    "y_train"
   ]
  },
  {
   "cell_type": "code",
   "execution_count": 8,
   "metadata": {},
   "outputs": [
    {
     "name": "stdout",
     "output_type": "stream",
     "text": [
      "xtrain shape :  (22074,)\n",
      "ytrain shape :  (22074,)\n",
      "xval shape :  (4730,)\n",
      "yval shape :  (4730,)\n",
      "xtest shape :  (4731,)\n",
      "ytest shape :  (4731,)\n"
     ]
    }
   ],
   "source": [
    "print('xtrain shape : ' ,x_train.shape) \n",
    "print('ytrain shape : ' ,y_train.shape)\n",
    "print('xval shape : ' ,x_val.shape)\n",
    "print('yval shape : ' ,y_val.shape)\n",
    "print('xtest shape : ' ,x_test.shape)\n",
    "print('ytest shape : ' ,y_test.shape)\n"
   ]
  },
  {
   "cell_type": "markdown",
   "metadata": {
    "id": "hqWVKi_GorxZ"
   },
   "source": [
    "### EDA on training data"
   ]
  },
  {
   "cell_type": "markdown",
   "metadata": {
    "id": "R1zxJpFxorxa"
   },
   "source": [
    "- check NaNs"
   ]
  },
  {
   "cell_type": "code",
   "execution_count": 9,
   "metadata": {
    "id": "HVEttSujorxa"
   },
   "outputs": [
    {
     "name": "stdout",
     "output_type": "stream",
     "text": [
      "<class 'pandas.core.frame.DataFrame'>\n",
      "Index: 31535 entries, 1 to 31962\n",
      "Data columns (total 2 columns):\n",
      " #   Column  Non-Null Count  Dtype \n",
      "---  ------  --------------  ----- \n",
      " 0   label   31535 non-null  int64 \n",
      " 1   tweet   31535 non-null  object\n",
      "dtypes: int64(1), object(1)\n",
      "memory usage: 739.1+ KB\n"
     ]
    }
   ],
   "source": [
    "df.info()"
   ]
  },
  {
   "cell_type": "markdown",
   "metadata": {
    "id": "UwjbzVaIorxb"
   },
   "source": [
    "- check duplicates"
   ]
  },
  {
   "cell_type": "code",
   "execution_count": 10,
   "metadata": {
    "id": "J_FlBWISorxb"
   },
   "outputs": [
    {
     "data": {
      "text/plain": [
       "2404"
      ]
     },
     "execution_count": 10,
     "metadata": {},
     "output_type": "execute_result"
    }
   ],
   "source": [
    "df.duplicated().sum()"
   ]
  },
  {
   "cell_type": "code",
   "execution_count": 11,
   "metadata": {},
   "outputs": [
    {
     "data": {
      "text/plain": [
       "0"
      ]
     },
     "execution_count": 11,
     "metadata": {},
     "output_type": "execute_result"
    }
   ],
   "source": [
    "df.drop_duplicates(inplace=True)\n",
    "df.duplicated().sum()"
   ]
  },
  {
   "cell_type": "markdown",
   "metadata": {
    "id": "YjIBFc35orxc"
   },
   "source": [
    "- show a representative sample of data texts to find out required preprocessing steps"
   ]
  },
  {
   "cell_type": "code",
   "execution_count": 12,
   "metadata": {
    "id": "zGFKzSCRorxc"
   },
   "outputs": [
    {
     "data": {
      "text/plain": [
       "id\n",
       "1                                               @user when a father is dysfunctional and is so selfish he drags his kids into his dysfunction.   #run\n",
       "2                          @user @user thanks for #lyft credit i can't use cause they don't offer wheelchair vans in pdx.    #disapointed #getthanked\n",
       "3                                                                                                                                 bihday your majesty\n",
       "4                                                                #model   i love u take with u all the time in urð±!!! ðððð\n",
       "ð¦ð¦ð¦\n",
       "5                                                                                                              factsguide: society now    #motivation\n",
       "6                                  [2/2] huge fan fare and big talking before they leave. chaos and pay disputes when they get there. #allshowandnogo\n",
       "7                                                                           @user camping tomorrow @user @user @user @user @user @user @user dannyâ¦\n",
       "8     the next school year is the year for exams.ð¯ can't think about that ð­ #school #exams   #hate #imagine #actorslife #revolutionschool #girl\n",
       "9                                                              we won!!! love the land!!! #allin #cavs #champions #cleveland #clevelandcavaliers  â¦\n",
       "10                                                                                                   @user @user welcome here !  i'm   it's so #gr8 !\n",
       "Name: tweet, dtype: object"
      ]
     },
     "execution_count": 12,
     "metadata": {},
     "output_type": "execute_result"
    }
   ],
   "source": [
    "df['tweet'].head(10)"
   ]
  },
  {
   "cell_type": "markdown",
   "metadata": {
    "id": "UqdSUtbdorxd"
   },
   "source": [
    "- check dataset balancing"
   ]
  },
  {
   "cell_type": "code",
   "execution_count": 13,
   "metadata": {
    "id": "JBHrSvXhorxd"
   },
   "outputs": [
    {
     "name": "stdout",
     "output_type": "stream",
     "text": [
      "train distribution :  label\n",
      "0    0.929827\n",
      "1    0.070173\n",
      "Name: proportion, dtype: float64\n",
      "validation distribution :  label\n",
      "0    0.92981\n",
      "1    0.07019\n",
      "Name: proportion, dtype: float64\n",
      "test distribution :  label\n",
      "0    0.929825\n",
      "1    0.070175\n",
      "Name: proportion, dtype: float64\n"
     ]
    }
   ],
   "source": [
    "print('train distribution : ' ,y_train.value_counts(normalize=True))\n",
    "print('validation distribution : ' ,y_val.value_counts(normalize=True))\n",
    "print('test distribution : ' ,y_test.value_counts(normalize=True))"
   ]
  },
  {
   "cell_type": "markdown",
   "metadata": {},
   "source": [
    "The data is imbalanced as : `Non Hate speech : 93%` - `Hate speech : 7%`"
   ]
  },
  {
   "cell_type": "code",
   "execution_count": 49,
   "metadata": {},
   "outputs": [
    {
     "name": "stderr",
     "output_type": "stream",
     "text": [
      "C:\\Users\\PCCV\\AppData\\Local\\Temp\\ipykernel_33684\\2761711638.py:1: FutureWarning: \n",
      "\n",
      "Passing `palette` without assigning `hue` is deprecated and will be removed in v0.14.0. Assign the `x` variable to `hue` and set `legend=False` for the same effect.\n",
      "\n",
      "  sns.barplot(x = y_train.value_counts(normalize=True).index , y = y_train.value_counts(normalize=True) , palette='mako')\n"
     ]
    },
    {
     "data": {
      "image/png": "[encoded data removed]",
      "text/plain": [
       "<Figure size 640x480 with 1 Axes>"
      ]
     },
     "metadata": {},
     "output_type": "display_data"
    }
   ],
   "source": [
    "sns.barplot(x = y_train.value_counts(normalize=True).index , y = y_train.value_counts(normalize=True) , palette='mako')\n",
    "plt.title('Train Distribution')\n",
    "plt.xlabel('Label')\n",
    "plt.ylabel('Count')\n",
    "plt.xticks([0,1], ['Not Hate Speech','Hate Speech'])\n",
    "plt.yticks([0,0.1,0.2,0.3,0.4,0.5,0.6,0.7,0.8,0.9,1] , ['0%','10%','20%','30%','40%','50%','60%','70%','80%','90%','100%'])\n",
    "plt.grid(axis='y')\n",
    "plt.show()"
   ]
  },
  {
   "cell_type": "markdown",
   "metadata": {
    "id": "x3wl_crkorxd"
   },
   "source": [
    "- Cleaning and Preprocessing are:\n",
    "    - 1. Noise: Mentions, Hashtags, URLs\n",
    "    - 2. Special Characters, Emojis, Non-ASCII\n",
    "    - 3. Lowercasing & Punctuation\n",
    "    - 4. Contractions & Normalizations \n",
    "    - 5. Tokenization & Remove stop-words\n",
    "    - 6. lemmatization\n",
    "    - 7. Class Imbalance"
   ]
  },
  {
   "cell_type": "markdown",
   "metadata": {
    "id": "XyJkqK9gorxe"
   },
   "source": [
    "### Cleaning and Preprocessing"
   ]
  },
  {
   "cell_type": "markdown",
   "metadata": {
    "tags": []
   },
   "source": [
    "#### Building custom scikit-learn Transformers"
   ]
  },
  {
   "cell_type": "code",
   "execution_count": 14,
   "metadata": {},
   "outputs": [
    {
     "name": "stderr",
     "output_type": "stream",
     "text": [
      "[nltk_data] Downloading package punkt to\n",
      "[nltk_data]     C:\\Users\\PCCV\\AppData\\Roaming\\nltk_data...\n",
      "[nltk_data]   Package punkt is already up-to-date!\n",
      "[nltk_data] Downloading package stopwords to\n",
      "[nltk_data]     C:\\Users\\PCCV\\AppData\\Roaming\\nltk_data...\n",
      "[nltk_data]   Package stopwords is already up-to-date!\n",
      "[nltk_data] Downloading package wordnet to\n",
      "[nltk_data]     C:\\Users\\PCCV\\AppData\\Roaming\\nltk_data...\n",
      "[nltk_data]   Package wordnet is already up-to-date!\n"
     ]
    },
    {
     "data": {
      "text/plain": [
       "True"
      ]
     },
     "execution_count": 14,
     "metadata": {},
     "output_type": "execute_result"
    }
   ],
   "source": [
    "nltk.download('punkt')\n",
    "nltk.download('stopwords')\n",
    "nltk.download('wordnet')"
   ]
  },
  {
   "cell_type": "code",
   "execution_count": null,
   "metadata": {},
   "outputs": [
    {
     "name": "stderr",
     "output_type": "stream",
     "text": [
      "[nltk_data] Downloading package stopwords to\n",
      "[nltk_data]     C:\\Users\\PCCV\\AppData\\Roaming\\nltk_data...\n",
      "[nltk_data]   Package stopwords is already up-to-date!\n",
      "[nltk_data] Downloading package wordnet to\n",
      "[nltk_data]     C:\\Users\\PCCV\\AppData\\Roaming\\nltk_data...\n",
      "[nltk_data]   Package wordnet is already up-to-date!\n"
     ]
    }
   ],
   "source": [
    "class CustomTransformer(BaseEstimator, TransformerMixin):\n",
    "    def __init__(self):\n",
    "        self.lemmatizer = WordNetLemmatizer()\n",
    "        self.stop_words = set(stopwords.words('english'))\n",
    "\n",
    "    def fit(self, X, y=None):\n",
    "        \n",
    "        return self\n",
    "\n",
    "    def transform(self, X):\n",
    "        return X.apply(self.preprocess)\n",
    "\n",
    "    def preprocess(self, text):\n",
    "        \n",
    "        text = text.lower()\n",
    "        text = contractions.fix(text)\n",
    "        text = re.sub(r'http\\S+|www\\S+|@\\w+|#', '', text)\n",
    "        text = emoji.replace_emoji(text, replace='')\n",
    "        text = re.sub(r'[^a-zA-Z\\s]', '', text)\n",
    "        text = re.sub(r'\\s+', ' ', text).strip()\n",
    "        words = text.split()\n",
    "        words = [self.lemmatizer.lemmatize(w) for w in words if w not in self.stop_words]\n",
    "        return ' '.join(words)"
   ]
  },
  {
   "cell_type": "code",
   "execution_count": 17,
   "metadata": {
    "id": "GVjzzLhworxe"
   },
   "outputs": [],
   "source": [
    "class VectorizerTransformer(BaseEstimator, TransformerMixin):\n",
    "    def __init__(self, method='tfidf', ngram_range=(1,1), min_df=1, max_df=1.0, embedding_model=None, cnn_model=None):\n",
    "        self.method = method\n",
    "        self.ngram_range = ngram_range\n",
    "        self.min_df = min_df\n",
    "        self.max_df = max_df\n",
    "        self.embedding_model = embedding_model\n",
    "        self.cnn_model = cnn_model\n",
    "        self.vectorizer = None\n",
    "\n",
    "    def fit(self, X, y=None):\n",
    "        if self.method == 'bow':\n",
    "            self.vectorizer = CountVectorizer(ngram_range=self.ngram_range, min_df=self.min_df, max_df=self.max_df)\n",
    "            self.vectorizer.fit(X)\n",
    "        elif self.method == 'tfidf':\n",
    "            self.vectorizer = TfidfVectorizer(ngram_range=self.ngram_range, min_df=self.min_df, max_df=self.max_df)\n",
    "            self.vectorizer.fit(X)\n",
    "        elif self.method in ['word2vec', 'glove', 'fasttext']:\n",
    "            sentences = [x.split() for x in X]\n",
    "            if self.embedding_model is not None:\n",
    "                if not self.embedding_model.wv.key_to_index:  # No vocab yet\n",
    "                    self.embedding_model.build_vocab(sentences)\n",
    "                else:\n",
    "                    self.embedding_model.build_vocab(sentences, update=True)\n",
    "                self.embedding_model.train(sentences, total_examples=len(sentences), epochs=10)\n",
    "\n",
    "        elif self.method == 'cnn':\n",
    "            pass\n",
    "        return self\n",
    "\n",
    "    def transform(self, X, y=None):\n",
    "        if self.method in ['bow', 'tfidf']:\n",
    "            return self.vectorizer.transform(X)\n",
    "        \n",
    "        elif self.method in ['word2vec', 'glove', 'fasttext']:\n",
    "            return np.array([self._average_vector(text.split()) for text in X])\n",
    "\n",
    "        elif self.method == 'cnn':\n",
    "            if self.cnn_model is None:\n",
    "                raise ValueError(\"CNN model must be provided for 'cnn' vectorization.\")\n",
    "            return self.cnn_model.predict(X)\n",
    "\n",
    "    def _average_vector(self, tokens):\n",
    "        valid_tokens = [token for token in tokens if token in self.embedding_model.wv]\n",
    "        if not valid_tokens:\n",
    "            return np.zeros(self.embedding_model.vector_size)\n",
    "        return np.mean([self.embedding_model.wv[token] for token in valid_tokens], axis=0)\n"
   ]
  },
  {
   "cell_type": "code",
   "execution_count": null,
   "metadata": {
    "id": "u2EYQvrBorxf"
   },
   "outputs": [],
   "source": [
    "class CNNFeatureExtractorTransformer(BaseEstimator, TransformerMixin):\n",
    "    def __init__(self, max_vocab_size=5000, max_seq_len=100, embedding_dim=128):\n",
    "        self.max_vocab_size = max_vocab_size\n",
    "        self.max_seq_len = max_seq_len\n",
    "        self.embedding_dim = embedding_dim\n",
    "        self.tokenizer = Tokenizer(num_words=self.max_vocab_size)\n",
    "        self.model = None\n",
    "\n",
    "    def fit(self, X, y=None):\n",
    "        self.tokenizer.fit_on_texts(X)\n",
    "        sequences = self.tokenizer.texts_to_sequences(X)\n",
    "        padded = pad_sequences(sequences, maxlen=self.max_seq_len)\n",
    "\n",
    "        model = Sequential()\n",
    "        model.add(Embedding(self.max_vocab_size, self.embedding_dim, input_length=self.max_seq_len))\n",
    "        model.add(Conv1D(128, 5, activation='relu'))\n",
    "        model.add(GlobalMaxPooling1D())\n",
    "        model.add(Dense(64, activation='relu'))\n",
    "        self.model = model\n",
    "\n",
    "        self.model.predict(padded, verbose=0)  \n",
    "        return self\n",
    "\n",
    "    def transform(self, X, y=None):\n",
    "        sequences = self.tokenizer.texts_to_sequences(X)\n",
    "        padded = pad_sequences(sequences, maxlen=self.max_seq_len)\n",
    "        features = self.model.predict(padded, verbose=0)\n",
    "        return features\n"
   ]
  },
  {
   "cell_type": "markdown",
   "metadata": {
    "id": "R9BhRQbYorxf"
   },
   "source": [
    "### Modelling PipeLines"
   ]
  },
  {
   "cell_type": "code",
   "execution_count": 70,
   "metadata": {
    "tags": []
   },
   "outputs": [],
   "source": [
    "log_model = LogisticRegression(random_state=88)\n",
    "\n",
    "pipeline1 = ImbPipeline(steps=[\n",
    "    ('preprocessing', CustomTransformer()),       \n",
    "    ('vectorizer', TfidfVectorizer()),            \n",
    "    ('smote', SMOTE(random_state=88)),            \n",
    "    ('model', log_model)               \n",
    "])\n",
    "\n",
    "\n",
    "pipeline1.fit(x_train, y_train)\n",
    "pred1 = pipeline1.predict(x_val)\n"
   ]
  },
  {
   "cell_type": "code",
   "execution_count": 71,
   "metadata": {},
   "outputs": [],
   "source": [
    "rf_model = RandomForestClassifier(n_estimators=100 , random_state=88)\n",
    "\n",
    "pipeline2 = ImbPipeline(steps=[\n",
    "    ('preprocessing', CustomTransformer()),       \n",
    "    ('vectorizer', TfidfVectorizer()),            \n",
    "    ('smote', SMOTE(random_state=88)),            \n",
    "    ('model', rf_model)               \n",
    "])\n",
    "\n",
    "\n",
    "pipeline2.fit(x_train, y_train)\n",
    "pred2 = pipeline2.predict(x_val)\n"
   ]
  },
  {
   "cell_type": "code",
   "execution_count": 64,
   "metadata": {},
   "outputs": [],
   "source": [
    "svm_model = SVC(random_state=88)\n",
    "\n",
    "pipeline = ImbPipeline(steps=[\n",
    "    ('preprocessing', CustomTransformer()),       \n",
    "    ('vectorizer', TfidfVectorizer()),            \n",
    "    ('smote', SMOTE(random_state=88)),            \n",
    "    ('model', svm_model)               \n",
    "])\n",
    "\n",
    "\n",
    "pipeline.fit(x_train, y_train)\n",
    "pred3 = pipeline.predict(x_val)\n"
   ]
  },
  {
   "cell_type": "markdown",
   "metadata": {
    "id": "85JlkIQXorxg"
   },
   "source": [
    "#### Evaluation"
   ]
  },
  {
   "cell_type": "code",
   "execution_count": 65,
   "metadata": {},
   "outputs": [
    {
     "name": "stdout",
     "output_type": "stream",
     "text": [
      "Classification report of LogisticRegression model: \n",
      "               precision    recall  f1-score   support\n",
      "\n",
      "    not hate       0.98      0.86      0.92      4398\n",
      "        hate       0.29      0.73      0.41       332\n",
      "\n",
      "    accuracy                           0.85      4730\n",
      "   macro avg       0.63      0.80      0.66      4730\n",
      "weighted avg       0.93      0.85      0.88      4730\n",
      "\n",
      "f1 score of LogisticRegression model :  0.6645114422710963\n"
     ]
    }
   ],
   "source": [
    "print('Classification report of LogisticRegression model: \\n', classification_report(y_val, pred1, target_names=['not hate', 'hate']))\n",
    "print('f1 score of LogisticRegression model : ', f1_score(y_val, pred1, average='macro'))"
   ]
  },
  {
   "cell_type": "code",
   "execution_count": 66,
   "metadata": {
    "id": "37C70N6Aorxh"
   },
   "outputs": [
    {
     "name": "stdout",
     "output_type": "stream",
     "text": [
      "Classification report of RandomForest model : \n",
      "               precision    recall  f1-score   support\n",
      "\n",
      "    not hate       0.97      0.96      0.96      4398\n",
      "        hate       0.52      0.60      0.56       332\n",
      "\n",
      "    accuracy                           0.93      4730\n",
      "   macro avg       0.74      0.78      0.76      4730\n",
      "weighted avg       0.94      0.93      0.94      4730\n",
      "\n",
      "f1 score of RandomForest model :  0.7603634743807152\n"
     ]
    }
   ],
   "source": [
    "print('Classification report of RandomForest model : \\n', classification_report(y_val, pred2, target_names=['not hate', 'hate']))\n",
    "print('f1 score of RandomForest model : ', f1_score(y_val, pred2, average='macro'))"
   ]
  },
  {
   "cell_type": "code",
   "execution_count": 67,
   "metadata": {
    "id": "LxBF_HEsorxh"
   },
   "outputs": [
    {
     "name": "stdout",
     "output_type": "stream",
     "text": [
      "Classification report of SVM model: \n",
      "               precision    recall  f1-score   support\n",
      "\n",
      "    not hate       0.96      0.96      0.96      4398\n",
      "        hate       0.47      0.44      0.46       332\n",
      "\n",
      "    accuracy                           0.93      4730\n",
      "   macro avg       0.72      0.70      0.71      4730\n",
      "weighted avg       0.92      0.93      0.92      4730\n",
      "\n",
      "f1 score of SVM model:  0.7079822868614938\n"
     ]
    }
   ],
   "source": [
    "print('Classification report of SVM model: \\n', classification_report(y_val, pred3, target_names=['not hate', 'hate']))\n",
    "print('f1 score of SVM model: ', f1_score(y_val, pred3, average='macro'))"
   ]
  },
  {
   "cell_type": "markdown",
   "metadata": {
    "id": "fhVFUaIcorxh"
   },
   "source": [
    "### Enhancement\n"
   ]
  },
  {
   "cell_type": "code",
   "execution_count": 37,
   "metadata": {
    "id": "Y4h1Danvorxh"
   },
   "outputs": [
    {
     "name": "stdout",
     "output_type": "stream",
     "text": [
      "\n",
      "Training RandomForest with bow vectorization...\n",
      "\n",
      "F1 score of RandomForest with bow vectorization: 0.6273\n",
      "              precision    recall  f1-score   support\n",
      "\n",
      "    not hate       0.97      0.86      0.91      4398\n",
      "        hate       0.24      0.61      0.35       332\n",
      "\n",
      "    accuracy                           0.84      4730\n",
      "   macro avg       0.60      0.73      0.63      4730\n",
      "weighted avg       0.92      0.84      0.87      4730\n",
      "\n",
      "\n",
      "Training RandomForest with tfidf vectorization...\n",
      "\n",
      "F1 score of RandomForest with tfidf vectorization: 0.7507\n",
      "              precision    recall  f1-score   support\n",
      "\n",
      "    not hate       0.97      0.96      0.96      4398\n",
      "        hate       0.50      0.59      0.54       332\n",
      "\n",
      "    accuracy                           0.93      4730\n",
      "   macro avg       0.73      0.77      0.75      4730\n",
      "weighted avg       0.94      0.93      0.93      4730\n",
      "\n",
      "\n",
      "Training RandomForest with word2vec vectorization...\n",
      "\n",
      "F1 score of RandomForest with word2vec vectorization: 0.7154\n",
      "              precision    recall  f1-score   support\n",
      "\n",
      "    not hate       0.96      0.95      0.96      4398\n",
      "        hate       0.45      0.49      0.47       332\n",
      "\n",
      "    accuracy                           0.92      4730\n",
      "   macro avg       0.71      0.72      0.72      4730\n",
      "weighted avg       0.93      0.92      0.92      4730\n",
      "\n",
      "\n",
      "Training RandomForest with glove vectorization...\n",
      "\n",
      "F1 score of RandomForest with glove vectorization: 0.7355\n",
      "              precision    recall  f1-score   support\n",
      "\n",
      "    not hate       0.97      0.96      0.96      4398\n",
      "        hate       0.48      0.55      0.51       332\n",
      "\n",
      "    accuracy                           0.93      4730\n",
      "   macro avg       0.72      0.75      0.74      4730\n",
      "weighted avg       0.93      0.93      0.93      4730\n",
      "\n",
      "\n",
      "Training RandomForest with fasttext vectorization...\n",
      "\n",
      "F1 score of RandomForest with fasttext vectorization: 0.7505\n",
      "              precision    recall  f1-score   support\n",
      "\n",
      "    not hate       0.97      0.96      0.96      4398\n",
      "        hate       0.51      0.57      0.54       332\n",
      "\n",
      "    accuracy                           0.93      4730\n",
      "   macro avg       0.74      0.76      0.75      4730\n",
      "weighted avg       0.94      0.93      0.93      4730\n",
      "\n",
      "\n",
      "Training SVM with bow vectorization...\n",
      "\n",
      "F1 score of SVM with bow vectorization: 0.6167\n",
      "              precision    recall  f1-score   support\n",
      "\n",
      "    not hate       0.95      0.92      0.93      4398\n",
      "        hate       0.25      0.36      0.30       332\n",
      "\n",
      "    accuracy                           0.88      4730\n",
      "   macro avg       0.60      0.64      0.62      4730\n",
      "weighted avg       0.90      0.88      0.89      4730\n",
      "\n",
      "\n",
      "Training SVM with tfidf vectorization...\n",
      "\n",
      "F1 score of SVM with tfidf vectorization: 0.7080\n",
      "              precision    recall  f1-score   support\n",
      "\n",
      "    not hate       0.96      0.96      0.96      4398\n",
      "        hate       0.47      0.44      0.46       332\n",
      "\n",
      "    accuracy                           0.93      4730\n",
      "   macro avg       0.72      0.70      0.71      4730\n",
      "weighted avg       0.92      0.93      0.92      4730\n",
      "\n",
      "\n",
      "Training SVM with word2vec vectorization...\n",
      "\n",
      "F1 score of SVM with word2vec vectorization: 0.6514\n",
      "              precision    recall  f1-score   support\n",
      "\n",
      "    not hate       0.98      0.85      0.91      4398\n",
      "        hate       0.27      0.72      0.39       332\n",
      "\n",
      "    accuracy                           0.84      4730\n",
      "   macro avg       0.62      0.79      0.65      4730\n",
      "weighted avg       0.93      0.84      0.87      4730\n",
      "\n",
      "\n",
      "Training SVM with glove vectorization...\n",
      "\n",
      "F1 score of SVM with glove vectorization: 0.6671\n",
      "              precision    recall  f1-score   support\n",
      "\n",
      "    not hate       0.98      0.87      0.92      4398\n",
      "        hate       0.29      0.72      0.42       332\n",
      "\n",
      "    accuracy                           0.86      4730\n",
      "   macro avg       0.63      0.79      0.67      4730\n",
      "weighted avg       0.93      0.86      0.88      4730\n",
      "\n",
      "\n",
      "Training SVM with fasttext vectorization...\n",
      "\n",
      "F1 score of SVM with fasttext vectorization: 0.6783\n",
      "              precision    recall  f1-score   support\n",
      "\n",
      "    not hate       0.98      0.88      0.92      4398\n",
      "        hate       0.31      0.72      0.43       332\n",
      "\n",
      "    accuracy                           0.87      4730\n",
      "   macro avg       0.64      0.80      0.68      4730\n",
      "weighted avg       0.93      0.87      0.89      4730\n",
      "\n",
      "\n",
      "Training LogisticRegression with bow vectorization...\n",
      "\n",
      "F1 score of LogisticRegression with bow vectorization: 0.6239\n",
      "              precision    recall  f1-score   support\n",
      "\n",
      "    not hate       0.97      0.85      0.90      4398\n",
      "        hate       0.24      0.62      0.34       332\n",
      "\n",
      "    accuracy                           0.83      4730\n",
      "   macro avg       0.60      0.74      0.62      4730\n",
      "weighted avg       0.92      0.83      0.86      4730\n",
      "\n",
      "\n",
      "Training LogisticRegression with tfidf vectorization...\n",
      "\n",
      "F1 score of LogisticRegression with tfidf vectorization: 0.6645\n",
      "              precision    recall  f1-score   support\n",
      "\n",
      "    not hate       0.98      0.86      0.92      4398\n",
      "        hate       0.29      0.73      0.41       332\n",
      "\n",
      "    accuracy                           0.85      4730\n",
      "   macro avg       0.63      0.80      0.66      4730\n",
      "weighted avg       0.93      0.85      0.88      4730\n",
      "\n",
      "\n",
      "Training LogisticRegression with word2vec vectorization...\n",
      "\n",
      "F1 score of LogisticRegression with word2vec vectorization: 0.5962\n",
      "              precision    recall  f1-score   support\n",
      "\n",
      "    not hate       0.98      0.78      0.87      4398\n",
      "        hate       0.21      0.76      0.32       332\n",
      "\n",
      "    accuracy                           0.78      4730\n",
      "   macro avg       0.59      0.77      0.60      4730\n",
      "weighted avg       0.92      0.78      0.83      4730\n",
      "\n",
      "\n",
      "Training LogisticRegression with glove vectorization...\n",
      "\n",
      "F1 score of LogisticRegression with glove vectorization: 0.5991\n",
      "              precision    recall  f1-score   support\n",
      "\n",
      "    not hate       0.98      0.79      0.87      4398\n",
      "        hate       0.21      0.74      0.33       332\n",
      "\n",
      "    accuracy                           0.78      4730\n",
      "   macro avg       0.59      0.77      0.60      4730\n",
      "weighted avg       0.92      0.78      0.83      4730\n",
      "\n",
      "\n",
      "Training LogisticRegression with fasttext vectorization...\n",
      "\n",
      "F1 score of LogisticRegression with fasttext vectorization: 0.5982\n",
      "              precision    recall  f1-score   support\n",
      "\n",
      "    not hate       0.98      0.79      0.87      4398\n",
      "        hate       0.21      0.74      0.32       332\n",
      "\n",
      "    accuracy                           0.78      4730\n",
      "   macro avg       0.59      0.76      0.60      4730\n",
      "weighted avg       0.92      0.78      0.83      4730\n",
      "\n"
     ]
    }
   ],
   "source": [
    "vectorizers = ['bow', 'tfidf', 'word2vec', 'glove', 'fasttext']\n",
    "models = [\n",
    "    ('RandomForest', RandomForestClassifier(n_estimators=400, random_state=88)),\n",
    "    ('SVM', SVC(random_state=88)),\n",
    "    ('LogisticRegression', LogisticRegression(random_state=88))\n",
    "]\n",
    "\n",
    "# Initialize reusable embedding model for word2vec-based methods\n",
    "embedding_model = Word2Vec(vector_size=100, window=5, min_count=1, workers=4, seed=88)\n",
    "\n",
    "\n",
    "\n",
    "for model_name, model_instance in models:\n",
    "    for v in vectorizers:\n",
    "        print(f\"\\nTraining {model_name} with {v} vectorization...\\n\")\n",
    "\n",
    "        if v in ['word2vec', 'glove', 'fasttext']:\n",
    "            vectorizer = VectorizerTransformer(method=v, embedding_model=embedding_model)\n",
    "        else:\n",
    "            vectorizer = VectorizerTransformer(method=v)\n",
    "        \n",
    "        pipeline = ImbPipeline(steps=[\n",
    "            ('preprocessing', CustomTransformer()),\n",
    "            ('vectorizer', vectorizer),\n",
    "            ('smote', SMOTE(random_state=88)),\n",
    "            ('model', model_instance)\n",
    "        ])\n",
    "\n",
    "    \n",
    "        pipeline.fit(x_train, y_train)\n",
    "        pred = pipeline.predict(x_val)\n",
    "    \n",
    "        print(f\"F1 score of {model_name} with {v} vectorization: {f1_score(y_val, pred, average='macro'):.4f}\")\n",
    "        print(classification_report(y_val, pred, target_names=['not hate', 'hate']))\n"
   ]
  },
  {
   "cell_type": "code",
   "execution_count": 23,
   "metadata": {},
   "outputs": [
    {
     "name": "stdout",
     "output_type": "stream",
     "text": [
      "F1 score of RandomForest with class_weight='balanced':  0.8206097639072043\n",
      "              precision    recall  f1-score   support\n",
      "\n",
      "    not hate       0.97      0.99      0.98      4398\n",
      "        hate       0.86      0.54      0.66       332\n",
      "\n",
      "    accuracy                           0.96      4730\n",
      "   macro avg       0.91      0.77      0.82      4730\n",
      "weighted avg       0.96      0.96      0.96      4730\n",
      "\n"
     ]
    }
   ],
   "source": [
    "rf_model8 = RandomForestClassifier(n_estimators=400 , class_weight='balanced' , random_state=88)\n",
    "vectorizer8 = VectorizerTransformer(method='tfidf', ngram_range=(1, 3), min_df=2, max_df=0.9)\n",
    "\n",
    "pipeline8 = ImbPipeline(steps=[\n",
    "    ('preprocessing', CustomTransformer()),       \n",
    "    ('vectorizer', vectorizer8),                      \n",
    "    ('model', rf_model8)               \n",
    "])\n",
    "\n",
    "\n",
    "pipeline8.fit(x_train, y_train)\n",
    "pred8 = pipeline8.predict(x_val)\n",
    "print(\"F1 score of RandomForest with class_weight='balanced': \", f1_score(y_val, pred8, average='macro'))\n",
    "print(classification_report(y_val, pred8, target_names=['not hate', 'hate']))"
   ]
  },
  {
   "cell_type": "markdown",
   "metadata": {},
   "source": [
    "## * `Highest` Model Score *"
   ]
  },
  {
   "cell_type": "code",
   "execution_count": 28,
   "metadata": {},
   "outputs": [
    {
     "name": "stdout",
     "output_type": "stream",
     "text": [
      "F1 score of RandomForest with Smote :  0.8260473932852508\n",
      "              precision    recall  f1-score   support\n",
      "\n",
      "    not hate       0.97      0.98      0.98      4398\n",
      "        hate       0.69      0.66      0.68       332\n",
      "\n",
      "    accuracy                           0.96      4730\n",
      "   macro avg       0.83      0.82      0.83      4730\n",
      "weighted avg       0.95      0.96      0.96      4730\n",
      "\n"
     ]
    }
   ],
   "source": [
    "rf_model10= RandomForestClassifier(n_estimators=400 , random_state=88)\n",
    "vectorizer10 = VectorizerTransformer(method='tfidf', ngram_range=(1, 3), min_df=2, max_df=0.9)\n",
    "\n",
    "pipeline10= ImbPipeline(steps=[\n",
    "    ('preprocessing', CustomTransformer()),       \n",
    "    ('vectorizer', vectorizer10),\n",
    "    ('smote', SMOTE(sampling_strategy=0.5,random_state=88)),                      \n",
    "    ('model', rf_model10)               \n",
    "])\n",
    "\n",
    "\n",
    "pipeline10.fit(x_train, y_train)\n",
    "pred10 = pipeline10.predict(x_val)\n",
    "print(\"F1 score of RandomForest with Smote : \", f1_score(y_val, pred10, average='macro'))\n",
    "print(classification_report(y_val, pred10, target_names=['not hate', 'hate']))"
   ]
  },
  {
   "cell_type": "code",
   "execution_count": 21,
   "metadata": {},
   "outputs": [
    {
     "name": "stderr",
     "output_type": "stream",
     "text": [
      "c:\\Users\\PCCV\\AppData\\Local\\Programs\\Python\\Python311\\Lib\\site-packages\\keras\\src\\layers\\core\\embedding.py:90: UserWarning: Argument `input_length` is deprecated. Just remove it.\n",
      "  warnings.warn(\n"
     ]
    },
    {
     "name": "stdout",
     "output_type": "stream",
     "text": [
      "F1 score of RandomForest with CNN features:  0.6788131777016932\n",
      "              precision    recall  f1-score   support\n",
      "\n",
      "    not hate       0.95      1.00      0.97      4398\n",
      "        hate       0.82      0.25      0.39       332\n",
      "\n",
      "    accuracy                           0.94      4730\n",
      "   macro avg       0.88      0.62      0.68      4730\n",
      "weighted avg       0.94      0.94      0.93      4730\n",
      "\n"
     ]
    }
   ],
   "source": [
    "pipeline9 = Pipeline([\n",
    "    ('preprocessing', CustomTransformer()),\n",
    "    ('cnn_features', CNNFeatureExtractorTransformer(max_vocab_size=5000, max_seq_len=100, embedding_dim=128)),\n",
    "    ('model', RandomForestClassifier(random_state=88 , n_estimators=500 ,class_weight='balanced'))\n",
    "])\n",
    "\n",
    "pipeline9.fit(x_train, y_train)\n",
    "pred9 = pipeline9.predict(x_val)\n",
    "print(\"F1 score of RandomForest with CNN features: \", f1_score(y_val, pred9, average='macro'))\n",
    "print(classification_report(y_val, pred9, target_names=['not hate', 'hate']))"
   ]
  },
  {
   "cell_type": "markdown",
   "metadata": {},
   "source": [
    "###  Let's make `grid search` for the best parameters for RandomForestClassifier with TfidfVectorizer"
   ]
  },
  {
   "cell_type": "code",
   "execution_count": null,
   "metadata": {},
   "outputs": [
    {
     "name": "stdout",
     "output_type": "stream",
     "text": [
      "Best parameters: {'model__max_depth': None, 'model__n_estimators': 500, 'vectorizer__max_df': 0.9, 'vectorizer__min_df': 1, 'vectorizer__ngram_range': (1, 1)}\n",
      "Best score: 0.7336\n"
     ]
    }
   ],
   "source": [
    "\n",
    "final_model = RandomForestClassifier(random_state=88)\n",
    "final_vectorizer = TfidfVectorizer()\n",
    "\n",
    "final_pipeline = ImbPipeline(steps=[\n",
    "    ('preprocessing', CustomTransformer()),\n",
    "    ('vectorizer', final_vectorizer),\n",
    "    ('smote', SMOTE(random_state=88)),\n",
    "    ('model', final_model)\n",
    "])\n",
    "\n",
    "params = {\n",
    "    'vectorizer__ngram_range': [(1, 1), (1, 2)],\n",
    "    'vectorizer__min_df': [1, 2],\n",
    "    'vectorizer__max_df': [0.9, 1.0],\n",
    "    'model__n_estimators': [100, 200,300, 400,500],\n",
    "    'model__max_depth': [None, 10, 20]\n",
    "\n",
    "}\n",
    "\n",
    "grid_search = GridSearchCV(final_pipeline, param_grid=params, cv=3, scoring='f1_macro', n_jobs=1)\n",
    "grid_search.fit(x_train, y_train)\n",
    "best_params = grid_search.best_params_\n",
    "best_score = grid_search.best_score_\n",
    "print(f\"Best parameters: {best_params}\")\n",
    "print(f\"Best score: {best_score:.4f}\")"
   ]
  },
  {
   "cell_type": "markdown",
   "metadata": {},
   "source": [
    "# Conclusion and final results\n"
   ]
  },
  {
   "cell_type": "markdown",
   "metadata": {},
   "source": [
    "### - `Random-Forest` model --> no_estimators=400 \n",
    "### - `Tf-Idf` vectorizer   --> ngram_range=(1,3) , max_df=0.9 , min_df=2\n",
    "### - `Smote`               --> To handle the data imbalance using sampling_strategy=0.5,\n",
    "### - `F1-Score` : 83%      --> avg='macro' "
   ]
  },
  {
   "cell_type": "markdown",
   "metadata": {
    "id": "Nw1GVnYLorxi"
   },
   "source": [
    "#### Done!"
   ]
  }
 ],
 "metadata": {
  "colab": {
   "provenance": []
  },
  "kernelspec": {
   "display_name": "Python 3",
   "language": "python",
   "name": "python3"
  },
  "language_info": {
   "codemirror_mode": {
    "name": "ipython",
    "version": 3
   },
   "file_extension": ".py",
   "mimetype": "text/x-python",
   "name": "python",
   "nbconvert_exporter": "python",
   "pygments_lexer": "ipython3",
   "version": "3.11.9"
  }
 },
 "nbformat": 4,
 "nbformat_minor": 4
}
