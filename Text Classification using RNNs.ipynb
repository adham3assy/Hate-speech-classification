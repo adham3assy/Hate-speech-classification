{
 "cells": [
  {
   "cell_type": "markdown",
   "metadata": {},
   "source": [
    "**Dataset**\n",
    "labeled datasset collected from twitter\n",
    "\n",
    "**Objective**\n",
    "classify tweets containing hate speech from other tweets. <br>\n",
    "0 -> no hate speech <br>\n",
    "1 -> contains hate speech <br>\n",
    "\n",
    "**Evaluation metric**\n",
    "macro f1 score"
   ]
  },
  {
   "cell_type": "markdown",
   "metadata": {},
   "source": [
    "### Import Libraries"
   ]
  },
  {
   "cell_type": "code",
   "execution_count": 1,
   "metadata": {},
   "outputs": [],
   "source": [
    "import pandas as pd \n",
    "import matplotlib.pyplot as plt\n",
    "from sklearn.model_selection import train_test_split\n",
    "from sklearn.base import BaseEstimator, TransformerMixin\n",
    "from sklearn.feature_extraction.text import TfidfVectorizer , CountVectorizer\n",
    "import numpy as np\n",
    "import tensorflow as tf\n",
    "from tensorflow.keras.preprocessing.text import Tokenizer\n",
    "from tensorflow.keras.preprocessing.sequence import pad_sequences\n",
    "import gensim.downloader as api\n",
    "from gensim.models import KeyedVectors\n",
    "from tensorflow.keras.models import Sequential\n",
    "from tensorflow.keras.layers import Embedding, Bidirectional, LSTM, Dense , Dropout , GlobalMaxPooling1D ,GRU , SimpleRNN , BatchNormalization\n",
    "from sklearn.metrics import classification_report, f1_score \n",
    "from sklearn.utils.class_weight import compute_class_weight\n",
    "from tensorflow.keras.callbacks import EarlyStopping\n",
    "from collections import Counter\n"
   ]
  },
  {
   "cell_type": "code",
   "execution_count": 2,
   "metadata": {},
   "outputs": [
    {
     "name": "stdout",
     "output_type": "stream",
     "text": [
      "TensorFlow version: 2.10.0\n",
      "Num GPUs Available:  1\n"
     ]
    }
   ],
   "source": [
    "import tensorflow as tf\n",
    "\n",
    "print(\"TensorFlow version:\", tf.__version__)\n",
    "print(\"Num GPUs Available: \", len(tf.config.list_physical_devices('GPU')))"
   ]
  },
  {
   "cell_type": "markdown",
   "metadata": {},
   "source": [
    "### Load Dataset"
   ]
  },
  {
   "cell_type": "code",
   "execution_count": 3,
   "metadata": {},
   "outputs": [
    {
     "data": {
      "application/vnd.microsoft.datawrangler.viewer.v0+json": {
       "columns": [
        {
         "name": "index",
         "rawType": "int64",
         "type": "integer"
        },
        {
         "name": "label",
         "rawType": "int64",
         "type": "integer"
        },
        {
         "name": "tweet",
         "rawType": "object",
         "type": "string"
        },
        {
         "name": "cleaned_tweet",
         "rawType": "object",
         "type": "unknown"
        }
       ],
       "conversionMethod": "pd.DataFrame",
       "ref": "2c395bc8-6e9a-486d-a719-385582258151",
       "rows": [
        [
         "0",
         "0",
         "@user when a father is dysfunctional and is so selfish he drags his kids into his dysfunction.   #run",
         "father dysfunctional selfish drag kid dysfunction run"
        ],
        [
         "1",
         "0",
         "@user @user thanks for #lyft credit i can't use cause they don't offer wheelchair vans in pdx.    #disapointed #getthanked",
         "thanks lyft credit cannot use offer wheelchair van pdx disapointed getthanked"
        ],
        [
         "2",
         "0",
         "bihday your majesty",
         "bihday majesty"
        ],
        [
         "3",
         "0",
         "#model   i love u take with u all the time in urð±!!! ððððð¦ð¦ð¦",
         "model love take time"
        ],
        [
         "4",
         "0",
         "factsguide: society now    #motivation",
         "factsguide society motivation"
        ],
        [
         "5",
         "0",
         "[2/2] huge fan fare and big talking before they leave. chaos and pay disputes when they get there. #allshowandnogo",
         "huge fan fare big talking leave chaos pay dispute get allshowandnogo"
        ],
        [
         "6",
         "0",
         "@user camping tomorrow @user @user @user @user @user @user @user dannyâ¦",
         "camping tomorrow danny"
        ],
        [
         "7",
         "0",
         "the next school year is the year for exams.ð¯ can't think about that ð­ #school #exams   #hate #imagine #actorslife #revolutionschool #girl",
         "next school year year exam cannot think school exam hate imagine actorslife revolutionschool girl"
        ],
        [
         "8",
         "0",
         "we won!!! love the land!!! #allin #cavs #champions #cleveland #clevelandcavaliers  â¦",
         "love land allin cavs champion cleveland clevelandcavaliers"
        ],
        [
         "9",
         "0",
         "@user @user welcome here !  i'm   it's so #gr8 !",
         "welcome gr"
        ],
        [
         "10",
         "0",
         "â #ireland consumer price index (mom) climbed from previous 0.2% to 0.5% in may   #blog #silver #gold #forex",
         "ireland consumer price index mom climbed previous may blog silver gold forex"
        ],
        [
         "11",
         "0",
         "we are so selfish. #orlando #standwithorlando #pulseshooting #orlandoshooting #biggerproblems #selfish #heabreaking   #values #love #",
         "selfish orlando standwithorlando pulseshooting orlandoshooting biggerproblems selfish heabreaking value love"
        ],
        [
         "12",
         "0",
         "i get to see my daddy today!!   #80days #gettingfed",
         "get see daddy today day gettingfed"
        ],
        [
         "13",
         "1",
         "@user #cnn calls #michigan middle school 'build the wall' chant '' #tcot",
         "cnn call michigan middle school build wall chant tcot"
        ],
        [
         "14",
         "1",
         "no comment!  in #australia   #opkillingbay #seashepherd #helpcovedolphins #thecove  #helpcovedolphins",
         "comment australia opkillingbay seashepherd helpcovedolphins thecove helpcovedolphins"
        ],
        [
         "15",
         "0",
         "ouch...junior is angryð#got7 #junior #yugyoem   #omg",
         "ouchjunior angrygot junior yugyoem omg"
        ],
        [
         "16",
         "0",
         "i am thankful for having a paner. #thankful #positive",
         "thankful paner thankful positive"
        ],
        [
         "17",
         "1",
         "retweet if you agree!",
         "retweet agree"
        ],
        [
         "18",
         "0",
         "its #friday! ð smiles all around via ig user: @user #cookies make people",
         "friday smile around via ig user cooky make people"
        ],
        [
         "19",
         "0",
         "as we all know, essential oils are not made of chemicals. ",
         "know essential oil made chemical"
        ],
        [
         "20",
         "0",
         "#euro2016 people blaming ha for conceded goal was it fat rooney who gave away free kick knowing bale can hit them from there.",
         "euro people blaming ha conceded goal fat rooney gave away free kick knowing bale hit"
        ],
        [
         "21",
         "0",
         "sad little dude..   #badday #coneofshame #cats #pissed #funny #laughs",
         "sad little dude badday coneofshame cat pissed funny laugh"
        ],
        [
         "22",
         "0",
         "product of the day: happy man #wine tool  who's   it's the #weekend? time to open up &amp; drink up!",
         "product day happy man wine tool weekend time open amp drink"
        ],
        [
         "23",
         "1",
         "@user @user lumpy says i am a . prove it lumpy.",
         "lumpy say prove lumpy"
        ],
        [
         "24",
         "0",
         "@user #tgif   #ff to my #gamedev #indiedev #indiegamedev #squad! @user @user @user @user @user",
         "tgif ff gamedev indiedev indiegamedev squad"
        ],
        [
         "25",
         "0",
         "beautiful sign by vendor 80 for $45.00!! #upsideofflorida #shopalyssas   #love",
         "beautiful sign vendor upsideofflorida shopalyssas love"
        ],
        [
         "26",
         "0",
         "@user all #smiles when #media is   !! ðð #pressconference in #antalya #turkey ! sunday #throwback  love! ððâ¤ï¸",
         "smile medium pressconference antalya turkey sunday throwback love"
        ],
        [
         "27",
         "0",
         "we had a great panel on the mediatization of the public service   #ica16",
         "great panel mediatization public service ica"
        ],
        [
         "28",
         "0",
         "happy father's day @user ðððð",
         "happy father day"
        ],
        [
         "29",
         "0",
         "50 people went to nightclub to have a good night and 1 man's actions means those people are lost to their families forever #rip#orlando",
         "people went nightclub good night man action mean people lost family forever riporlando"
        ],
        [
         "30",
         "0",
         "i have never had a chance to vote for a presidential candidate i was excited about and this cycle looks to be no different.",
         "never chance vote presidential candidate excited cycle look different"
        ],
        [
         "31",
         "0",
         "#alohafriday #time does #not #exist #positivevibes #hawaiian @user @user @user @user",
         "alohafriday time exist positivevibes hawaiian"
        ],
        [
         "32",
         "0",
         " @user rip to the fellow nohern ireland fan who sadley passed away tonight!.. gawa, forever singing and cheering on fire  ",
         "rip fellow nohern ireland fan sadley passed away tonight gawa forever singing cheering fire"
        ],
        [
         "33",
         "0",
         "it was a hard monday due to cloudy weather. disabling oxygen production for today. #goodnight #badmonday",
         "hard monday due cloudy weather disabling oxygen production today goodnight badmonday"
        ],
        [
         "34",
         "1",
         "it's unbelievable that in the 21st century we'd need something like this. again. #neverump  #xenophobia",
         "unbelievable st century would need something like neverump xenophobia"
        ],
        [
         "35",
         "0",
         "#taylorswift1989   bull up: you will dominate your bull and you will direct it whatever you want it to do. w",
         "taylorswift bull dominate bull direct whatever want w"
        ],
        [
         "36",
         "0",
         "morning~~ #travelingram #dalat   #ripinkylife",
         "morning travelingram dalat ripinkylife"
        ],
        [
         "37",
         "0",
         "@user once more only one word tells it all: #photoshop.  #enoughisenough #dontphotoshopeverything #wheresallthenaturalphotos",
         "one word tell photoshop enoughisenough dontphotoshopeverything wheresallthenaturalphotos"
        ],
        [
         "38",
         "0",
         "oh, #cedarpoint. waited 2 hours in the valravn line and it stopped working. we were so close.  ",
         "oh cedarpoint waited hour valravn line stopped working close"
        ],
        [
         "39",
         "0",
         "i am thankful for sunshine. #thankful #positive",
         "thankful sunshine thankful positive"
        ],
        [
         "40",
         "0",
         "when you finally finish a book you've been working on for awhile...  #bookworm #ontothenextnovel",
         "finally finish book working awhile bookworm ontothenextnovel"
        ],
        [
         "41",
         "0",
         "yup, being a knicks fan is hard, so its easier to just be an nba fan when the playoffs roll around ð ",
         "yup knicks fan hard easier nba fan playoff roll around"
        ],
        [
         "42",
         "0",
         "there is life after social networking. embrace each day. be",
         "life social networking embrace day"
        ],
        [
         "43",
         "0",
         "my mom shares the same bihday as @user   bihday snake! see you this weekend ðð¼",
         "mom share bihday bihday snake see weekend"
        ],
        [
         "44",
         "0",
         "lovely echeveria blooms#flowers #grow #gardening #iphonesia #bliss #blooms #basilicabotanica",
         "lovely echeveria bloomsflowers grow gardening iphonesia bliss bloom basilicabotanica"
        ],
        [
         "45",
         "0",
         "i am amazing. #i_am #positive #affirmation",
         "amazing iam positive affirmation"
        ],
        [
         "46",
         "0",
         "#whenever im   and #something goes #wrong  |",
         "whenever something go wrong"
        ],
        [
         "47",
         "0",
         "feeling blue #illustration",
         "feeling blue illustration"
        ],
        [
         "48",
         "0",
         "the best pa about life is knowing who you are! ðâï¸ð¼ð»  â¦",
         "best pa life knowing"
        ],
        [
         "49",
         "0",
         "#abc2020 getting ready 2 remove the victums frm #pulseclub #prayfororlando",
         "abc getting ready remove victums frm pulseclub prayfororlando"
        ]
       ],
       "shape": {
        "columns": 3,
        "rows": 29131
       }
      },
      "text/html": [
       "<div>\n",
       "<style scoped>\n",
       "    .dataframe tbody tr th:only-of-type {\n",
       "        vertical-align: middle;\n",
       "    }\n",
       "\n",
       "    .dataframe tbody tr th {\n",
       "        vertical-align: top;\n",
       "    }\n",
       "\n",
       "    .dataframe thead th {\n",
       "        text-align: right;\n",
       "    }\n",
       "</style>\n",
       "<table border=\"1\" class=\"dataframe\">\n",
       "  <thead>\n",
       "    <tr style=\"text-align: right;\">\n",
       "      <th></th>\n",
       "      <th>label</th>\n",
       "      <th>tweet</th>\n",
       "      <th>cleaned_tweet</th>\n",
       "    </tr>\n",
       "  </thead>\n",
       "  <tbody>\n",
       "    <tr>\n",
       "      <th>0</th>\n",
       "      <td>0</td>\n",
       "      <td>@user when a father is dysfunctional and is so...</td>\n",
       "      <td>father dysfunctional selfish drag kid dysfunct...</td>\n",
       "    </tr>\n",
       "    <tr>\n",
       "      <th>1</th>\n",
       "      <td>0</td>\n",
       "      <td>@user @user thanks for #lyft credit i can't us...</td>\n",
       "      <td>thanks lyft credit cannot use offer wheelchair...</td>\n",
       "    </tr>\n",
       "    <tr>\n",
       "      <th>2</th>\n",
       "      <td>0</td>\n",
       "      <td>bihday your majesty</td>\n",
       "      <td>bihday majesty</td>\n",
       "    </tr>\n",
       "    <tr>\n",
       "      <th>3</th>\n",
       "      <td>0</td>\n",
       "      <td>#model   i love u take with u all the time in ...</td>\n",
       "      <td>model love take time</td>\n",
       "    </tr>\n",
       "    <tr>\n",
       "      <th>4</th>\n",
       "      <td>0</td>\n",
       "      <td>factsguide: society now    #motivation</td>\n",
       "      <td>factsguide society motivation</td>\n",
       "    </tr>\n",
       "    <tr>\n",
       "      <th>...</th>\n",
       "      <td>...</td>\n",
       "      <td>...</td>\n",
       "      <td>...</td>\n",
       "    </tr>\n",
       "    <tr>\n",
       "      <th>29126</th>\n",
       "      <td>0</td>\n",
       "      <td>off fishing tomorrow @user carnt wait first ti...</td>\n",
       "      <td>fishing tomorrow carnt wait first time year</td>\n",
       "    </tr>\n",
       "    <tr>\n",
       "      <th>29127</th>\n",
       "      <td>0</td>\n",
       "      <td>ate @user isz that youuu?ðððððð...</td>\n",
       "      <td>ate isz youuu</td>\n",
       "    </tr>\n",
       "    <tr>\n",
       "      <th>29128</th>\n",
       "      <td>0</td>\n",
       "      <td>to see nina turner on the airwaves trying to w...</td>\n",
       "      <td>see nina turner airwave trying wrap mantle gen...</td>\n",
       "    </tr>\n",
       "    <tr>\n",
       "      <th>29129</th>\n",
       "      <td>0</td>\n",
       "      <td>listening to sad songs on a monday morning otw...</td>\n",
       "      <td>listening sad song monday morning otw work sad</td>\n",
       "    </tr>\n",
       "    <tr>\n",
       "      <th>29130</th>\n",
       "      <td>0</td>\n",
       "      <td>thank you @user for you follow</td>\n",
       "      <td>thank follow</td>\n",
       "    </tr>\n",
       "  </tbody>\n",
       "</table>\n",
       "<p>29131 rows × 3 columns</p>\n",
       "</div>"
      ],
      "text/plain": [
       "       label                                              tweet  \\\n",
       "0          0  @user when a father is dysfunctional and is so...   \n",
       "1          0  @user @user thanks for #lyft credit i can't us...   \n",
       "2          0                                bihday your majesty   \n",
       "3          0  #model   i love u take with u all the time in ...   \n",
       "4          0             factsguide: society now    #motivation   \n",
       "...      ...                                                ...   \n",
       "29126      0  off fishing tomorrow @user carnt wait first ti...   \n",
       "29127      0  ate @user isz that youuu?ðððððð...   \n",
       "29128      0  to see nina turner on the airwaves trying to w...   \n",
       "29129      0  listening to sad songs on a monday morning otw...   \n",
       "29130      0                     thank you @user for you follow   \n",
       "\n",
       "                                           cleaned_tweet  \n",
       "0      father dysfunctional selfish drag kid dysfunct...  \n",
       "1      thanks lyft credit cannot use offer wheelchair...  \n",
       "2                                         bihday majesty  \n",
       "3                                   model love take time  \n",
       "4                          factsguide society motivation  \n",
       "...                                                  ...  \n",
       "29126        fishing tomorrow carnt wait first time year  \n",
       "29127                                      ate isz youuu  \n",
       "29128  see nina turner airwave trying wrap mantle gen...  \n",
       "29129     listening sad song monday morning otw work sad  \n",
       "29130                                       thank follow  \n",
       "\n",
       "[29131 rows x 3 columns]"
      ]
     },
     "execution_count": 3,
     "metadata": {},
     "output_type": "execute_result"
    }
   ],
   "source": [
    "df = pd.read_csv('Assignment 1\\Hate_Speech_Cleaned.csv')\n",
    "df"
   ]
  },
  {
   "cell_type": "code",
   "execution_count": 4,
   "metadata": {},
   "outputs": [
    {
     "name": "stdout",
     "output_type": "stream",
     "text": [
      "Null values : \n",
      " label             0\n",
      "tweet             0\n",
      "cleaned_tweet    38\n",
      "dtype: int64\n",
      "****************************************\n",
      "Duplicate values :  0\n"
     ]
    }
   ],
   "source": [
    "print(\"Null values : \\n\" , df.isnull().sum())\n",
    "print('*'*40)\n",
    "print(\"Duplicate values : \" , df.duplicated().sum())"
   ]
  },
  {
   "cell_type": "code",
   "execution_count": 5,
   "metadata": {},
   "outputs": [
    {
     "data": {
      "text/plain": [
       "0"
      ]
     },
     "execution_count": 5,
     "metadata": {},
     "output_type": "execute_result"
    }
   ],
   "source": [
    "df.dropna(inplace = True)\n",
    "df.duplicated().sum()"
   ]
  },
  {
   "cell_type": "code",
   "execution_count": 6,
   "metadata": {},
   "outputs": [],
   "source": [
    "x = df['cleaned_tweet']\n",
    "y = df['label']\n",
    "x_train, x_temp, y_train, y_temp = train_test_split(x, y, test_size=0.3, stratify=y ,  random_state=88)\n",
    "x_val, x_test, y_val, y_test = train_test_split(x_temp, y_temp, test_size=0.5 , stratify=y_temp ,random_state=88)"
   ]
  },
  {
   "cell_type": "code",
   "execution_count": 7,
   "metadata": {},
   "outputs": [
    {
     "name": "stdout",
     "output_type": "stream",
     "text": [
      "xtrain shape :  (20365,)\n",
      "ytrain shape :  (20365,)\n",
      "xval shape :  (4364,)\n",
      "yval shape :  (4364,)\n",
      "xtest shape :  (4364,)\n",
      "ytest shape :  (4364,)\n"
     ]
    }
   ],
   "source": [
    "print('xtrain shape : ' ,x_train.shape) \n",
    "print('ytrain shape : ' ,y_train.shape)\n",
    "print('xval shape : ' ,x_val.shape)\n",
    "print('yval shape : ' ,y_val.shape)\n",
    "print('xtest shape : ' ,x_test.shape)\n",
    "print('ytest shape : ' ,y_test.shape)\n"
   ]
  },
  {
   "cell_type": "markdown",
   "metadata": {},
   "source": [
    "## Vectorizing for traditional ML models"
   ]
  },
  {
   "cell_type": "code",
   "execution_count": 8,
   "metadata": {},
   "outputs": [],
   "source": [
    "class VectorizerTransformer(BaseEstimator, TransformerMixin):\n",
    "    def __init__(self, method='tfidf', ngram_range=(1,1), min_df=1, max_df=1.0, embedding_model=None, cnn_model=None):\n",
    "        self.method = method\n",
    "        self.ngram_range = ngram_range\n",
    "        self.min_df = min_df\n",
    "        self.max_df = max_df\n",
    "        self.embedding_model = embedding_model\n",
    "        self.cnn_model = cnn_model\n",
    "        self.vectorizer = None\n",
    "\n",
    "    def fit(self, X, y=None):\n",
    "        if self.method == 'bow':\n",
    "            self.vectorizer = CountVectorizer(ngram_range=self.ngram_range, min_df=self.min_df, max_df=self.max_df)\n",
    "            self.vectorizer.fit(X)\n",
    "        elif self.method == 'tfidf':\n",
    "            self.vectorizer = TfidfVectorizer(ngram_range=self.ngram_range, min_df=self.min_df, max_df=self.max_df)\n",
    "            self.vectorizer.fit(X)\n",
    "        elif self.method in ['word2vec', 'glove', 'fasttext']:\n",
    "            sentences = [x.split() for x in X]\n",
    "            if self.embedding_model is not None:\n",
    "                if not self.embedding_model.wv.key_to_index:  # No vocab yet\n",
    "                    self.embedding_model.build_vocab(sentences)\n",
    "                else:\n",
    "                    self.embedding_model.build_vocab(sentences, update=True)\n",
    "                self.embedding_model.train(sentences, total_examples=len(sentences), epochs=10)\n",
    "\n",
    "        elif self.method == 'cnn':\n",
    "            pass\n",
    "        return self\n",
    "\n",
    "    def transform(self, X, y=None):\n",
    "        if self.method in ['bow', 'tfidf']:\n",
    "            return self.vectorizer.transform(X)\n",
    "        \n",
    "        elif self.method in ['word2vec', 'glove', 'fasttext']:\n",
    "            return np.array([self._average_vector(text.split()) for text in X])\n",
    "\n",
    "        elif self.method == 'cnn':\n",
    "            if self.cnn_model is None:\n",
    "                raise ValueError(\"CNN model must be provided for 'cnn' vectorization.\")\n",
    "            return self.cnn_model.predict(X)\n",
    "\n",
    "    def _average_vector(self, tokens):\n",
    "        valid_tokens = [token for token in tokens if token in self.embedding_model.wv]\n",
    "        if not valid_tokens:\n",
    "            return np.zeros(self.embedding_model.vector_size)\n",
    "        return np.mean([self.embedding_model.wv[token] for token in valid_tokens], axis=0)\n"
   ]
  },
  {
   "cell_type": "markdown",
   "metadata": {},
   "source": [
    "## `Tokenizing & Padding` to Sequence model (RNN , LSTM , GRU)"
   ]
  },
  {
   "cell_type": "markdown",
   "metadata": {},
   "source": [
    "### Choosing suitable `vocab size` that covers 96% of the data and suitable `max padding length` for the tweet lenght"
   ]
  },
  {
   "cell_type": "code",
   "execution_count": 9,
   "metadata": {},
   "outputs": [
    {
     "data": {
      "image/png": "[encoded data removed]",
      "text/plain": [
       "<Figure size 640x480 with 1 Axes>"
      ]
     },
     "metadata": {},
     "output_type": "display_data"
    },
    {
     "name": "stdout",
     "output_type": "stream",
     "text": [
      "Top 23136 words cover 96.00% of total word usage\n"
     ]
    }
   ],
   "source": [
    "tokenizer = Tokenizer(oov_token=\"<OOV>\")\n",
    "tokenizer.fit_on_texts(x_train)\n",
    "\n",
    "word_counts = tokenizer.word_counts\n",
    "sorted_counts = sorted(word_counts.values(), reverse=True)\n",
    "\n",
    "total = sum(sorted_counts)\n",
    "cumulative = np.cumsum(sorted_counts) / total\n",
    "\n",
    "plt.plot(range(len(cumulative)), cumulative)\n",
    "plt.xlabel(\"Top N words\")\n",
    "plt.ylabel(\"Cumulative coverage\")\n",
    "plt.title(\"Vocabulary Coverage Curve\")\n",
    "plt.grid(True)\n",
    "plt.show()\n",
    "\n",
    "coverage = 0.96\n",
    "cutoff = np.argmax(cumulative >= coverage) + 1 \n",
    "print(f\"Top {cutoff} words cover {cumulative[cutoff-1]*100:.2f}% of total word usage\")\n",
    "\n",
    "tokenizer = Tokenizer(num_words=cutoff, oov_token=\"<OOV>\")\n",
    "tokenizer.fit_on_texts(x_train)\n",
    "\n",
    "train_seq = tokenizer.texts_to_sequences(x_train)\n",
    "val_seq = tokenizer.texts_to_sequences(x_val)\n",
    "test_seq = tokenizer.texts_to_sequences(x_test)\n",
    "\n",
    "max_length = 20\n",
    "x_train_padded = pad_sequences(train_seq, maxlen=max_length, padding='post')\n",
    "x_val_padded = pad_sequences(val_seq, maxlen=max_length, padding='post')\n",
    "x_test_padded = pad_sequences(test_seq, maxlen=max_length, padding='post')"
   ]
  },
  {
   "cell_type": "code",
   "execution_count": 10,
   "metadata": {},
   "outputs": [
    {
     "data": {
      "image/png": "[encoded data removed]",
      "text/plain": [
       "<Figure size 1000x600 with 1 Axes>"
      ]
     },
     "metadata": {},
     "output_type": "display_data"
    },
    {
     "name": "stdout",
     "output_type": "stream",
     "text": [
      "Max length: 1238\n",
      "95th percentile: 13\n",
      "Median length: 8\n"
     ]
    }
   ],
   "source": [
    "seq_lengths = [len(seq) for seq in train_seq]\n",
    "\n",
    "plt.figure(figsize=(10, 6))\n",
    "plt.hist(seq_lengths, bins=50, color='skyblue', edgecolor='black')\n",
    "plt.title(\"Distribution of Tweet Lengths (in tokens)\")\n",
    "plt.xlabel(\"Length of tweet\")\n",
    "plt.ylabel(\"Frequency\")\n",
    "plt.grid(True)\n",
    "plt.show()\n",
    "\n",
    "print(f\"Max length: {np.max(seq_lengths)}\")\n",
    "print(f\"95th percentile: {int(np.percentile(seq_lengths, 95))}\")\n",
    "print(f\"Median length: {int(np.median(seq_lengths))}\")"
   ]
  },
  {
   "cell_type": "markdown",
   "metadata": {},
   "source": [
    "## Vectorizing using pre-trained embedding models (Glove - Word2vec - Fasttext)"
   ]
  },
  {
   "cell_type": "markdown",
   "metadata": {},
   "source": [
    "#### Return embedding matrix for the deep learning models"
   ]
  },
  {
   "cell_type": "code",
   "execution_count": 11,
   "metadata": {},
   "outputs": [],
   "source": [
    "def build_embedding_matrix(tokenizer, cutoff , method='glove'):\n",
    "    word_index = tokenizer.word_index\n",
    "    vocab_size = cutoff\n",
    "    \n",
    "    if method == 'glove':\n",
    "        glove_path = \"embeddings_models\\glove\\glove.twitter.27B.100d.txt\"  \n",
    "        print(f\"Loading GloVe embeddings from {glove_path}...\")\n",
    "        embedding_index = {}\n",
    "        with open(glove_path, encoding='utf8') as f:\n",
    "            for line in f:\n",
    "                values = line.split()\n",
    "                word = values[0]\n",
    "                vector = np.asarray(values[1:], dtype='float32')\n",
    "                embedding_index[word] = vector\n",
    "\n",
    "        embedding_dim = len(next(iter(embedding_index.values())))\n",
    "\n",
    "    elif method == 'word2vec':\n",
    "        word2vec_path = \"embeddings_models/word2vec/GoogleNews-vectors-negative300.bin.gz\"\n",
    "        print(f\"Loading Word2Vec embeddings from {word2vec_path}...\")\n",
    "        model = KeyedVectors.load_word2vec_format(word2vec_path, binary=True)\n",
    "        embedding_dim = model.vector_size\n",
    "        embedding_index = model\n",
    "\n",
    "        \n",
    "\n",
    "    elif method == 'fasttext':\n",
    "        ft_path = \"embeddings_models/fasttext/wiki-news-300d-1M.vec/wiki-news-300d-1M.vec\"\n",
    "        print(f\"Loading FastText model from {ft_path}...\")\n",
    "        model = KeyedVectors.load_word2vec_format(ft_path, binary=False)\n",
    "        embedding_dim = model.vector_size\n",
    "        embedding_index = model\n",
    "\n",
    "    else:\n",
    "        raise ValueError(\"Unknown embedding method. Choose 'glove', 'word2vec', or 'fasttext'.\")\n",
    "\n",
    "    # Build the embedding matrix\n",
    "    embedding_matrix = np.zeros((vocab_size + 1, embedding_dim)) \n",
    "\n",
    "    for word, i in word_index.items():\n",
    "        if i > vocab_size:\n",
    "            continue  \n",
    "        if word in embedding_index:\n",
    "            embedding_matrix[i] = embedding_index[word]\n",
    "    \n",
    "    print(f\"Embedding matrix shape: {embedding_matrix.shape}\")\n",
    "    return embedding_matrix\n"
   ]
  },
  {
   "cell_type": "code",
   "execution_count": 12,
   "metadata": {},
   "outputs": [
    {
     "name": "stdout",
     "output_type": "stream",
     "text": [
      "Loading GloVe embeddings from embeddings_models\\glove\\glove.twitter.27B.100d.txt...\n",
      "Embedding matrix shape: (23137, 100)\n",
      "Loading Word2Vec embeddings from embeddings_models/word2vec/GoogleNews-vectors-negative300.bin.gz...\n",
      "Embedding matrix shape: (23137, 300)\n",
      "Loading FastText model from embeddings_models/fasttext/wiki-news-300d-1M.vec/wiki-news-300d-1M.vec...\n",
      "Embedding matrix shape: (23137, 300)\n"
     ]
    }
   ],
   "source": [
    "embedding_matrix_glove = build_embedding_matrix(tokenizer,cutoff=cutoff ,method='glove')\n",
    "embedding_matrix_w2v = build_embedding_matrix(tokenizer, cutoff=cutoff,method='word2vec')\n",
    "embedding_matrix_fasttext = build_embedding_matrix(tokenizer,cutoff=cutoff, method='fasttext')"
   ]
  },
  {
   "cell_type": "markdown",
   "metadata": {},
   "source": [
    "### Defining the embedded layers"
   ]
  },
  {
   "cell_type": "code",
   "execution_count": 13,
   "metadata": {},
   "outputs": [],
   "source": [
    "max_length = 20"
   ]
  },
  {
   "cell_type": "code",
   "execution_count": 14,
   "metadata": {},
   "outputs": [],
   "source": [
    "embedding_layer_glove = Embedding(input_dim=cutoff + 1,\n",
    "                                  output_dim=embedding_matrix_glove.shape[1],\n",
    "                                  weights=[embedding_matrix_glove],\n",
    "                                  input_length=max_length,\n",
    "                                  trainable=True)"
   ]
  },
  {
   "cell_type": "code",
   "execution_count": 15,
   "metadata": {},
   "outputs": [],
   "source": [
    "embedding_layer_w2v = Embedding(input_dim=cutoff + 1,\n",
    "                                  output_dim=embedding_matrix_w2v.shape[1],\n",
    "                                  weights=[embedding_matrix_w2v],\n",
    "                                  input_length=max_length,\n",
    "                                  trainable=True)"
   ]
  },
  {
   "cell_type": "code",
   "execution_count": 16,
   "metadata": {},
   "outputs": [],
   "source": [
    "embedding_layer_fasttext = Embedding(input_dim=cutoff + 1,\n",
    "                                  output_dim=embedding_matrix_fasttext.shape[1],\n",
    "                                  weights=[embedding_matrix_fasttext],\n",
    "                                  input_length=max_length,\n",
    "                                  trainable=True)"
   ]
  },
  {
   "cell_type": "markdown",
   "metadata": {},
   "source": [
    "### Computing class weights"
   ]
  },
  {
   "cell_type": "code",
   "execution_count": 17,
   "metadata": {},
   "outputs": [
    {
     "name": "stdout",
     "output_type": "stream",
     "text": [
      "Class weights:  {0: 0.5365988617200674, 1: 7.3308135349172066}\n"
     ]
    }
   ],
   "source": [
    "class_weight = compute_class_weight('balanced', classes=np.unique(y_train), y=y_train)\n",
    "class_weight_dict = dict(enumerate(class_weight))\n",
    "print(\"Class weights: \", class_weight_dict)"
   ]
  },
  {
   "cell_type": "markdown",
   "metadata": {},
   "source": [
    "# `Modelling`"
   ]
  },
  {
   "cell_type": "code",
   "execution_count": 18,
   "metadata": {},
   "outputs": [],
   "source": [
    "early_stop = EarlyStopping(\n",
    "    monitor='val_loss',    \n",
    "    patience=3,            \n",
    "    restore_best_weights=True  \n",
    ")"
   ]
  },
  {
   "cell_type": "markdown",
   "metadata": {},
   "source": [
    "### BI-directional `Simple RNN` using `glove` embeddings"
   ]
  },
  {
   "cell_type": "code",
   "execution_count": 19,
   "metadata": {},
   "outputs": [
    {
     "name": "stdout",
     "output_type": "stream",
     "text": [
      "Model: \"sequential\"\n",
      "_________________________________________________________________\n",
      " Layer (type)                Output Shape              Param #   \n",
      "=================================================================\n",
      " embedding (Embedding)       (None, 20, 100)           2313700   \n",
      "                                                                 \n",
      " bidirectional (Bidirectiona  (None, 20, 64)           8512      \n",
      " l)                                                              \n",
      "                                                                 \n",
      " dropout (Dropout)           (None, 20, 64)            0         \n",
      "                                                                 \n",
      " global_max_pooling1d (Globa  (None, 64)               0         \n",
      " lMaxPooling1D)                                                  \n",
      "                                                                 \n",
      " dense (Dense)               (None, 16)                1040      \n",
      "                                                                 \n",
      " dropout_1 (Dropout)         (None, 16)                0         \n",
      "                                                                 \n",
      " dense_1 (Dense)             (None, 1)                 17        \n",
      "                                                                 \n",
      "=================================================================\n",
      "Total params: 2,323,269\n",
      "Trainable params: 2,323,269\n",
      "Non-trainable params: 0\n",
      "_________________________________________________________________\n"
     ]
    }
   ],
   "source": [
    "model_RNN = Sequential()\n",
    "model_RNN.add(embedding_layer_glove)\n",
    "model_RNN.add(Bidirectional(SimpleRNN(32, return_sequences=True)))\n",
    "model_RNN.add(Dropout(0.3))\n",
    "model_RNN.add(GlobalMaxPooling1D())\n",
    "model_RNN.add(Dense(16, activation='relu'))\n",
    "model_RNN.add(Dropout(0.2))\n",
    "model_RNN.add(Dense(1, activation='sigmoid'))\n",
    "\n",
    "model_RNN.summary()"
   ]
  },
  {
   "cell_type": "code",
   "execution_count": 20,
   "metadata": {},
   "outputs": [
    {
     "name": "stdout",
     "output_type": "stream",
     "text": [
      "Epoch 1/10\n",
      "637/637 [==============================] - 99s 141ms/step - loss: 0.4600 - accuracy: 0.8019 - val_loss: 0.3837 - val_accuracy: 0.8501\n",
      "Epoch 2/10\n",
      "637/637 [==============================] - 90s 142ms/step - loss: 0.2647 - accuracy: 0.8937 - val_loss: 0.2320 - val_accuracy: 0.9115\n",
      "Epoch 3/10\n",
      "637/637 [==============================] - 93s 146ms/step - loss: 0.1511 - accuracy: 0.9380 - val_loss: 0.2500 - val_accuracy: 0.8934\n",
      "Epoch 4/10\n",
      "637/637 [==============================] - 84s 132ms/step - loss: 0.0865 - accuracy: 0.9662 - val_loss: 0.1651 - val_accuracy: 0.9455\n",
      "Epoch 5/10\n",
      "637/637 [==============================] - 86s 135ms/step - loss: 0.0534 - accuracy: 0.9802 - val_loss: 0.1870 - val_accuracy: 0.9384\n",
      "Epoch 6/10\n",
      "637/637 [==============================] - 87s 137ms/step - loss: 0.0405 - accuracy: 0.9848 - val_loss: 0.2577 - val_accuracy: 0.9145\n",
      "Epoch 7/10\n",
      "637/637 [==============================] - 89s 140ms/step - loss: 0.0311 - accuracy: 0.9884 - val_loss: 0.2145 - val_accuracy: 0.9400\n"
     ]
    }
   ],
   "source": [
    "model_RNN.compile(loss='binary_crossentropy', optimizer='adam', metrics=['accuracy'])\n",
    "history_RNN = model_RNN.fit(x_train_padded, y_train, epochs=10, batch_size=32, validation_data=(x_val_padded, y_val),callbacks=[early_stop] ,class_weight=class_weight_dict,verbose=1)"
   ]
  },
  {
   "cell_type": "code",
   "execution_count": 21,
   "metadata": {},
   "outputs": [
    {
     "name": "stdout",
     "output_type": "stream",
     "text": [
      "637/637 [==============================] - 15s 23ms/step - loss: 0.0417 - accuracy: 0.9867\n",
      "137/137 [==============================] - 3s 24ms/step - loss: 0.1651 - accuracy: 0.9455\n",
      "Train Accuracy: 0.9867419600486755\n",
      "Validation Accuracy: 0.9454628825187683\n"
     ]
    }
   ],
   "source": [
    "train_loss, train_acc = model_RNN.evaluate(x_train_padded, y_train)\n",
    "val_loss, val_acc = model_RNN.evaluate(x_val_padded, y_val)\n",
    "print(f\"Train Accuracy: {train_acc}\")\n",
    "print(f\"Validation Accuracy: {val_acc}\")\n"
   ]
  },
  {
   "cell_type": "code",
   "execution_count": 22,
   "metadata": {},
   "outputs": [
    {
     "name": "stdout",
     "output_type": "stream",
     "text": [
      "137/137 [==============================] - 3s 20ms/step\n",
      "F1-score (RNN)-(glove embedding): 0.7969372923342402\n",
      "                 precision    recall  f1-score   support\n",
      "\n",
      "Not Hate Speech       0.97      0.97      0.97      4066\n",
      "    Hate Speech       0.59      0.65      0.62       298\n",
      "\n",
      "       accuracy                           0.95      4364\n",
      "      macro avg       0.78      0.81      0.80      4364\n",
      "   weighted avg       0.95      0.95      0.95      4364\n",
      "\n"
     ]
    }
   ],
   "source": [
    "y_pred_RNN = model_RNN.predict(x_test_padded)\n",
    "print(\"F1-score (RNN)-(glove embedding):\", f1_score(y_test, (y_pred_RNN > 0.5).astype(int), average='macro'))\n",
    "print(classification_report(y_test, (y_pred_RNN > 0.5).astype(int), target_names=['Not Hate Speech', 'Hate Speech']))"
   ]
  },
  {
   "cell_type": "markdown",
   "metadata": {},
   "source": [
    "### BI-directional `Simple RNN` using `word2vec` embeddings"
   ]
  },
  {
   "cell_type": "code",
   "execution_count": 23,
   "metadata": {},
   "outputs": [
    {
     "name": "stdout",
     "output_type": "stream",
     "text": [
      "Model: \"sequential_1\"\n",
      "_________________________________________________________________\n",
      " Layer (type)                Output Shape              Param #   \n",
      "=================================================================\n",
      " embedding_1 (Embedding)     (None, 20, 300)           6941100   \n",
      "                                                                 \n",
      " bidirectional_1 (Bidirectio  (None, 20, 64)           21312     \n",
      " nal)                                                            \n",
      "                                                                 \n",
      " dropout_2 (Dropout)         (None, 20, 64)            0         \n",
      "                                                                 \n",
      " global_max_pooling1d_1 (Glo  (None, 64)               0         \n",
      " balMaxPooling1D)                                                \n",
      "                                                                 \n",
      " dense_2 (Dense)             (None, 16)                1040      \n",
      "                                                                 \n",
      " dropout_3 (Dropout)         (None, 16)                0         \n",
      "                                                                 \n",
      " dense_3 (Dense)             (None, 1)                 17        \n",
      "                                                                 \n",
      "=================================================================\n",
      "Total params: 6,963,469\n",
      "Trainable params: 6,963,469\n",
      "Non-trainable params: 0\n",
      "_________________________________________________________________\n"
     ]
    }
   ],
   "source": [
    "model2_RNN = Sequential()\n",
    "model2_RNN.add(embedding_layer_w2v)\n",
    "model2_RNN.add(Bidirectional(SimpleRNN(32, return_sequences=True)))\n",
    "model2_RNN.add(Dropout(0.3))\n",
    "model2_RNN.add(GlobalMaxPooling1D())\n",
    "model2_RNN.add(Dense(16, activation='relu'))\n",
    "model2_RNN.add(Dropout(0.2))\n",
    "model2_RNN.add(Dense(1, activation='sigmoid'))\n",
    "\n",
    "model2_RNN.summary()"
   ]
  },
  {
   "cell_type": "code",
   "execution_count": 24,
   "metadata": {},
   "outputs": [
    {
     "name": "stdout",
     "output_type": "stream",
     "text": [
      "Epoch 1/10\n",
      "637/637 [==============================] - 86s 129ms/step - loss: 0.4076 - accuracy: 0.8268 - val_loss: 0.3847 - val_accuracy: 0.8268\n",
      "Epoch 2/10\n",
      "637/637 [==============================] - 84s 132ms/step - loss: 0.1621 - accuracy: 0.9430 - val_loss: 0.1897 - val_accuracy: 0.9299\n",
      "Epoch 3/10\n",
      "637/637 [==============================] - 84s 132ms/step - loss: 0.0759 - accuracy: 0.9739 - val_loss: 0.1566 - val_accuracy: 0.9468\n",
      "Epoch 4/10\n",
      "637/637 [==============================] - 7336s 12s/step - loss: 0.0446 - accuracy: 0.9846 - val_loss: 0.1757 - val_accuracy: 0.9441\n",
      "Epoch 5/10\n",
      "637/637 [==============================] - 37s 59ms/step - loss: 0.0245 - accuracy: 0.9916 - val_loss: 0.2310 - val_accuracy: 0.9283\n",
      "Epoch 6/10\n",
      "637/637 [==============================] - 29s 46ms/step - loss: 0.0204 - accuracy: 0.9925 - val_loss: 0.2060 - val_accuracy: 0.9404\n"
     ]
    }
   ],
   "source": [
    "model2_RNN.compile(loss='binary_crossentropy', optimizer='adam', metrics=['accuracy'])\n",
    "history2_RNN = model2_RNN.fit(x_train_padded, y_train, epochs=10, batch_size=32, validation_data=(x_val_padded, y_val) ,callbacks=[early_stop] ,class_weight=class_weight_dict, verbose=1)"
   ]
  },
  {
   "cell_type": "code",
   "execution_count": 25,
   "metadata": {},
   "outputs": [
    {
     "name": "stdout",
     "output_type": "stream",
     "text": [
      "637/637 [==============================] - 4s 6ms/step - loss: 0.0437 - accuracy: 0.9878\n",
      "137/137 [==============================] - 1s 6ms/step - loss: 0.1566 - accuracy: 0.9468\n",
      "Train Accuracy: 0.9878222346305847\n",
      "Validation Accuracy: 0.9468377828598022\n"
     ]
    }
   ],
   "source": [
    "train_loss, train_acc = model2_RNN.evaluate(x_train_padded, y_train)\n",
    "val_loss, val_acc = model2_RNN.evaluate(x_val_padded, y_val)\n",
    "print(f\"Train Accuracy: {train_acc}\")\n",
    "print(f\"Validation Accuracy: {val_acc}\")"
   ]
  },
  {
   "cell_type": "code",
   "execution_count": 26,
   "metadata": {},
   "outputs": [
    {
     "name": "stdout",
     "output_type": "stream",
     "text": [
      "137/137 [==============================] - 1s 5ms/step\n",
      "F1-score (RNN)-(word2vec embedding): 0.781449458698716\n",
      "                 precision    recall  f1-score   support\n",
      "\n",
      "Not Hate Speech       0.97      0.97      0.97      4066\n",
      "    Hate Speech       0.57      0.62      0.59       298\n",
      "\n",
      "       accuracy                           0.94      4364\n",
      "      macro avg       0.77      0.79      0.78      4364\n",
      "   weighted avg       0.94      0.94      0.94      4364\n",
      "\n"
     ]
    }
   ],
   "source": [
    "y_pred_RNN2 = model2_RNN.predict(x_test_padded)\n",
    "print(\"F1-score (RNN)-(word2vec embedding):\", f1_score(y_test, (y_pred_RNN2 > 0.5).astype(int), average='macro'))\n",
    "print(classification_report(y_test, (y_pred_RNN2 > 0.5).astype(int), target_names=['Not Hate Speech', 'Hate Speech']))"
   ]
  },
  {
   "cell_type": "markdown",
   "metadata": {},
   "source": [
    "### BI-directional `Simple RNN` using `fasttext` embeddings"
   ]
  },
  {
   "cell_type": "code",
   "execution_count": 27,
   "metadata": {},
   "outputs": [
    {
     "name": "stdout",
     "output_type": "stream",
     "text": [
      "Model: \"sequential_2\"\n",
      "_________________________________________________________________\n",
      " Layer (type)                Output Shape              Param #   \n",
      "=================================================================\n",
      " embedding_2 (Embedding)     (None, 20, 300)           6941100   \n",
      "                                                                 \n",
      " bidirectional_2 (Bidirectio  (None, 20, 64)           21312     \n",
      " nal)                                                            \n",
      "                                                                 \n",
      " dropout_4 (Dropout)         (None, 20, 64)            0         \n",
      "                                                                 \n",
      " global_max_pooling1d_2 (Glo  (None, 64)               0         \n",
      " balMaxPooling1D)                                                \n",
      "                                                                 \n",
      " dense_4 (Dense)             (None, 16)                1040      \n",
      "                                                                 \n",
      " dropout_5 (Dropout)         (None, 16)                0         \n",
      "                                                                 \n",
      " dense_5 (Dense)             (None, 1)                 17        \n",
      "                                                                 \n",
      "=================================================================\n",
      "Total params: 6,963,469\n",
      "Trainable params: 6,963,469\n",
      "Non-trainable params: 0\n",
      "_________________________________________________________________\n"
     ]
    }
   ],
   "source": [
    "model3_RNN = Sequential()\n",
    "model3_RNN.add(embedding_layer_fasttext)\n",
    "model3_RNN.add(Bidirectional(SimpleRNN(32, return_sequences=True)))\n",
    "model3_RNN.add(Dropout(0.3))\n",
    "model3_RNN.add(GlobalMaxPooling1D())\n",
    "model3_RNN.add(Dense(16, activation='relu'))\n",
    "model3_RNN.add(Dropout(0.2))\n",
    "model3_RNN.add(Dense(1, activation='sigmoid'))\n",
    "\n",
    "model3_RNN.summary()"
   ]
  },
  {
   "cell_type": "code",
   "execution_count": 28,
   "metadata": {},
   "outputs": [
    {
     "name": "stdout",
     "output_type": "stream",
     "text": [
      "Epoch 1/10\n",
      "637/637 [==============================] - 26s 40ms/step - loss: 0.3936 - accuracy: 0.8458 - val_loss: 0.3815 - val_accuracy: 0.8423\n",
      "Epoch 2/10\n",
      "637/637 [==============================] - 25s 39ms/step - loss: 0.1384 - accuracy: 0.9516 - val_loss: 0.3012 - val_accuracy: 0.8655\n",
      "Epoch 3/10\n",
      "637/637 [==============================] - 24s 38ms/step - loss: 0.0640 - accuracy: 0.9772 - val_loss: 0.1821 - val_accuracy: 0.9326\n",
      "Epoch 4/10\n",
      "637/637 [==============================] - 25s 39ms/step - loss: 0.0380 - accuracy: 0.9872 - val_loss: 0.1744 - val_accuracy: 0.9489\n",
      "Epoch 5/10\n",
      "637/637 [==============================] - 24s 38ms/step - loss: 0.0217 - accuracy: 0.9927 - val_loss: 0.2154 - val_accuracy: 0.9386\n",
      "Epoch 6/10\n",
      "637/637 [==============================] - 25s 39ms/step - loss: 0.0166 - accuracy: 0.9942 - val_loss: 0.2253 - val_accuracy: 0.9432\n",
      "Epoch 7/10\n",
      "637/637 [==============================] - 25s 39ms/step - loss: 0.0206 - accuracy: 0.9932 - val_loss: 0.2229 - val_accuracy: 0.9347\n"
     ]
    }
   ],
   "source": [
    "model3_RNN.compile(loss='binary_crossentropy', optimizer='adam', metrics=['accuracy'])\n",
    "history3_RNN = model3_RNN.fit(x_train_padded, y_train, epochs=10, batch_size=32, validation_data=(x_val_padded, y_val),callbacks=[early_stop] ,class_weight=class_weight_dict, verbose=1)"
   ]
  },
  {
   "cell_type": "code",
   "execution_count": 29,
   "metadata": {},
   "outputs": [
    {
     "name": "stdout",
     "output_type": "stream",
     "text": [
      "637/637 [==============================] - 4s 6ms/step - loss: 0.0155 - accuracy: 0.9962\n",
      "137/137 [==============================] - 1s 6ms/step - loss: 0.1744 - accuracy: 0.9489\n",
      "Train Accuracy: 0.996169924736023\n",
      "Validation Accuracy: 0.9489001035690308\n"
     ]
    }
   ],
   "source": [
    "train_loss, train_acc = model3_RNN.evaluate(x_train_padded, y_train)\n",
    "val_loss, val_acc = model3_RNN.evaluate(x_val_padded, y_val)\n",
    "print(f\"Train Accuracy: {train_acc}\")\n",
    "print(f\"Validation Accuracy: {val_acc}\")"
   ]
  },
  {
   "cell_type": "code",
   "execution_count": 30,
   "metadata": {},
   "outputs": [
    {
     "name": "stdout",
     "output_type": "stream",
     "text": [
      "137/137 [==============================] - 1s 5ms/step\n",
      "F1-score (RNN)-(fasttext embedding): 0.784774733354854\n",
      "                 precision    recall  f1-score   support\n",
      "\n",
      "Not Hate Speech       0.97      0.97      0.97      4066\n",
      "    Hate Speech       0.59      0.61      0.60       298\n",
      "\n",
      "       accuracy                           0.94      4364\n",
      "      macro avg       0.78      0.79      0.78      4364\n",
      "   weighted avg       0.95      0.94      0.94      4364\n",
      "\n"
     ]
    }
   ],
   "source": [
    "y_pred_RNN3 = model3_RNN.predict(x_test_padded)\n",
    "print(\"F1-score (RNN)-(fasttext embedding):\", f1_score(y_test, (y_pred_RNN3 > 0.5).astype(int), average='macro'))\n",
    "print(classification_report(y_test, (y_pred_RNN3 > 0.5).astype(int), target_names=['Not Hate Speech', 'Hate Speech']))"
   ]
  },
  {
   "cell_type": "markdown",
   "metadata": {},
   "source": [
    "### BI-directional `LSTM` using `glove` embeddings"
   ]
  },
  {
   "cell_type": "code",
   "execution_count": 31,
   "metadata": {},
   "outputs": [
    {
     "name": "stdout",
     "output_type": "stream",
     "text": [
      "Model: \"sequential_3\"\n",
      "_________________________________________________________________\n",
      " Layer (type)                Output Shape              Param #   \n",
      "=================================================================\n",
      " embedding (Embedding)       (None, 20, 100)           2313700   \n",
      "                                                                 \n",
      " bidirectional_3 (Bidirectio  (None, 20, 64)           34048     \n",
      " nal)                                                            \n",
      "                                                                 \n",
      " dropout_6 (Dropout)         (None, 20, 64)            0         \n",
      "                                                                 \n",
      " global_max_pooling1d_3 (Glo  (None, 64)               0         \n",
      " balMaxPooling1D)                                                \n",
      "                                                                 \n",
      " dense_6 (Dense)             (None, 16)                1040      \n",
      "                                                                 \n",
      " dropout_7 (Dropout)         (None, 16)                0         \n",
      "                                                                 \n",
      " dense_7 (Dense)             (None, 1)                 17        \n",
      "                                                                 \n",
      "=================================================================\n",
      "Total params: 2,348,805\n",
      "Trainable params: 2,348,805\n",
      "Non-trainable params: 0\n",
      "_________________________________________________________________\n"
     ]
    }
   ],
   "source": [
    "model_LSTM = Sequential()\n",
    "model_LSTM.add(embedding_layer_glove)\n",
    "model_LSTM.add(Bidirectional(LSTM(32, return_sequences=True)))\n",
    "model_LSTM.add(Dropout(0.3))\n",
    "model_LSTM.add(GlobalMaxPooling1D())\n",
    "model_LSTM.add(Dense(16, activation='relu'))\n",
    "model_LSTM.add(Dropout(0.2))\n",
    "model_LSTM.add(Dense(1, activation='sigmoid'))\n",
    "\n",
    "model_LSTM.summary()"
   ]
  },
  {
   "cell_type": "code",
   "execution_count": 32,
   "metadata": {},
   "outputs": [
    {
     "name": "stdout",
     "output_type": "stream",
     "text": [
      "Epoch 1/10\n",
      "637/637 [==============================] - 11s 12ms/step - loss: 0.2082 - accuracy: 0.9271 - val_loss: 0.1751 - val_accuracy: 0.9329\n",
      "Epoch 2/10\n",
      "637/637 [==============================] - 7s 11ms/step - loss: 0.0762 - accuracy: 0.9703 - val_loss: 0.2437 - val_accuracy: 0.9083\n",
      "Epoch 3/10\n",
      "637/637 [==============================] - 7s 11ms/step - loss: 0.0489 - accuracy: 0.9799 - val_loss: 0.2062 - val_accuracy: 0.9200\n",
      "Epoch 4/10\n",
      "637/637 [==============================] - 7s 12ms/step - loss: 0.0342 - accuracy: 0.9881 - val_loss: 0.2227 - val_accuracy: 0.9326\n"
     ]
    }
   ],
   "source": [
    "model_LSTM.compile(loss='binary_crossentropy', optimizer='adam', metrics=['accuracy'])\n",
    "history_LSTM = model_LSTM.fit(x_train_padded, y_train, epochs=10, batch_size=32, validation_data=(x_val_padded, y_val), callbacks=[early_stop] ,class_weight=class_weight_dict, verbose=1)"
   ]
  },
  {
   "cell_type": "code",
   "execution_count": 33,
   "metadata": {},
   "outputs": [
    {
     "name": "stdout",
     "output_type": "stream",
     "text": [
      "637/637 [==============================] - 3s 5ms/step - loss: 0.0765 - accuracy: 0.9752\n",
      "137/137 [==============================] - 1s 4ms/step - loss: 0.1751 - accuracy: 0.9329\n",
      "Train Accuracy: 0.9752025604248047\n",
      "Validation Accuracy: 0.9328597784042358\n"
     ]
    }
   ],
   "source": [
    "train_loss, train_acc = model_LSTM.evaluate(x_train_padded, y_train)\n",
    "val_loss, val_acc = model_LSTM.evaluate(x_val_padded, y_val)\n",
    "print(f\"Train Accuracy: {train_acc}\")\n",
    "print(f\"Validation Accuracy: {val_acc}\")"
   ]
  },
  {
   "cell_type": "code",
   "execution_count": 34,
   "metadata": {},
   "outputs": [
    {
     "name": "stdout",
     "output_type": "stream",
     "text": [
      "137/137 [==============================] - 1s 3ms/step\n",
      "F1-score (LSTM)-(glove embedding): 0.771744444735976\n",
      "                 precision    recall  f1-score   support\n",
      "\n",
      "Not Hate Speech       0.98      0.95      0.96      4066\n",
      "    Hate Speech       0.49      0.71      0.58       298\n",
      "\n",
      "       accuracy                           0.93      4364\n",
      "      macro avg       0.74      0.83      0.77      4364\n",
      "   weighted avg       0.94      0.93      0.94      4364\n",
      "\n"
     ]
    }
   ],
   "source": [
    "y_pred_LSTM = model_LSTM.predict(x_test_padded)\n",
    "print(\"F1-score (LSTM)-(glove embedding):\", f1_score(y_test, (y_pred_LSTM > 0.5).astype(int), average='macro'))\n",
    "print(classification_report(y_test, (y_pred_LSTM > 0.5).astype(int), target_names=['Not Hate Speech', 'Hate Speech']))"
   ]
  },
  {
   "cell_type": "markdown",
   "metadata": {},
   "source": [
    "### BI-directional `LSTM` using `word2vec` embeddings"
   ]
  },
  {
   "cell_type": "code",
   "execution_count": 35,
   "metadata": {},
   "outputs": [
    {
     "name": "stdout",
     "output_type": "stream",
     "text": [
      "Model: \"sequential_4\"\n",
      "_________________________________________________________________\n",
      " Layer (type)                Output Shape              Param #   \n",
      "=================================================================\n",
      " embedding_1 (Embedding)     (None, 20, 300)           6941100   \n",
      "                                                                 \n",
      " bidirectional_4 (Bidirectio  (None, 20, 64)           85248     \n",
      " nal)                                                            \n",
      "                                                                 \n",
      " dropout_8 (Dropout)         (None, 20, 64)            0         \n",
      "                                                                 \n",
      " global_max_pooling1d_4 (Glo  (None, 64)               0         \n",
      " balMaxPooling1D)                                                \n",
      "                                                                 \n",
      " dense_8 (Dense)             (None, 16)                1040      \n",
      "                                                                 \n",
      " dropout_9 (Dropout)         (None, 16)                0         \n",
      "                                                                 \n",
      " dense_9 (Dense)             (None, 1)                 17        \n",
      "                                                                 \n",
      "=================================================================\n",
      "Total params: 7,027,405\n",
      "Trainable params: 7,027,405\n",
      "Non-trainable params: 0\n",
      "_________________________________________________________________\n"
     ]
    }
   ],
   "source": [
    "model2_LSTM = Sequential()\n",
    "model2_LSTM.add(embedding_layer_w2v)\n",
    "model2_LSTM.add(Bidirectional(LSTM(32, return_sequences=True)))\n",
    "model2_LSTM.add(Dropout(0.3))\n",
    "model2_LSTM.add(GlobalMaxPooling1D())\n",
    "model2_LSTM.add(Dense(16, activation='relu'))\n",
    "model2_LSTM.add(Dropout(0.2))\n",
    "model2_LSTM.add(Dense(1, activation='sigmoid'))\n",
    "\n",
    "model2_LSTM.summary()"
   ]
  },
  {
   "cell_type": "code",
   "execution_count": 36,
   "metadata": {},
   "outputs": [
    {
     "name": "stdout",
     "output_type": "stream",
     "text": [
      "Epoch 1/10\n",
      "637/637 [==============================] - 14s 19ms/step - loss: 0.1573 - accuracy: 0.9469 - val_loss: 0.1806 - val_accuracy: 0.9258\n",
      "Epoch 2/10\n",
      "637/637 [==============================] - 11s 17ms/step - loss: 0.0653 - accuracy: 0.9742 - val_loss: 0.1956 - val_accuracy: 0.9292\n",
      "Epoch 3/10\n",
      "637/637 [==============================] - 11s 17ms/step - loss: 0.0328 - accuracy: 0.9874 - val_loss: 0.2035 - val_accuracy: 0.9356\n",
      "Epoch 4/10\n",
      "637/637 [==============================] - 10s 16ms/step - loss: 0.0193 - accuracy: 0.9929 - val_loss: 0.5361 - val_accuracy: 0.8311\n"
     ]
    }
   ],
   "source": [
    "model2_LSTM.compile(loss='binary_crossentropy', optimizer='adam', metrics=['accuracy'])\n",
    "history2_LSTM = model2_LSTM.fit(x_train_padded, y_train, epochs=10, batch_size=32, validation_data=(x_val_padded, y_val),callbacks=[early_stop],class_weight=class_weight_dict, verbose=1)"
   ]
  },
  {
   "cell_type": "code",
   "execution_count": 37,
   "metadata": {},
   "outputs": [
    {
     "name": "stdout",
     "output_type": "stream",
     "text": [
      "637/637 [==============================] - 3s 4ms/step - loss: 0.0652 - accuracy: 0.9762\n",
      "137/137 [==============================] - 1s 4ms/step - loss: 0.1806 - accuracy: 0.9258\n",
      "Train Accuracy: 0.976184606552124\n",
      "Validation Accuracy: 0.9257562160491943\n"
     ]
    }
   ],
   "source": [
    "train_loss, train_acc = model2_LSTM.evaluate(x_train_padded, y_train)\n",
    "val_loss, val_acc = model2_LSTM.evaluate(x_val_padded, y_val)\n",
    "print(f\"Train Accuracy: {train_acc}\")\n",
    "print(f\"Validation Accuracy: {val_acc}\")"
   ]
  },
  {
   "cell_type": "code",
   "execution_count": 38,
   "metadata": {},
   "outputs": [
    {
     "name": "stdout",
     "output_type": "stream",
     "text": [
      "137/137 [==============================] - 1s 4ms/step\n",
      "F1-score (LSTM)-(word2vec embedding): 0.7547063881708527\n",
      "                 precision    recall  f1-score   support\n",
      "\n",
      "Not Hate Speech       0.98      0.94      0.96      4066\n",
      "    Hate Speech       0.45      0.71      0.55       298\n",
      "\n",
      "       accuracy                           0.92      4364\n",
      "      macro avg       0.72      0.82      0.75      4364\n",
      "   weighted avg       0.94      0.92      0.93      4364\n",
      "\n"
     ]
    }
   ],
   "source": [
    "y_pred_LSTM2 = model2_LSTM.predict(x_test_padded)\n",
    "print(\"F1-score (LSTM)-(word2vec embedding):\", f1_score(y_test, (y_pred_LSTM2 > 0.5).astype(int), average='macro'))\n",
    "print(classification_report(y_test, (y_pred_LSTM2 > 0.5).astype(int), target_names=['Not Hate Speech', 'Hate Speech']))"
   ]
  },
  {
   "cell_type": "markdown",
   "metadata": {},
   "source": [
    "### BI-directional  `LSTM` using `fasttext` embeddings"
   ]
  },
  {
   "cell_type": "code",
   "execution_count": 39,
   "metadata": {},
   "outputs": [
    {
     "name": "stdout",
     "output_type": "stream",
     "text": [
      "Model: \"sequential_5\"\n",
      "_________________________________________________________________\n",
      " Layer (type)                Output Shape              Param #   \n",
      "=================================================================\n",
      " embedding_2 (Embedding)     (None, 20, 300)           6941100   \n",
      "                                                                 \n",
      " bidirectional_5 (Bidirectio  (None, 20, 64)           85248     \n",
      " nal)                                                            \n",
      "                                                                 \n",
      " dropout_10 (Dropout)        (None, 20, 64)            0         \n",
      "                                                                 \n",
      " global_max_pooling1d_5 (Glo  (None, 64)               0         \n",
      " balMaxPooling1D)                                                \n",
      "                                                                 \n",
      " dense_10 (Dense)            (None, 16)                1040      \n",
      "                                                                 \n",
      " dropout_11 (Dropout)        (None, 16)                0         \n",
      "                                                                 \n",
      " dense_11 (Dense)            (None, 1)                 17        \n",
      "                                                                 \n",
      "=================================================================\n",
      "Total params: 7,027,405\n",
      "Trainable params: 7,027,405\n",
      "Non-trainable params: 0\n",
      "_________________________________________________________________\n"
     ]
    }
   ],
   "source": [
    "model3_LSTM = Sequential()\n",
    "model3_LSTM.add(embedding_layer_fasttext)\n",
    "model3_LSTM.add(Bidirectional(LSTM(32, return_sequences=True)))\n",
    "model3_LSTM.add(Dropout(0.3))\n",
    "model3_LSTM.add(GlobalMaxPooling1D())\n",
    "model3_LSTM.add(Dense(16, activation='relu'))\n",
    "model3_LSTM.add(Dropout(0.2))\n",
    "model3_LSTM.add(Dense(1, activation='sigmoid'))\n",
    "\n",
    "model3_LSTM.summary()"
   ]
  },
  {
   "cell_type": "code",
   "execution_count": 40,
   "metadata": {},
   "outputs": [
    {
     "name": "stdout",
     "output_type": "stream",
     "text": [
      "Epoch 1/10\n",
      "637/637 [==============================] - 13s 17ms/step - loss: 0.1523 - accuracy: 0.9423 - val_loss: 0.2200 - val_accuracy: 0.9207\n",
      "Epoch 2/10\n",
      "637/637 [==============================] - 10s 16ms/step - loss: 0.0514 - accuracy: 0.9837 - val_loss: 0.2263 - val_accuracy: 0.9143\n",
      "Epoch 3/10\n",
      "637/637 [==============================] - 10s 16ms/step - loss: 0.0284 - accuracy: 0.9911 - val_loss: 0.1874 - val_accuracy: 0.9432\n",
      "Epoch 4/10\n",
      "637/637 [==============================] - 10s 16ms/step - loss: 0.0199 - accuracy: 0.9941 - val_loss: 0.2161 - val_accuracy: 0.9352\n",
      "Epoch 5/10\n",
      "637/637 [==============================] - 10s 16ms/step - loss: 0.0108 - accuracy: 0.9968 - val_loss: 0.2442 - val_accuracy: 0.9475\n",
      "Epoch 6/10\n",
      "637/637 [==============================] - 10s 16ms/step - loss: 0.0066 - accuracy: 0.9981 - val_loss: 0.2651 - val_accuracy: 0.9487\n"
     ]
    }
   ],
   "source": [
    "model3_LSTM.compile(loss='binary_crossentropy', optimizer='adam', metrics=['accuracy'])\n",
    "history3_LSTM = model3_LSTM.fit(x_train_padded, y_train, epochs=10, batch_size=32, validation_data=(x_val_padded, y_val), callbacks=[early_stop],class_weight=class_weight_dict, verbose=1)"
   ]
  },
  {
   "cell_type": "code",
   "execution_count": 41,
   "metadata": {},
   "outputs": [
    {
     "name": "stdout",
     "output_type": "stream",
     "text": [
      "637/637 [==============================] - 3s 4ms/step - loss: 0.0205 - accuracy: 0.9949\n",
      "137/137 [==============================] - 1s 4ms/step - loss: 0.1874 - accuracy: 0.9432\n",
      "Train Accuracy: 0.994942307472229\n",
      "Validation Accuracy: 0.9431713819503784\n"
     ]
    }
   ],
   "source": [
    "train_loss, train_acc = model3_LSTM.evaluate(x_train_padded, y_train)\n",
    "val_loss, val_acc = model3_LSTM.evaluate(x_val_padded, y_val)\n",
    "print(f\"Train Accuracy: {train_acc}\")\n",
    "print(f\"Validation Accuracy: {val_acc}\")"
   ]
  },
  {
   "cell_type": "code",
   "execution_count": 42,
   "metadata": {},
   "outputs": [
    {
     "name": "stdout",
     "output_type": "stream",
     "text": [
      "137/137 [==============================] - 1s 3ms/step\n",
      "F1-score (LSTM)-(fasttext embedding): 0.7724055206026958\n",
      "                 precision    recall  f1-score   support\n",
      "\n",
      "Not Hate Speech       0.97      0.96      0.97      4066\n",
      "    Hate Speech       0.53      0.63      0.58       298\n",
      "\n",
      "       accuracy                           0.94      4364\n",
      "      macro avg       0.75      0.80      0.77      4364\n",
      "   weighted avg       0.94      0.94      0.94      4364\n",
      "\n"
     ]
    }
   ],
   "source": [
    "y_pred_LSTM3 = model3_LSTM.predict(x_test_padded)\n",
    "print(\"F1-score (LSTM)-(fasttext embedding):\", f1_score(y_test, (y_pred_LSTM3 > 0.5).astype(int), average='macro'))\n",
    "print(classification_report(y_test, (y_pred_LSTM3 > 0.5).astype(int), target_names=['Not Hate Speech', 'Hate Speech']))"
   ]
  },
  {
   "cell_type": "code",
   "execution_count": 43,
   "metadata": {},
   "outputs": [
    {
     "name": "stdout",
     "output_type": "stream",
     "text": [
      "Model: \"sequential_6\"\n",
      "_________________________________________________________________\n",
      " Layer (type)                Output Shape              Param #   \n",
      "=================================================================\n",
      " embedding_2 (Embedding)     (None, 20, 300)           6941100   \n",
      "                                                                 \n",
      " bidirectional_6 (Bidirectio  (None, 20, 64)           85248     \n",
      " nal)                                                            \n",
      "                                                                 \n",
      " dropout_12 (Dropout)        (None, 20, 64)            0         \n",
      "                                                                 \n",
      " global_max_pooling1d_6 (Glo  (None, 64)               0         \n",
      " balMaxPooling1D)                                                \n",
      "                                                                 \n",
      " dense_12 (Dense)            (None, 8)                 520       \n",
      "                                                                 \n",
      " dropout_13 (Dropout)        (None, 8)                 0         \n",
      "                                                                 \n",
      " dense_13 (Dense)            (None, 1)                 9         \n",
      "                                                                 \n",
      "=================================================================\n",
      "Total params: 7,026,877\n",
      "Trainable params: 7,026,877\n",
      "Non-trainable params: 0\n",
      "_________________________________________________________________\n"
     ]
    }
   ],
   "source": [
    "model4_LSTM = Sequential()\n",
    "model4_LSTM.add(embedding_layer_fasttext)\n",
    "model4_LSTM.add(Bidirectional(LSTM(32, return_sequences=True)))\n",
    "model4_LSTM.add(Dropout(0.5))\n",
    "model4_LSTM.add(GlobalMaxPooling1D())\n",
    "model4_LSTM.add(Dense(8, activation='relu'))\n",
    "model4_LSTM.add(Dropout(0.3))\n",
    "model4_LSTM.add(Dense(1, activation='sigmoid'))\n",
    "\n",
    "model4_LSTM.summary()"
   ]
  },
  {
   "cell_type": "code",
   "execution_count": 44,
   "metadata": {},
   "outputs": [
    {
     "name": "stdout",
     "output_type": "stream",
     "text": [
      "Epoch 1/10\n",
      "637/637 [==============================] - 13s 17ms/step - loss: 0.1663 - accuracy: 0.8959 - val_loss: 0.3791 - val_accuracy: 0.8334\n",
      "Epoch 2/10\n",
      "637/637 [==============================] - 10s 16ms/step - loss: 0.0703 - accuracy: 0.9880 - val_loss: 0.2427 - val_accuracy: 0.8978\n",
      "Epoch 3/10\n",
      "637/637 [==============================] - 10s 16ms/step - loss: 0.0668 - accuracy: 0.9849 - val_loss: 0.1703 - val_accuracy: 0.9413\n",
      "Epoch 4/10\n",
      "637/637 [==============================] - 10s 16ms/step - loss: 0.0471 - accuracy: 0.9908 - val_loss: 0.1782 - val_accuracy: 0.9457\n",
      "Epoch 5/10\n",
      "637/637 [==============================] - 11s 17ms/step - loss: 0.0295 - accuracy: 0.9953 - val_loss: 0.2038 - val_accuracy: 0.9505\n",
      "Epoch 6/10\n",
      "637/637 [==============================] - 11s 17ms/step - loss: 0.0345 - accuracy: 0.9932 - val_loss: 0.2135 - val_accuracy: 0.9464\n"
     ]
    }
   ],
   "source": [
    "model4_LSTM.compile(loss='binary_crossentropy', optimizer='adam', metrics=['accuracy'])\n",
    "history4_LSTM = model4_LSTM.fit(x_train_padded, y_train, epochs=10, batch_size=32, validation_data=(x_val_padded, y_val), callbacks=[early_stop],class_weight=class_weight_dict, verbose=1)"
   ]
  },
  {
   "cell_type": "code",
   "execution_count": 45,
   "metadata": {},
   "outputs": [
    {
     "name": "stdout",
     "output_type": "stream",
     "text": [
      "637/637 [==============================] - 3s 4ms/step - loss: 0.0312 - accuracy: 0.9944\n",
      "137/137 [==============================] - 1s 4ms/step - loss: 0.1703 - accuracy: 0.9413\n",
      "Train Accuracy: 0.9944021701812744\n",
      "Validation Accuracy: 0.9413382411003113\n"
     ]
    }
   ],
   "source": [
    "train_loss, train_acc = model4_LSTM.evaluate(x_train_padded, y_train)\n",
    "val_loss, val_acc = model4_LSTM.evaluate(x_val_padded, y_val)\n",
    "print(f\"Train Accuracy: {train_acc}\")\n",
    "print(f\"Validation Accuracy: {val_acc}\")"
   ]
  },
  {
   "cell_type": "code",
   "execution_count": 46,
   "metadata": {},
   "outputs": [
    {
     "name": "stdout",
     "output_type": "stream",
     "text": [
      "137/137 [==============================] - 1s 4ms/step\n",
      "F1-score (LSTM)-(fasttext embedding): 0.7754524342596172\n",
      "                 precision    recall  f1-score   support\n",
      "\n",
      "Not Hate Speech       0.98      0.95      0.96      4066\n",
      "    Hate Speech       0.52      0.68      0.59       298\n",
      "\n",
      "       accuracy                           0.93      4364\n",
      "      macro avg       0.75      0.82      0.78      4364\n",
      "   weighted avg       0.94      0.93      0.94      4364\n",
      "\n"
     ]
    }
   ],
   "source": [
    "y_pred_LSTM4 = model4_LSTM.predict(x_test_padded)\n",
    "print(\"F1-score (LSTM)-(fasttext embedding):\", f1_score(y_test, (y_pred_LSTM4 > 0.5).astype(int), average='macro'))\n",
    "print(classification_report(y_test, (y_pred_LSTM4 > 0.5).astype(int), target_names=['Not Hate Speech', 'Hate Speech']))"
   ]
  },
  {
   "cell_type": "code",
   "execution_count": 47,
   "metadata": {},
   "outputs": [
    {
     "name": "stdout",
     "output_type": "stream",
     "text": [
      "Model: \"sequential_7\"\n",
      "_________________________________________________________________\n",
      " Layer (type)                Output Shape              Param #   \n",
      "=================================================================\n",
      " embedding_2 (Embedding)     (None, 20, 300)           6941100   \n",
      "                                                                 \n",
      " bidirectional_7 (Bidirectio  (None, 20, 32)           40576     \n",
      " nal)                                                            \n",
      "                                                                 \n",
      " dropout_14 (Dropout)        (None, 20, 32)            0         \n",
      "                                                                 \n",
      " global_max_pooling1d_7 (Glo  (None, 32)               0         \n",
      " balMaxPooling1D)                                                \n",
      "                                                                 \n",
      " dense_14 (Dense)            (None, 8)                 264       \n",
      "                                                                 \n",
      " dropout_15 (Dropout)        (None, 8)                 0         \n",
      "                                                                 \n",
      " dense_15 (Dense)            (None, 1)                 9         \n",
      "                                                                 \n",
      "=================================================================\n",
      "Total params: 6,981,949\n",
      "Trainable params: 6,981,949\n",
      "Non-trainable params: 0\n",
      "_________________________________________________________________\n"
     ]
    }
   ],
   "source": [
    "model5_LSTM = Sequential()\n",
    "model5_LSTM.add(embedding_layer_fasttext)\n",
    "model5_LSTM.add(Bidirectional(LSTM(16, return_sequences=True)))\n",
    "model5_LSTM.add(Dropout(0.5))\n",
    "model5_LSTM.add(GlobalMaxPooling1D())\n",
    "model5_LSTM.add(Dense(8, activation='relu'))\n",
    "model5_LSTM.add(Dropout(0.3))\n",
    "model5_LSTM.add(Dense(1, activation='sigmoid'))\n",
    "\n",
    "model5_LSTM.summary()"
   ]
  },
  {
   "cell_type": "code",
   "execution_count": 48,
   "metadata": {},
   "outputs": [
    {
     "name": "stdout",
     "output_type": "stream",
     "text": [
      "Epoch 1/10\n",
      "637/637 [==============================] - 14s 18ms/step - loss: 0.1496 - accuracy: 0.9627 - val_loss: 0.2747 - val_accuracy: 0.8873\n",
      "Epoch 2/10\n",
      "637/637 [==============================] - 11s 17ms/step - loss: 0.0467 - accuracy: 0.9850 - val_loss: 0.1638 - val_accuracy: 0.9473\n",
      "Epoch 3/10\n",
      "637/637 [==============================] - 11s 17ms/step - loss: 0.0292 - accuracy: 0.9920 - val_loss: 0.2508 - val_accuracy: 0.9035\n",
      "Epoch 4/10\n",
      "637/637 [==============================] - 11s 17ms/step - loss: 0.0316 - accuracy: 0.9900 - val_loss: 0.1946 - val_accuracy: 0.9402\n",
      "Epoch 5/10\n",
      "637/637 [==============================] - 11s 17ms/step - loss: 0.0195 - accuracy: 0.9938 - val_loss: 0.2372 - val_accuracy: 0.9368\n"
     ]
    }
   ],
   "source": [
    "model5_LSTM.compile(loss='binary_crossentropy', optimizer='adam', metrics=['accuracy'])\n",
    "history5_LSTM = model5_LSTM.fit(x_train_padded, y_train, epochs=10, batch_size=32, validation_data=(x_val_padded, y_val), callbacks=[early_stop],class_weight=class_weight_dict, verbose=1)"
   ]
  },
  {
   "cell_type": "code",
   "execution_count": 49,
   "metadata": {},
   "outputs": [
    {
     "name": "stdout",
     "output_type": "stream",
     "text": [
      "637/637 [==============================] - 3s 4ms/step - loss: 0.0223 - accuracy: 0.9957\n",
      "137/137 [==============================] - 1s 5ms/step - loss: 0.1638 - accuracy: 0.9473\n",
      "Train Accuracy: 0.9957279562950134\n",
      "Validation Accuracy: 0.9472960829734802\n",
      "137/137 [==============================] - 1s 4ms/step\n",
      "F1-score (LSTM)-(fasttext embedding): 0.7815396005979967\n",
      "                 precision    recall  f1-score   support\n",
      "\n",
      "Not Hate Speech       0.97      0.97      0.97      4066\n",
      "    Hate Speech       0.59      0.59      0.59       298\n",
      "\n",
      "       accuracy                           0.94      4364\n",
      "      macro avg       0.78      0.78      0.78      4364\n",
      "   weighted avg       0.94      0.94      0.94      4364\n",
      "\n"
     ]
    }
   ],
   "source": [
    "train_loss, train_acc = model5_LSTM.evaluate(x_train_padded, y_train)\n",
    "val_loss, val_acc = model5_LSTM.evaluate(x_val_padded, y_val)\n",
    "print(f\"Train Accuracy: {train_acc}\")\n",
    "print(f\"Validation Accuracy: {val_acc}\")\n",
    "y_pred_LSTM5 = model5_LSTM.predict(x_test_padded)\n",
    "print(\"F1-score (LSTM)-(fasttext embedding):\", f1_score(y_test, (y_pred_LSTM5 > 0.5).astype(int), average='macro'))\n",
    "print(classification_report(y_test, (y_pred_LSTM5 > 0.5).astype(int), target_names=['Not Hate Speech', 'Hate Speech']))"
   ]
  },
  {
   "cell_type": "markdown",
   "metadata": {},
   "source": [
    "# `*Highest Score*`"
   ]
  },
  {
   "cell_type": "code",
   "execution_count": 50,
   "metadata": {},
   "outputs": [
    {
     "name": "stdout",
     "output_type": "stream",
     "text": [
      "Model: \"sequential_8\"\n",
      "_________________________________________________________________\n",
      " Layer (type)                Output Shape              Param #   \n",
      "=================================================================\n",
      " embedding_2 (Embedding)     (None, 20, 300)           6941100   \n",
      "                                                                 \n",
      " bidirectional_8 (Bidirectio  (None, 20, 256)          439296    \n",
      " nal)                                                            \n",
      "                                                                 \n",
      " dropout_16 (Dropout)        (None, 20, 256)           0         \n",
      "                                                                 \n",
      " global_max_pooling1d_8 (Glo  (None, 256)              0         \n",
      " balMaxPooling1D)                                                \n",
      "                                                                 \n",
      " dense_16 (Dense)            (None, 64)                16448     \n",
      "                                                                 \n",
      " batch_normalization (BatchN  (None, 64)               256       \n",
      " ormalization)                                                   \n",
      "                                                                 \n",
      " dropout_17 (Dropout)        (None, 64)                0         \n",
      "                                                                 \n",
      " dense_17 (Dense)            (None, 1)                 65        \n",
      "                                                                 \n",
      "=================================================================\n",
      "Total params: 7,397,165\n",
      "Trainable params: 7,397,037\n",
      "Non-trainable params: 128\n",
      "_________________________________________________________________\n"
     ]
    }
   ],
   "source": [
    "model6_LSTM = Sequential()\n",
    "model6_LSTM.add(embedding_layer_fasttext)\n",
    "model6_LSTM.add(Bidirectional(LSTM(128, return_sequences=True)))\n",
    "model6_LSTM.add(Dropout(0.5))\n",
    "model6_LSTM.add(GlobalMaxPooling1D())\n",
    "model6_LSTM.add(Dense(64, activation='relu'))\n",
    "model6_LSTM.add(BatchNormalization())\n",
    "model6_LSTM.add(Dropout(0.3))\n",
    "model6_LSTM.add(Dense(1, activation='sigmoid'))\n",
    "\n",
    "model6_LSTM.summary()"
   ]
  },
  {
   "cell_type": "code",
   "execution_count": 51,
   "metadata": {},
   "outputs": [
    {
     "name": "stdout",
     "output_type": "stream",
     "text": [
      "Epoch 1/10\n",
      "637/637 [==============================] - 14s 19ms/step - loss: 0.0959 - accuracy: 0.9659 - val_loss: 0.1602 - val_accuracy: 0.9539\n",
      "Epoch 2/10\n",
      "637/637 [==============================] - 11s 18ms/step - loss: 0.0561 - accuracy: 0.9838 - val_loss: 0.1544 - val_accuracy: 0.9516\n",
      "Epoch 3/10\n",
      "637/637 [==============================] - 11s 18ms/step - loss: 0.0298 - accuracy: 0.9907 - val_loss: 0.2118 - val_accuracy: 0.9555\n",
      "Epoch 4/10\n",
      "637/637 [==============================] - 11s 18ms/step - loss: 0.0260 - accuracy: 0.9933 - val_loss: 0.1925 - val_accuracy: 0.9549\n",
      "Epoch 5/10\n",
      "637/637 [==============================] - 11s 18ms/step - loss: 0.0202 - accuracy: 0.9949 - val_loss: 0.1971 - val_accuracy: 0.9516\n"
     ]
    }
   ],
   "source": [
    "model6_LSTM.compile(loss='binary_crossentropy', optimizer='adam', metrics=['accuracy'])\n",
    "history6_LSTM = model6_LSTM.fit(x_train_padded, y_train, epochs=10, batch_size=32, validation_data=(x_val_padded, y_val), callbacks=[early_stop],class_weight=class_weight_dict, verbose=1)"
   ]
  },
  {
   "cell_type": "code",
   "execution_count": 52,
   "metadata": {},
   "outputs": [
    {
     "name": "stdout",
     "output_type": "stream",
     "text": [
      "637/637 [==============================] - 3s 5ms/step - loss: 0.0172 - accuracy: 0.9980\n",
      "137/137 [==============================] - 1s 5ms/step - loss: 0.1544 - accuracy: 0.9516\n",
      "Train Accuracy: 0.9980358481407166\n",
      "Validation Accuracy: 0.9516498446464539\n",
      "137/137 [==============================] - 1s 4ms/step\n",
      "F1-score (LSTM)-(fasttext embedding): 0.804134997219268\n",
      "                 precision    recall  f1-score   support\n",
      "\n",
      "Not Hate Speech       0.97      0.98      0.97      4066\n",
      "    Hate Speech       0.67      0.60      0.63       298\n",
      "\n",
      "       accuracy                           0.95      4364\n",
      "      macro avg       0.82      0.79      0.80      4364\n",
      "   weighted avg       0.95      0.95      0.95      4364\n",
      "\n"
     ]
    }
   ],
   "source": [
    "train_loss, train_acc = model6_LSTM.evaluate(x_train_padded, y_train)\n",
    "val_loss, val_acc = model6_LSTM.evaluate(x_val_padded, y_val)\n",
    "print(f\"Train Accuracy: {train_acc}\")\n",
    "print(f\"Validation Accuracy: {val_acc}\")\n",
    "y_pred_LSTM6 = model6_LSTM.predict(x_test_padded)\n",
    "print(\"F1-score (LSTM)-(fasttext embedding):\", f1_score(y_test, (y_pred_LSTM6 > 0.5).astype(int), average='macro'))\n",
    "print(classification_report(y_test, (y_pred_LSTM6 > 0.5).astype(int), target_names=['Not Hate Speech', 'Hate Speech']))"
   ]
  },
  {
   "cell_type": "markdown",
   "metadata": {},
   "source": [
    "### Bi-directional `GRU` using `glove` embeddings"
   ]
  },
  {
   "cell_type": "code",
   "execution_count": 53,
   "metadata": {},
   "outputs": [
    {
     "name": "stdout",
     "output_type": "stream",
     "text": [
      "Model: \"sequential_9\"\n",
      "_________________________________________________________________\n",
      " Layer (type)                Output Shape              Param #   \n",
      "=================================================================\n",
      " embedding (Embedding)       (None, 20, 100)           2313700   \n",
      "                                                                 \n",
      " bidirectional_9 (Bidirectio  (None, 20, 64)           25728     \n",
      " nal)                                                            \n",
      "                                                                 \n",
      " dropout_18 (Dropout)        (None, 20, 64)            0         \n",
      "                                                                 \n",
      " global_max_pooling1d_9 (Glo  (None, 64)               0         \n",
      " balMaxPooling1D)                                                \n",
      "                                                                 \n",
      " dense_18 (Dense)            (None, 16)                1040      \n",
      "                                                                 \n",
      " dropout_19 (Dropout)        (None, 16)                0         \n",
      "                                                                 \n",
      " dense_19 (Dense)            (None, 1)                 17        \n",
      "                                                                 \n",
      "=================================================================\n",
      "Total params: 2,340,485\n",
      "Trainable params: 2,340,485\n",
      "Non-trainable params: 0\n",
      "_________________________________________________________________\n"
     ]
    }
   ],
   "source": [
    "model_GRU = Sequential()\n",
    "model_GRU.add(embedding_layer_glove)  \n",
    "model_GRU.add(Bidirectional(GRU(32, return_sequences=True)))\n",
    "model_GRU.add(Dropout(0.3))\n",
    "model_GRU.add(GlobalMaxPooling1D())\n",
    "model_GRU.add(Dense(16, activation='relu'))\n",
    "model_GRU.add(Dropout(0.2))\n",
    "model_GRU.add(Dense(1, activation='sigmoid'))\n",
    "\n",
    "model_GRU.summary()"
   ]
  },
  {
   "cell_type": "code",
   "execution_count": 54,
   "metadata": {},
   "outputs": [
    {
     "name": "stdout",
     "output_type": "stream",
     "text": [
      "Epoch 1/10\n",
      "637/637 [==============================] - 9s 12ms/step - loss: 0.1623 - accuracy: 0.9339 - val_loss: 0.2007 - val_accuracy: 0.9219\n",
      "Epoch 2/10\n",
      "637/637 [==============================] - 7s 10ms/step - loss: 0.0611 - accuracy: 0.9774 - val_loss: 0.2068 - val_accuracy: 0.9230\n",
      "Epoch 3/10\n",
      "637/637 [==============================] - 7s 10ms/step - loss: 0.0368 - accuracy: 0.9856 - val_loss: 0.2382 - val_accuracy: 0.9173\n",
      "Epoch 4/10\n",
      "637/637 [==============================] - 7s 10ms/step - loss: 0.0231 - accuracy: 0.9909 - val_loss: 0.1949 - val_accuracy: 0.9528\n",
      "Epoch 5/10\n",
      "637/637 [==============================] - 7s 10ms/step - loss: 0.0192 - accuracy: 0.9925 - val_loss: 0.2346 - val_accuracy: 0.9303\n",
      "Epoch 6/10\n",
      "637/637 [==============================] - 7s 10ms/step - loss: 0.0129 - accuracy: 0.9951 - val_loss: 0.2732 - val_accuracy: 0.9271\n",
      "Epoch 7/10\n",
      "637/637 [==============================] - 7s 10ms/step - loss: 0.0107 - accuracy: 0.9960 - val_loss: 0.3142 - val_accuracy: 0.9175\n"
     ]
    }
   ],
   "source": [
    "model_GRU.compile(loss='binary_crossentropy', optimizer='adam', metrics=['accuracy'])\n",
    "history_GRU = model_GRU.fit(x_train_padded, y_train, epochs=10, batch_size=32, validation_data=(x_val_padded, y_val), callbacks=[early_stop],class_weight=class_weight_dict, verbose=1)"
   ]
  },
  {
   "cell_type": "code",
   "execution_count": 55,
   "metadata": {},
   "outputs": [
    {
     "name": "stdout",
     "output_type": "stream",
     "text": [
      "637/637 [==============================] - 3s 4ms/step - loss: 0.0163 - accuracy: 0.9951\n",
      "137/137 [==============================] - 1s 4ms/step - loss: 0.1949 - accuracy: 0.9528\n",
      "Train Accuracy: 0.995089590549469\n",
      "Validation Accuracy: 0.9527956247329712\n"
     ]
    }
   ],
   "source": [
    "train_loss, train_acc = model_GRU.evaluate(x_train_padded, y_train)\n",
    "val_loss, val_acc = model_GRU.evaluate(x_val_padded, y_val)\n",
    "print(f\"Train Accuracy: {train_acc}\")\n",
    "print(f\"Validation Accuracy: {val_acc}\")"
   ]
  },
  {
   "cell_type": "code",
   "execution_count": 56,
   "metadata": {},
   "outputs": [
    {
     "name": "stdout",
     "output_type": "stream",
     "text": [
      "137/137 [==============================] - 1s 3ms/step\n",
      "F1-score (GRU)-(glove embedding): 0.8024585976552142\n",
      "                 precision    recall  f1-score   support\n",
      "\n",
      "Not Hate Speech       0.97      0.97      0.97      4066\n",
      "    Hate Speech       0.64      0.62      0.63       298\n",
      "\n",
      "       accuracy                           0.95      4364\n",
      "      macro avg       0.81      0.80      0.80      4364\n",
      "   weighted avg       0.95      0.95      0.95      4364\n",
      "\n"
     ]
    }
   ],
   "source": [
    "y_pred_GRU = model_GRU.predict(x_test_padded)\n",
    "print(\"F1-score (GRU)-(glove embedding):\", f1_score(y_test, (y_pred_GRU > 0.5).astype(int), average='macro'))\n",
    "print(classification_report(y_test, (y_pred_GRU > 0.5).astype(int), target_names=['Not Hate Speech', 'Hate Speech']))"
   ]
  },
  {
   "cell_type": "code",
   "execution_count": 57,
   "metadata": {},
   "outputs": [
    {
     "name": "stdout",
     "output_type": "stream",
     "text": [
      "Model: \"sequential_10\"\n",
      "_________________________________________________________________\n",
      " Layer (type)                Output Shape              Param #   \n",
      "=================================================================\n",
      " embedding (Embedding)       (None, 20, 100)           2313700   \n",
      "                                                                 \n",
      " bidirectional_10 (Bidirecti  (None, 64)               25728     \n",
      " onal)                                                           \n",
      "                                                                 \n",
      " dense_20 (Dense)            (None, 1)                 65        \n",
      "                                                                 \n",
      "=================================================================\n",
      "Total params: 2,339,493\n",
      "Trainable params: 2,339,493\n",
      "Non-trainable params: 0\n",
      "_________________________________________________________________\n"
     ]
    }
   ],
   "source": [
    "model1_GRU = Sequential()\n",
    "model1_GRU.add(embedding_layer_glove)  \n",
    "model1_GRU.add(Bidirectional(GRU(32)))\n",
    "model1_GRU.add(Dense(1, activation='sigmoid'))\n",
    "\n",
    "model1_GRU.summary()"
   ]
  },
  {
   "cell_type": "code",
   "execution_count": 58,
   "metadata": {},
   "outputs": [
    {
     "name": "stdout",
     "output_type": "stream",
     "text": [
      "Epoch 1/10\n",
      "637/637 [==============================] - 9s 11ms/step - loss: 0.1144 - accuracy: 0.9671 - val_loss: 0.2274 - val_accuracy: 0.9212\n",
      "Epoch 2/10\n",
      "637/637 [==============================] - 6s 10ms/step - loss: 0.0308 - accuracy: 0.9892 - val_loss: 0.4165 - val_accuracy: 0.8634\n",
      "Epoch 3/10\n",
      "637/637 [==============================] - 6s 10ms/step - loss: 0.0160 - accuracy: 0.9926 - val_loss: 0.2527 - val_accuracy: 0.9413\n",
      "Epoch 4/10\n",
      "637/637 [==============================] - 6s 10ms/step - loss: 0.0098 - accuracy: 0.9962 - val_loss: 0.2742 - val_accuracy: 0.9478\n"
     ]
    }
   ],
   "source": [
    "model1_GRU.compile(loss='binary_crossentropy', optimizer='adam', metrics=['accuracy'])\n",
    "history2_GRU = model1_GRU.fit(x_train_padded, y_train, epochs=10, batch_size=32, validation_data=(x_val_padded, y_val), callbacks=[early_stop],class_weight=class_weight_dict, verbose=1)"
   ]
  },
  {
   "cell_type": "code",
   "execution_count": 59,
   "metadata": {},
   "outputs": [
    {
     "name": "stdout",
     "output_type": "stream",
     "text": [
      "637/637 [==============================] - 3s 4ms/step - loss: 0.0459 - accuracy: 0.9844\n",
      "137/137 [==============================] - 1s 4ms/step - loss: 0.2274 - accuracy: 0.9212\n",
      "Train Accuracy: 0.9844340682029724\n",
      "Validation Accuracy: 0.9211732149124146\n",
      "137/137 [==============================] - 1s 4ms/step\n",
      "F1-score (GRU)-(glove embedding): 0.7387267777380564\n",
      "                 precision    recall  f1-score   support\n",
      "\n",
      "Not Hate Speech       0.98      0.93      0.95      4066\n",
      "    Hate Speech       0.42      0.71      0.53       298\n",
      "\n",
      "       accuracy                           0.91      4364\n",
      "      macro avg       0.70      0.82      0.74      4364\n",
      "   weighted avg       0.94      0.91      0.92      4364\n",
      "\n"
     ]
    }
   ],
   "source": [
    "train_loss, train_acc = model1_GRU.evaluate(x_train_padded, y_train)\n",
    "val_loss, val_acc = model1_GRU.evaluate(x_val_padded, y_val)\n",
    "print(f\"Train Accuracy: {train_acc}\")\n",
    "print(f\"Validation Accuracy: {val_acc}\")\n",
    "y_pred_GRU1 = model1_GRU.predict(x_test_padded)\n",
    "print(\"F1-score (GRU)-(glove embedding):\", f1_score(y_test, (y_pred_GRU1 > 0.5).astype(int), average='macro'))\n",
    "print(classification_report(y_test, (y_pred_GRU1 > 0.5).astype(int), target_names=['Not Hate Speech', 'Hate Speech']))"
   ]
  },
  {
   "cell_type": "markdown",
   "metadata": {},
   "source": [
    "### Bi-directional `GRU` using `word2vec` embeddings"
   ]
  },
  {
   "cell_type": "code",
   "execution_count": 60,
   "metadata": {},
   "outputs": [
    {
     "name": "stdout",
     "output_type": "stream",
     "text": [
      "Model: \"sequential_11\"\n",
      "_________________________________________________________________\n",
      " Layer (type)                Output Shape              Param #   \n",
      "=================================================================\n",
      " embedding_1 (Embedding)     (None, 20, 300)           6941100   \n",
      "                                                                 \n",
      " bidirectional_11 (Bidirecti  (None, 20, 64)           64128     \n",
      " onal)                                                           \n",
      "                                                                 \n",
      " dropout_20 (Dropout)        (None, 20, 64)            0         \n",
      "                                                                 \n",
      " global_max_pooling1d_10 (Gl  (None, 64)               0         \n",
      " obalMaxPooling1D)                                               \n",
      "                                                                 \n",
      " dense_21 (Dense)            (None, 16)                1040      \n",
      "                                                                 \n",
      " batch_normalization_1 (Batc  (None, 16)               64        \n",
      " hNormalization)                                                 \n",
      "                                                                 \n",
      " dropout_21 (Dropout)        (None, 16)                0         \n",
      "                                                                 \n",
      " dense_22 (Dense)            (None, 1)                 17        \n",
      "                                                                 \n",
      "=================================================================\n",
      "Total params: 7,006,349\n",
      "Trainable params: 7,006,317\n",
      "Non-trainable params: 32\n",
      "_________________________________________________________________\n"
     ]
    }
   ],
   "source": [
    "model2_GRU = Sequential()\n",
    "model2_GRU.add(embedding_layer_w2v)\n",
    "model2_GRU.add(Bidirectional(GRU(32, return_sequences=True)))\n",
    "model2_GRU.add(Dropout(0.5))\n",
    "model2_GRU.add(GlobalMaxPooling1D())\n",
    "model2_GRU.add(Dense(16, activation='relu'))\n",
    "model2_GRU.add(BatchNormalization())\n",
    "model2_GRU.add(Dropout(0.3))\n",
    "model2_GRU.add(Dense(1, activation='sigmoid'))\n",
    "\n",
    "model2_GRU.summary()"
   ]
  },
  {
   "cell_type": "code",
   "execution_count": 61,
   "metadata": {},
   "outputs": [
    {
     "name": "stdout",
     "output_type": "stream",
     "text": [
      "Epoch 1/10\n",
      "637/637 [==============================] - 13s 18ms/step - loss: 0.2148 - accuracy: 0.8811 - val_loss: 0.2255 - val_accuracy: 0.9306\n",
      "Epoch 2/10\n",
      "637/637 [==============================] - 11s 17ms/step - loss: 0.0888 - accuracy: 0.9727 - val_loss: 0.1877 - val_accuracy: 0.9363\n",
      "Epoch 3/10\n",
      "637/637 [==============================] - 10s 16ms/step - loss: 0.0666 - accuracy: 0.9822 - val_loss: 0.1765 - val_accuracy: 0.9400\n",
      "Epoch 4/10\n",
      "637/637 [==============================] - 10s 16ms/step - loss: 0.0525 - accuracy: 0.9851 - val_loss: 0.1677 - val_accuracy: 0.9386\n",
      "Epoch 5/10\n",
      "637/637 [==============================] - 10s 16ms/step - loss: 0.0417 - accuracy: 0.9881 - val_loss: 0.1449 - val_accuracy: 0.9507\n",
      "Epoch 6/10\n",
      "637/637 [==============================] - 10s 16ms/step - loss: 0.0442 - accuracy: 0.9876 - val_loss: 0.1862 - val_accuracy: 0.9452\n",
      "Epoch 7/10\n",
      "637/637 [==============================] - 11s 17ms/step - loss: 0.0434 - accuracy: 0.9871 - val_loss: 0.1709 - val_accuracy: 0.9503\n",
      "Epoch 8/10\n",
      "637/637 [==============================] - 11s 18ms/step - loss: 0.0283 - accuracy: 0.9918 - val_loss: 0.1835 - val_accuracy: 0.9475\n"
     ]
    }
   ],
   "source": [
    "model2_GRU.compile(loss='binary_crossentropy', optimizer='adam', metrics=['accuracy'])\n",
    "history2_GRU = model2_GRU.fit(x_train_padded, y_train, epochs=10, batch_size=32, validation_data=(x_val_padded, y_val), callbacks=[early_stop],class_weight=class_weight_dict, verbose=1)"
   ]
  },
  {
   "cell_type": "code",
   "execution_count": 62,
   "metadata": {},
   "outputs": [
    {
     "name": "stdout",
     "output_type": "stream",
     "text": [
      "637/637 [==============================] - 3s 4ms/step - loss: 0.0260 - accuracy: 0.9958\n",
      "137/137 [==============================] - 1s 5ms/step - loss: 0.1449 - accuracy: 0.9507\n",
      "Train Accuracy: 0.9958261847496033\n",
      "Validation Accuracy: 0.9507332444190979\n",
      "137/137 [==============================] - 1s 4ms/step\n",
      "F1-score (GRU)-(word2vec embedding): 0.7931532413362831\n",
      "                 precision    recall  f1-score   support\n",
      "\n",
      "Not Hate Speech       0.97      0.98      0.97      4066\n",
      "    Hate Speech       0.66      0.57      0.61       298\n",
      "\n",
      "       accuracy                           0.95      4364\n",
      "      macro avg       0.82      0.77      0.79      4364\n",
      "   weighted avg       0.95      0.95      0.95      4364\n",
      "\n"
     ]
    }
   ],
   "source": [
    "train_loss, train_acc = model2_GRU.evaluate(x_train_padded,y_train)\n",
    "val_loss, val_acc = model2_GRU.evaluate(x_val_padded,y_val)\n",
    "print(f\"Train Accuracy: {train_acc}\")\n",
    "print(f\"Validation Accuracy: {val_acc}\")\n",
    "y_pred_GRU2 = model2_GRU.predict(x_test_padded)\n",
    "print(\"F1-score (GRU)-(word2vec embedding):\", f1_score(y_test, (y_pred_GRU2 > 0.5).astype(int), average='macro'))\n",
    "print(classification_report(y_test, (y_pred_GRU2 > 0.5).astype(int), target_names=['Not Hate Speech', 'Hate Speech']))"
   ]
  },
  {
   "cell_type": "code",
   "execution_count": 63,
   "metadata": {},
   "outputs": [
    {
     "name": "stdout",
     "output_type": "stream",
     "text": [
      "Model: \"sequential_12\"\n",
      "_________________________________________________________________\n",
      " Layer (type)                Output Shape              Param #   \n",
      "=================================================================\n",
      " embedding_1 (Embedding)     (None, 20, 300)           6941100   \n",
      "                                                                 \n",
      " bidirectional_12 (Bidirecti  (None, 20, 64)           64128     \n",
      " onal)                                                           \n",
      "                                                                 \n",
      " dropout_22 (Dropout)        (None, 20, 64)            0         \n",
      "                                                                 \n",
      " global_max_pooling1d_11 (Gl  (None, 64)               0         \n",
      " obalMaxPooling1D)                                               \n",
      "                                                                 \n",
      " dense_23 (Dense)            (None, 16)                1040      \n",
      "                                                                 \n",
      " dropout_23 (Dropout)        (None, 16)                0         \n",
      "                                                                 \n",
      " dense_24 (Dense)            (None, 1)                 17        \n",
      "                                                                 \n",
      "=================================================================\n",
      "Total params: 7,006,285\n",
      "Trainable params: 7,006,285\n",
      "Non-trainable params: 0\n",
      "_________________________________________________________________\n"
     ]
    }
   ],
   "source": [
    "model3_GRU = Sequential()\n",
    "model3_GRU.add(embedding_layer_w2v)  \n",
    "model3_GRU.add(Bidirectional(GRU(32, return_sequences=True)))\n",
    "model3_GRU.add(Dropout(0.3))\n",
    "model3_GRU.add(GlobalMaxPooling1D())\n",
    "model3_GRU.add(Dense(16, activation='relu'))\n",
    "model3_GRU.add(Dropout(0.2))\n",
    "model3_GRU.add(Dense(1, activation='sigmoid'))\n",
    "\n",
    "model3_GRU.summary()"
   ]
  },
  {
   "cell_type": "code",
   "execution_count": 64,
   "metadata": {},
   "outputs": [
    {
     "name": "stdout",
     "output_type": "stream",
     "text": [
      "Epoch 1/10\n",
      "637/637 [==============================] - 13s 18ms/step - loss: 0.1028 - accuracy: 0.9718 - val_loss: 0.2261 - val_accuracy: 0.9184\n",
      "Epoch 2/10\n",
      "637/637 [==============================] - 11s 17ms/step - loss: 0.0288 - accuracy: 0.9910 - val_loss: 0.2184 - val_accuracy: 0.9285\n",
      "Epoch 3/10\n",
      "637/637 [==============================] - 11s 17ms/step - loss: 0.0186 - accuracy: 0.9939 - val_loss: 0.2218 - val_accuracy: 0.9423\n",
      "Epoch 4/10\n",
      "637/637 [==============================] - 10s 16ms/step - loss: 0.0102 - accuracy: 0.9972 - val_loss: 0.2331 - val_accuracy: 0.9445\n",
      "Epoch 5/10\n",
      "637/637 [==============================] - 10s 16ms/step - loss: 0.0092 - accuracy: 0.9962 - val_loss: 0.2533 - val_accuracy: 0.9407\n"
     ]
    }
   ],
   "source": [
    "model3_GRU.compile(loss='binary_crossentropy', optimizer='adam', metrics=['accuracy'])\n",
    "history3_GRU = model3_GRU.fit(x_train_padded, y_train, epochs=10, batch_size=32, validation_data=(x_val_padded, y_val), callbacks=[early_stop],class_weight=class_weight_dict, verbose=1)"
   ]
  },
  {
   "cell_type": "code",
   "execution_count": 65,
   "metadata": {},
   "outputs": [
    {
     "name": "stdout",
     "output_type": "stream",
     "text": [
      "637/637 [==============================] - 3s 4ms/step - loss: 0.0161 - accuracy: 0.9942\n",
      "137/137 [==============================] - 1s 4ms/step - loss: 0.2184 - accuracy: 0.9285\n",
      "Train Accuracy: 0.9941566586494446\n",
      "Validation Accuracy: 0.9285059571266174\n",
      "137/137 [==============================] - 1s 4ms/step\n",
      "F1-score (GRU)-(word2vec embedding): 0.7611306503931254\n",
      "                 precision    recall  f1-score   support\n",
      "\n",
      "Not Hate Speech       0.98      0.95      0.96      4066\n",
      "    Hate Speech       0.48      0.67      0.56       298\n",
      "\n",
      "       accuracy                           0.93      4364\n",
      "      macro avg       0.73      0.81      0.76      4364\n",
      "   weighted avg       0.94      0.93      0.93      4364\n",
      "\n"
     ]
    }
   ],
   "source": [
    "train_loss, train_acc = model3_GRU.evaluate(x_train_padded,y_train)\n",
    "val_loss, val_acc = model3_GRU.evaluate(x_val_padded,y_val)\n",
    "print(f\"Train Accuracy: {train_acc}\")\n",
    "print(f\"Validation Accuracy: {val_acc}\")\n",
    "y_pred_GRU3 = model3_GRU.predict(x_test_padded)\n",
    "print(\"F1-score (GRU)-(word2vec embedding):\", f1_score(y_test, (y_pred_GRU3 > 0.5).astype(int), average='macro'))\n",
    "print(classification_report(y_test, (y_pred_GRU3 > 0.5).astype(int), target_names=['Not Hate Speech', 'Hate Speech']))"
   ]
  },
  {
   "cell_type": "markdown",
   "metadata": {},
   "source": [
    "------------------------------------------------------------------------------------------------------------------------------------------------------------"
   ]
  },
  {
   "cell_type": "markdown",
   "metadata": {},
   "source": [
    "# ` *Results & Conclusion* `"
   ]
  },
  {
   "cell_type": "markdown",
   "metadata": {},
   "source": [
    "### 1- The highest model score is --> `BI-directional LSTM` using pre-trained `Fasttext` embeddings with : \n",
    "####        `i.`   Train Accuracy : 0.998\n",
    "####        `ii.`  Validation Accuracy: 0.951\n",
    "####        `iii.` F1-Score : 0.80\n",
    "\n",
    "### 2- Most of the models are mild overfitting as the data's small regarding our models, Although I used lots of : \n",
    "####        - `BatchNormalization( )`\n",
    "####        - `Multiple Dropout( )`\n",
    "####        - `GlobalAverage1D( )`\n",
    "####        - `Adding classweights`\n",
    "####        - `Calling an Early_stopping`\n",
    "####        - `I put maximum padding length`\n",
    "####        - `I put maximum number of words to cover 96% of the corpus`\n",
    "\n",
    "### 3- I think the `Traditional ML.` models have `better` performance on this data the `(RNN,GRU,LSTM)` \n",
    "#### - Best f1-score in Traditional ML`(Random Forest)` using `TF_IDF` vectorizer --> 83% \n",
    "#### - Best f1-score in `(LSTM)` using `Fasttext` pre-traind embeddings --> 80%\n",
    "#### - Due to : \n",
    "#####       `i.`  The Data is very small\n",
    "#####       `ii.` The Data is highly imbalnced\n",
    "#####       `iii.` The complexity of the RNNS  "
   ]
  },
  {
   "cell_type": "markdown",
   "metadata": {},
   "source": [
    "----------------------------------------------------------------------------------------------------------------------------------------------------------\n",
    "\n",
    "#### Done!"
   ]
  }
 ],
 "metadata": {
  "kernelspec": {
   "display_name": "Python 3",
   "language": "python",
   "name": "python3"
  },
  "language_info": {
   "codemirror_mode": {
    "name": "ipython",
    "version": 3
   },
   "file_extension": ".py",
   "mimetype": "text/x-python",
   "name": "python",
   "nbconvert_exporter": "python",
   "pygments_lexer": "ipython3",
   "version": "3.9.0"
  }
 },
 "nbformat": 4,
 "nbformat_minor": 4
}
